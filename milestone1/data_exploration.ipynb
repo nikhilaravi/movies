{
 "cells": [
  {
   "cell_type": "code",
   "execution_count": 9,
   "metadata": {
    "collapsed": false
   },
   "outputs": [],
   "source": [
    "# NOTE: Run this in Python 2.7\n",
    "import requests\n",
    "import urllib\n",
    "import imdb"
   ]
  },
  {
   "cell_type": "markdown",
   "metadata": {},
   "source": [
    "### Team MovieGnat\n",
    "\n",
    "### Milestone 1: Getting to know your data, due Wednesday, April 5, 2017\n",
    "\n",
    "In the beginning you should get acquainted with the data sources and do some EDA. Sign up for the TMDb [API](https://www.themoviedb.org/documentation/api), and try to download the poster of your favorite movie from within your notebook. Compare the genre entries of IMDb and TMDb for this movie and see if they are the same. Think about and write down some questions that you would like to answer in the following weeks. Keep the storytelling aspect of your final report in mind and do some pen and paper sketches about the visualizations you would like to produce. Include photographs of those sketches in your notebook. \n",
    "\n",
    "Most of the time a data scientist spends on a project is spend on cleaning the data. We are lucky that the data we have is already pretty clean. The Python interface to the IMDb ftp files does a lot of the additional work of cleaning as well. However, you will notice that the genre list for each movie from both databases can have different lengths. This needs to be changed in order to train a model to predict the movie genre. It is up to you to think about possible ways to address this problem and to implement one of them. There is no absolute right answer here. It depends on your interests and which questions you have in mind for the project. \n",
    "\n",
    "Optionally, you could also scrape additional data sources, such as Wikipedia, to obtain plot summaries. That data may give you additional useful features for genera classification. \n",
    "\n",
    "To guide your decision process, provide at least one visualization of how often genres are mentioned together in pairs. Your visualization should clearly show if a horror romance is more likely to occur in the data than a drama romance.\n",
    "\n",
    "The notebook to submit for this milestone needs to at least include:\n",
    "\n",
    "- API code to access the genre and movie poster path of your favorite movie\n",
    "- Genre for this movie listed by TMDb and IMDb\n",
    "- A list of the 10 most popular movies of 2016 from TMDb and their genre obtained via the API\n",
    "- Comments on what challenges you see for predicting movie genre based on the data you have, and how to address them \n",
    "- Code to generate the movie genre pairs and a suitable visualization of the result\n",
    "- Additional visualization sketches and EDA with a focus on movie genres\n",
    "- A list of questions you could answer with this and related data. Get creative here!\n",
    "\n",
    "The EDA questions do not necessarily have to tie into the modeling part later on. Think freely about things that might be interesting, like which actors are very specific to a genre? Are action movies more prone to producing sequels than romances? However, as you keep the focus on movie genres, think also about correlations you might discover that can help building features from the metadata for prediction. Is the length of a movie title correlated with genre?\n"
   ]
  },
  {
   "cell_type": "code",
   "execution_count": 108,
   "metadata": {
    "collapsed": false
   },
   "outputs": [],
   "source": [
    "def requestResults(url):\n",
    "    r = requests.get(BASE_URL + url + \"&api_key=\" + API_KEY)\n",
    "    return r.json()\n",
    "\n",
    "# Constants\n",
    "BASE_URL = \"https://api.themoviedb.org/3/\"\n",
    "API_KEY = \"9767d17413ec9d9729c2cca238df02da\"\n",
    "GENRE_MAP = {}\n",
    "for g in requestResults(\"genre/movie/list?x=1\")[u'genres']:\n",
    "    GENRE_MAP[g['id']] = g['name']\n",
    "\n",
    "# Download image\n",
    "def downloadImageToFile(imgpath, filename):\n",
    "    # Does not return anything\n",
    "    urllib.urlretrieve(\"https://image.tmdb.org/t/p/w500\" + imgpath, filename)\n",
    "    \n",
    "# Get genre and poster path of one movie by title\n",
    "def genreAndPosterPath(title):\n",
    "    title_query = urllib.urlencode({'query': title})\n",
    "    result = requestResults(\"search/movie?\" + title_query + \"&language=en-US&page=1&include-adult=false\")[u'results'][0]\n",
    "    genre_ids = result['genre_ids']\n",
    "    genres = [str(GENRE_MAP[gid]) for gid in genre_ids]\n",
    "    poster_path = result['poster_path']\n",
    "    return genres, poster_path\n",
    "\n",
    "# Get genres from IMDB for one movie by title\n",
    "def imdbGenresByTitle(title):\n",
    "    id_ = imdb_access.search_movie(title)[0].__repr__().split('id:')[1].split('[')[0]\n",
    "    hxs = lxml.html.document_fromstring(requests.get(\"http://www.imdb.com/title/tt\" + id_).content)\n",
    "    return hxs.xpath(\"//a[contains(@href, 'genre')]/text()\")[1:]\n",
    "\n",
    "# Get genres from TMDB for one movie by title\n",
    "def tmdbGenresByTitle(title):\n",
    "    title_query = urllib.urlencode({'query': title})\n",
    "    genre_ids = requestResults(\"search/movie?\" + title_query + \"&language=en-US&page=1&include-adult=false\")[u'results'][0]['genre_ids']\n",
    "    return _mapGidsToGenres(genre_ids)\n",
    "\n",
    "# Private helper function that maps genre_ids to genres\n",
    "def _mapGidsToGenres(genre_ids):\n",
    "    return [str(GENRE_MAP[gid]) for gid in genre_ids]\n",
    "\n",
    "# EXAMPLES\n",
    "# requestResults(\"discover/movie?sort_by=popularity.desc\")[u'results'][0] # Get top 10 most popular results\n",
    "# downloadImageToFile('/tnmL0g604PDRJwGJ5fsUSYKFo9.jpg', 't2s.jpg') # Download an image to the file t2s.jpg"
   ]
  },
  {
   "cell_type": "code",
   "execution_count": 124,
   "metadata": {
    "collapsed": false
   },
   "outputs": [
    {
     "name": "stdout",
     "output_type": "stream",
     "text": [
      "Fave movie: Logan\n",
      "================\n",
      "Genres: Action, Drama, Science Fiction\n",
      "Poster Path: /45Y1G5FEgttPAwjTYic6czC9xCn.jpg\n"
     ]
    }
   ],
   "source": [
    "# Genre and movie poster path of your favorite movie from TMDB\n",
    "fave_movie = 'Logan'\n",
    "\n",
    "genres, poster_path = genreAndPosterPath(fave_movie)\n",
    "print 'Fave movie: %s\\n================\\nGenres: %s\\nPoster Path: %s' % (fave_movie, ', '.join(map(str, genres)), poster_path)"
   ]
  },
  {
   "cell_type": "code",
   "execution_count": 125,
   "metadata": {
    "collapsed": false
   },
   "outputs": [
    {
     "name": "stdout",
     "output_type": "stream",
     "text": [
      "Genres of fave movie: Logan\n",
      "================\n",
      "IMDB:  Action,  Drama,  Sci-Fi,  Thriller\n",
      "TMDB: Action, Drama, Science Fiction\n"
     ]
    }
   ],
   "source": [
    "# Genre for this movie listed by TMDb and IMDb\n",
    "imdb_genres_fave = imdbGenresByTitle(fave_movie)\n",
    "tmdb_genres_fave = tmdbGenresByTitle(fave_movie)\n",
    "print 'Genres of fave movie: %s\\n================' % fave_movie\n",
    "print 'IMDB: %s' % ', '.join(map(str, imdb_genres_fave))\n",
    "print 'TMDB: %s' % ', '.join(map(str, tmdb_genres_fave))\n",
    "\n",
    "# Challenge: Sci-Fi from IMDB is Science Fiction in TMDB! Need to find a genre mapping between both IMDB and TMDB."
   ]
  },
  {
   "cell_type": "code",
   "execution_count": 120,
   "metadata": {
    "collapsed": false
   },
   "outputs": [
    {
     "name": "stdout",
     "output_type": "stream",
     "text": [
      "Top 10 movies and their genres: \n",
      "================\n",
      "Beauty and the Beast: Fantasy, Music, Romance\n",
      "Logan: Action, Drama, Science Fiction\n",
      "Sing: Animation, Comedy, Drama, Family, Music\n",
      "Kong: Skull Island: Science Fiction, Action, Adventure, Fantasy\n",
      "Jurassic World: Action, Adventure, Science Fiction, Thriller\n",
      "Fantastic Beasts and Where to Find Them: Adventure, Action, Fantasy\n",
      "Finding Dory: Adventure, Animation, Comedy, Family\n",
      "Interstellar: Adventure, Drama, Science Fiction\n",
      "Life: Horror, Science Fiction, Thriller\n",
      "Rogue One: A Star Wars Story: Action, Drama, Science Fiction, War\n"
     ]
    }
   ],
   "source": [
    "# A list of the 10 most popular movies of 2016 from TMDb and their genre obtained via TMDB\n",
    "\n",
    "def top10movies_tmdb():\n",
    "    results = requestResults(\"discover/movie?sort_by=popularity.desc\")[u'results'][:10]\n",
    "    return [{'title': str(r['title']), 'genres': _mapGidsToGenres(r['genre_ids'])} for r in results]\n",
    "\n",
    "# Print top 10 movies\n",
    "top10movies_dict = top10movies_tmdb()\n",
    "print 'Top 10 movies and their genres: \\n================'\n",
    "for m in top10movies_dict:\n",
    "    print '%s: %s' % (m['title'], ', '.join(map(str, m['genres'])))"
   ]
  },
  {
   "cell_type": "code",
   "execution_count": null,
   "metadata": {
    "collapsed": true
   },
   "outputs": [],
   "source": [
    "# TODO: Visualization"
   ]
  }
 ],
 "metadata": {
  "anaconda-cloud": {},
  "kernelspec": {
   "display_name": "Python [conda root]",
   "language": "python",
   "name": "conda-root-py"
  }
 },
 "nbformat": 4,
 "nbformat_minor": 1
}
