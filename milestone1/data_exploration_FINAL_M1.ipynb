{
 "cells": [
  {
   "cell_type": "code",
   "execution_count": 1,
   "metadata": {
    "collapsed": false
   },
   "outputs": [],
   "source": [
    "# NOTE: Run this in Python 2.7\n",
    "import requests\n",
    "import urllib\n",
    "import lxml\n",
    "import imdb\n",
    "from IPython.display import Image\n",
    "import matplotlib.pyplot as plt"
   ]
  },
  {
   "cell_type": "markdown",
   "metadata": {},
   "source": [
    "### Team MovieGnat\n",
    "\n",
    "### Milestone 1: Getting to know your data, due Wednesday, April 5, 2017\n",
    "\n",
    "In the beginning you should get acquainted with the data sources and do some EDA. Sign up for the TMDb [API](https://www.themoviedb.org/documentation/api), and try to download the poster of your favorite movie from within your notebook. Compare the genre entries of IMDb and TMDb for this movie and see if they are the same. Think about and write down some questions that you would like to answer in the following weeks. Keep the storytelling aspect of your final report in mind and do some pen and paper sketches about the visualizations you would like to produce. Include photographs of those sketches in your notebook. \n",
    "\n",
    "Most of the time a data scientist spends on a project is spend on cleaning the data. We are lucky that the data we have is already pretty clean. The Python interface to the IMDb ftp files does a lot of the additional work of cleaning as well. However, you will notice that the genre list for each movie from both databases can have different lengths. This needs to be changed in order to train a model to predict the movie genre. It is up to you to think about possible ways to address this problem and to implement one of them. There is no absolute right answer here. It depends on your interests and which questions you have in mind for the project. \n",
    "\n",
    "Optionally, you could also scrape additional data sources, such as Wikipedia, to obtain plot summaries. That data may give you additional useful features for genera classification. \n",
    "\n",
    "To guide your decision process, provide at least one visualization of how often genres are mentioned together in pairs. Your visualization should clearly show if a horror romance is more likely to occur in the data than a drama romance.\n",
    "\n",
    "The notebook to submit for this milestone needs to at least include:\n",
    "\n",
    "- API code to access the genre and movie poster path of your favorite movie\n",
    "- Genre for this movie listed by TMDb and IMDb\n",
    "- A list of the 10 most popular movies of 2016 from TMDb and their genre obtained via the API\n",
    "- Comments on what challenges you see for predicting movie genre based on the data you have, and how to address them \n",
    "- Code to generate the movie genre pairs and a suitable visualization of the result\n",
    "- Additional visualization sketches and EDA with a focus on movie genres\n",
    "- A list of questions you could answer with this and related data. Get creative here!\n",
    "\n",
    "The EDA questions do not necessarily have to tie into the modeling part later on. Think freely about things that might be interesting, like which actors are very specific to a genre? Are action movies more prone to producing sequels than romances? However, as you keep the focus on movie genres, think also about correlations you might discover that can help building features from the metadata for prediction. Is the length of a movie title correlated with genre?\n"
   ]
  },
  {
   "cell_type": "markdown",
   "metadata": {},
   "source": [
    "## API code to access the genre and movie poster path of movie \"Logan\"\n"
   ]
  },
  {
   "cell_type": "code",
   "execution_count": 2,
   "metadata": {
    "collapsed": false
   },
   "outputs": [],
   "source": [
    "def requestResults(url):\n",
    "    r = requests.get(BASE_URL + url + \"&api_key=\" + API_KEY)\n",
    "    return r.json()\n",
    "\n",
    "# Constants\n",
    "BASE_URL = \"https://api.themoviedb.org/3/\"\n",
    "API_KEY = \"9767d17413ec9d9729c2cca238df02da\"\n",
    "GENRE_MAP = {}\n",
    "for g in requestResults(\"genre/movie/list?x=1\")[u'genres']:\n",
    "    GENRE_MAP[g['id']] = g['name']\n",
    "\n",
    "# Download image\n",
    "def downloadImageToFile(imgpath, filename):\n",
    "    # Does not return anything\n",
    "    urllib.urlretrieve(\"https://image.tmdb.org/t/p/w500\" + imgpath, filename)\n",
    "    \n",
    "def movieDetails(title):\n",
    "    title_query = urllib.urlencode({'query': title})\n",
    "    result = requestResults(\"search/movie?\" + title_query + \"&language=en-US&page=1&include-adult=false\")[u'results'][0]\n",
    "    return result\n",
    "    \n",
    "# Get genre and poster path of one movie by title\n",
    "def genreAndPosterPath(title):\n",
    "    title_query = urllib.urlencode({'query': title})\n",
    "    result = requestResults(\"search/movie?\" + title_query + \"&language=en-US&page=1&include-adult=false\")[u'results'][0]\n",
    "    genre_ids = result['genre_ids']\n",
    "    genres = [str(GENRE_MAP[gid]) for gid in genre_ids]\n",
    "    poster_path = result['poster_path']\n",
    "    return genres, poster_path\n",
    "\n",
    "# Get genres from IMDB for one movie by title\n",
    "def imdbGenresByTitle(title):\n",
    "    imdb_access = imdb.IMDb()\n",
    "    id_ = imdb_access.search_movie(title)[0].__repr__().split('id:')[1].split('[')[0]\n",
    "    hxs = lxml.html.document_fromstring(requests.get(\"http://www.imdb.com/title/tt\" + id_).content)\n",
    "    return hxs.xpath(\"//a[contains(@href, 'genre')]/text()\")[1:]\n",
    "\n",
    "# Get genres from TMDB for one movie by title\n",
    "def tmdbGenresByTitle(title):\n",
    "    title_query = urllib.urlencode({'query': title})\n",
    "    genre_ids = requestResults(\"search/movie?\" + title_query + \"&language=en-US&page=1&include-adult=false\")[u'results'][0]['genre_ids']\n",
    "    return _mapGidsToGenres(genre_ids)\n",
    "\n",
    "# Private helper function that maps genre_ids to genres\n",
    "def _mapGidsToGenres(genre_ids):\n",
    "    return [str(GENRE_MAP[gid]) for gid in genre_ids]\n",
    "\n",
    "# EXAMPLES\n",
    "# requestResults(\"discover/movie?sort_by=popularity.desc\")[u'results'][0] # Get top 10 most popular results\n",
    "# downloadImageToFile('/tnmL0g604PDRJwGJ5fsUSYKFo9.jpg', 't2s.jpg') # Download an image to the file t2s.jpg"
   ]
  },
  {
   "cell_type": "markdown",
   "metadata": {},
   "source": [
    "## Genre for this movie listed by TMDb and IMDb"
   ]
  },
  {
   "cell_type": "code",
   "execution_count": 3,
   "metadata": {
    "collapsed": false
   },
   "outputs": [
    {
     "name": "stdout",
     "output_type": "stream",
     "text": [
      "Fave movie: Logan\n",
      "================\n",
      "Genres: Action, Drama, Science Fiction\n",
      "Poster Path: /45Y1G5FEgttPAwjTYic6czC9xCn.jpg\n"
     ]
    }
   ],
   "source": [
    "# Genre and movie poster path of your favorite movie from TMDB\n",
    "fave_movie = 'Logan'\n",
    "\n",
    "genres, poster_path = genreAndPosterPath(fave_movie)\n",
    "print 'Fave movie: %s\\n================\\nGenres: %s\\nPoster Path: %s' % (fave_movie, ', '.join(map(str, genres)), poster_path)"
   ]
  },
  {
   "cell_type": "code",
   "execution_count": 4,
   "metadata": {
    "collapsed": false
   },
   "outputs": [
    {
     "name": "stdout",
     "output_type": "stream",
     "text": [
      "Genres of fave movie: Logan\n",
      "================\n",
      "IMDB:  Action,  Drama,  Sci-Fi,  Thriller\n",
      "TMDB: Action, Drama, Science Fiction\n"
     ]
    }
   ],
   "source": [
    "# Genre for this movie listed by TMDb and IMDb\n",
    "imdb_genres_fave = imdbGenresByTitle(fave_movie)\n",
    "tmdb_genres_fave = tmdbGenresByTitle(fave_movie)\n",
    "print 'Genres of fave movie: %s\\n================' % fave_movie\n",
    "print 'IMDB: %s' % ', '.join(map(str, imdb_genres_fave))\n",
    "print 'TMDB: %s' % ', '.join(map(str, tmdb_genres_fave))\n",
    "\n",
    "# Challenge: Sci-Fi from IMDB is Science Fiction in TMDB! Need to find a genre mapping between both IMDB and TMDB."
   ]
  },
  {
   "cell_type": "markdown",
   "metadata": {},
   "source": [
    "## A list of the 10 most popular movies of 2016 from TMDb and their genre obtained via the API"
   ]
  },
  {
   "cell_type": "code",
   "execution_count": 5,
   "metadata": {
    "collapsed": false
   },
   "outputs": [
    {
     "name": "stdout",
     "output_type": "stream",
     "text": [
      "Top 10 movies and their genres: \n",
      "================\n",
      "Beauty and the Beast: Fantasy, Music, Romance\n",
      "Logan: Action, Drama, Science Fiction\n",
      "Sing: Animation, Comedy, Drama, Family, Music\n",
      "Kong: Skull Island: Science Fiction, Action, Adventure, Fantasy\n",
      "Jurassic World: Action, Adventure, Science Fiction, Thriller\n",
      "Ghost in the Shell: Action, Drama, Science Fiction\n",
      "Fantastic Beasts and Where to Find Them: Adventure, Action, Fantasy\n",
      "The Boss Baby: Animation, Comedy, Family\n",
      "Interstellar: Adventure, Drama, Science Fiction\n",
      "Finding Dory: Adventure, Animation, Comedy, Family\n"
     ]
    }
   ],
   "source": [
    "# A list of the 10 most popular movies of 2016 from TMDb and their genre obtained via TMDB\n",
    "\n",
    "def top10movies_tmdb():\n",
    "    results = requestResults(\"discover/movie?sort_by=popularity.desc\")[u'results'][:10]\n",
    "    return [{'title': str(r['title']), 'genres': _mapGidsToGenres(r['genre_ids'])} for r in results]\n",
    "\n",
    "# Print top 10 movies\n",
    "top10movies_dict = top10movies_tmdb()\n",
    "print 'Top 10 movies and their genres: \\n================'\n",
    "for m in top10movies_dict:\n",
    "    print '%s: %s' % (m['title'], ', '.join(map(str, m['genres'])))"
   ]
  },
  {
   "cell_type": "markdown",
   "metadata": {},
   "source": [
    "## Comments on what challenges you see for predicting movie genre based on the data you have, and how to address them\n",
    "\n",
    "The data pulled contains skewed classes, especially relating to genre.  Certain classes are over-represented in the data set as shown in the head map below. Genres such as Action, Adventure and Sci-Fi are over represented, while War, Crime, and Music are underrepresented. \n",
    "\n",
    "One solution is to use stratified sampling to ensures that the train, validation and test sets are well balanced. This will help ensure that the existing problem of skewed classes is not intensified. "
   ]
  },
  {
   "cell_type": "markdown",
   "metadata": {},
   "source": [
    "## Code to generate the movie genre pairs and a suitable visualization of the result \n"
   ]
  },
  {
   "cell_type": "code",
   "execution_count": 6,
   "metadata": {
    "collapsed": false
   },
   "outputs": [
    {
     "ename": "NameError",
     "evalue": "name 'np' is not defined",
     "output_type": "error",
     "traceback": [
      "\u001b[0;31m---------------------------------------------------------------------------\u001b[0m",
      "\u001b[0;31mNameError\u001b[0m                                 Traceback (most recent call last)",
      "\u001b[0;32m<ipython-input-6-e58c4539144d>\u001b[0m in \u001b[0;36m<module>\u001b[0;34m()\u001b[0m\n\u001b[1;32m      4\u001b[0m \u001b[0;34m\u001b[0m\u001b[0m\n\u001b[1;32m      5\u001b[0m \u001b[0mnum_genres\u001b[0m \u001b[0;34m=\u001b[0m \u001b[0mlen\u001b[0m\u001b[0;34m(\u001b[0m\u001b[0mGENRE_MAP\u001b[0m\u001b[0;34m.\u001b[0m\u001b[0mkeys\u001b[0m\u001b[0;34m(\u001b[0m\u001b[0;34m)\u001b[0m\u001b[0;34m)\u001b[0m\u001b[0;34m\u001b[0m\u001b[0m\n\u001b[0;32m----> 6\u001b[0;31m \u001b[0mgenre_matrix\u001b[0m \u001b[0;34m=\u001b[0m \u001b[0mnp\u001b[0m\u001b[0;34m.\u001b[0m\u001b[0mzeros\u001b[0m\u001b[0;34m(\u001b[0m\u001b[0;34m(\u001b[0m\u001b[0mnum_genres\u001b[0m\u001b[0;34m,\u001b[0m \u001b[0mnum_genres\u001b[0m\u001b[0;34m)\u001b[0m\u001b[0;34m)\u001b[0m\u001b[0;34m\u001b[0m\u001b[0m\n\u001b[0m\u001b[1;32m      7\u001b[0m \u001b[0;34m\u001b[0m\u001b[0m\n\u001b[1;32m      8\u001b[0m \u001b[0mgenres\u001b[0m \u001b[0;34m=\u001b[0m \u001b[0mlist\u001b[0m\u001b[0;34m(\u001b[0m\u001b[0mmap\u001b[0m\u001b[0;34m(\u001b[0m\u001b[0mstr\u001b[0m\u001b[0;34m,\u001b[0m \u001b[0mGENRE_MAP\u001b[0m\u001b[0;34m.\u001b[0m\u001b[0mvalues\u001b[0m\u001b[0;34m(\u001b[0m\u001b[0;34m)\u001b[0m\u001b[0;34m)\u001b[0m\u001b[0;34m)\u001b[0m\u001b[0;34m\u001b[0m\u001b[0m\n",
      "\u001b[0;31mNameError\u001b[0m: name 'np' is not defined"
     ]
    }
   ],
   "source": [
    "# genre pair matching between IMDB/TMBD for top 1000 movies \n",
    "\n",
    "# Pairs of genres that co occur for movies from TMDB\n",
    "\n",
    "num_genres = len(GENRE_MAP.keys())\n",
    "genre_matrix = np.zeros((num_genres, num_genres))\n",
    "\n",
    "genres = list(map(str, GENRE_MAP.values()))\n",
    "genre_df = pd.DataFrame(genre_matrix)\n",
    "genre_df.columns = genres\n",
    "genre_df.index = genres\n",
    "\n"
   ]
  },
  {
   "cell_type": "code",
   "execution_count": null,
   "metadata": {
    "collapsed": true
   },
   "outputs": [],
   "source": [
    "# retrieve top 1000 movies\n",
    "top_1000_movies = top_n_movies_tmdb(1000)\n",
    "top_1000_movie_genres = map(lambda m: map(str,m['genres']), top_1000_movies)\n",
    "\n",
    "# # create all pairs of genres\n",
    "genre_pairs = list(itertools.combinations(genres, 2))\n",
    "for genre in genres:\n",
    "    genre_pairs.append(genre)\n",
    "    \n",
    "# for each pair find # movies with that pair:\n",
    "for pair in genre_pairs:\n",
    "    for movie_genres in top_1000_movie_genres:\n",
    "        if set(list(pair)).issubset(movie_genres):\n",
    "            genre_df[pair[0]][pair[1]] += 1\n",
    "    "
   ]
  },
  {
   "cell_type": "code",
   "execution_count": null,
   "metadata": {
    "collapsed": true
   },
   "outputs": [],
   "source": [
    "# plot heatmap of movie pairs that co-occur\n",
    "plt.figure(figsize=(20,10))\n",
    "sns.heatmap(genre_df, annot=True,fmt=\"g\")"
   ]
  },
  {
   "cell_type": "markdown",
   "metadata": {},
   "source": [
    "## Additional visualization sketches and EDA with a focus on movie genres"
   ]
  },
  {
   "cell_type": "code",
   "execution_count": null,
   "metadata": {
    "collapsed": true
   },
   "outputs": [],
   "source": [
    "# genre bar chart counts for top 1000 movies\n",
    "all_genres = list(itertools.chain.from_iterable(top_1000_movie_genres))\n",
    "genres_unique, all_genres_counts = np.unique(all_genres, return_counts=True)\n",
    "sorted_counts = [g for (g, c) in sorted(zip(all_genres_counts, genres_unique))]\n",
    "sorted_genres = [c for (g, c) in sorted(zip(all_genres_counts, genres_unique))]\n",
    "\n",
    "fig, ax = plt.subplots(figsize=(20, 10))\n",
    "num_unique_genres = len(all_genres_counts)\n",
    "ax.bar(range(num_unique_genres), sorted_counts)\n",
    "ax.set_xticks(np.arange(num_unique_genres)+0.3)\n",
    "ax.set_xticklabels(sorted_genres, rotation=45, fontsize=15)\n",
    "plt.yticks(fontsize=15)\n",
    "plt.show()"
   ]
  },
  {
   "cell_type": "code",
   "execution_count": null,
   "metadata": {
    "collapsed": true
   },
   "outputs": [],
   "source": [
    "# keywords by genre\n",
    "genre_keywords = {}\n",
    "for genre in genres:\n",
    "    genre_keywords[genre] = {}\n",
    "\n",
    "for movie in top_1000_movies:\n",
    "    for genre in movie['genres']:\n",
    "        for word in movie['keywords']:\n",
    "            if not word in genre_keywords[genre]:\n",
    "                genre_keywords[genre][word] = 1\n",
    "            else:\n",
    "                genre_keywords[genre][word] += 1\n",
    "#         genre_keywords[genre] = genre_keywords[genre].union(movie['keywords'])    "
   ]
  },
  {
   "cell_type": "code",
   "execution_count": null,
   "metadata": {
    "collapsed": true
   },
   "outputs": [],
   "source": [
    "sorted_genre_counts = {}\n",
    "for genre in genres:\n",
    "    sorted_genre_counts[genre] = sorted([(value,key) for (key,value) in genre_keywords[genre].items()], reverse=True)"
   ]
  },
  {
   "cell_type": "code",
   "execution_count": null,
   "metadata": {
    "collapsed": true
   },
   "outputs": [],
   "source": [
    "for genre in genres:\n",
    "    print genre + ' : ' + str([l for l in sorted_genre_counts[genre][:5]])"
   ]
  },
  {
   "cell_type": "code",
   "execution_count": null,
   "metadata": {
    "collapsed": true
   },
   "outputs": [],
   "source": [
    "# top 200 movies popularity, average vote count, vote_average\n",
    "\n",
    "popularity_top200 = []\n",
    "vote_average_top200 = []\n",
    "vote_count_top200 = []\n",
    "\n",
    "top200_movies = []\n",
    "top200_movies = top_n_movies_tmdb(200)\n",
    "\n",
    "\n",
    "for movie in top200_movies:\n",
    "    popularity_top200.append(movie['popularity'])\n",
    "    vote_average_top200.append(movie['vote_average'])\n",
    "    vote_count_top200.append(movie['vote_count'])\n",
    "    \n",
    "# plot histograms of popularity, vote average and vote count for top 200 movies\n",
    "fig, axs = plt.subplots(1,3)\n",
    "fig.set_size_inches(20, 5)\n",
    "sns.distplot(popularity_top200, kde=False, rug=True, ax=axs[0])\n",
    "axs[0].set_xlabel('Popularity for top 200 movies')\n",
    "axs[0].set_ylabel('Number of movies')\n",
    "sns.distplot(vote_average_top200, kde=False, rug=True, ax=axs[1])\n",
    "axs[1].set_xlabel('Vote Average for top 200 movies')\n",
    "axs[1].set_ylabel('Number of movies')\n",
    "sns.distplot(vote_count_top200, kde=False, rug=True, ax=axs[2])\n",
    "axs[2].set_xlabel('Vote count for top 200 movies')\n",
    "axs[2].set_ylabel('Number of movies')"
   ]
  },
  {
   "cell_type": "code",
   "execution_count": null,
   "metadata": {
    "collapsed": true
   },
   "outputs": [],
   "source": []
  },
  {
   "cell_type": "code",
   "execution_count": null,
   "metadata": {
    "collapsed": true
   },
   "outputs": [],
   "source": []
  },
  {
   "cell_type": "code",
   "execution_count": null,
   "metadata": {
    "collapsed": false
   },
   "outputs": [],
   "source": [
    "# Word cloud of keywords of top movies from year to year\n",
    "def getKeywordsByYear(year):\n",
    "    top_movies = requestResults(\"discover/movie?sort_by=popularity.desc&year=\" + str(year))[u'results']\n",
    "    top_ids = [m[u'id'] for m in top_movies]\n",
    "    keywords = []\n",
    "    for movie_id in top_ids:\n",
    "        keywords += _getKeywordsById(movie_id)\n",
    "    return keywords\n",
    "\n",
    "# Private helper function that gets keywords by movie id\n",
    "def _getKeywordsById(movie_id):\n",
    "    keywords_dict = requestResults(\"movie/\" + str(movie_id) + \"/keywords?language=en-US\")[u'keywords']\n",
    "    return [str(k[u'name']) for k in keywords_dict]\n",
    "\n",
    "keywords_1995 = getKeywordsByYear(1995)\n",
    "keywords_2000 = getKeywordsByYear(2000)\n",
    "keywords_2005 = getKeywordsByYear(2005)\n",
    "keywords_2010 = getKeywordsByYear(2010)\n",
    "keywords_2015 = getKeywordsByYear(2015)\n"
   ]
  },
  {
   "cell_type": "code",
   "execution_count": null,
   "metadata": {
    "collapsed": false
   },
   "outputs": [],
   "source": [
    "# Using https://www.jasondavies.com/wordcloud/, we plotted word clouds of the keywords of top movies in each year\n",
    "\n",
    "# Keywords in 1995\n",
    "Image(\"keywords_1995.png\")"
   ]
  },
  {
   "cell_type": "markdown",
   "metadata": {},
   "source": [
    "We see detective, drugs and dystopia being key themes in 1995 movies. Sounds like a distrust for police during that time due to riots and mafia?"
   ]
  },
  {
   "cell_type": "code",
   "execution_count": null,
   "metadata": {
    "collapsed": false
   },
   "outputs": [],
   "source": [
    "# Keywords in 2000\n",
    "Image(\"keywords_2000.png\")"
   ]
  },
  {
   "cell_type": "markdown",
   "metadata": {},
   "source": [
    "In 2000, we see similar themes compared to 1995. We still see dystopia and violence being big themes, and the strength of mafias. We start seeing some positive elements creep in with pixar and friendship!"
   ]
  },
  {
   "cell_type": "code",
   "execution_count": null,
   "metadata": {
    "collapsed": false
   },
   "outputs": [],
   "source": [
    "# Keywords in 2005\n",
    "Image(\"keywords_2005.png\")"
   ]
  },
  {
   "cell_type": "markdown",
   "metadata": {},
   "source": [
    "In 2005, dystopia is still key, but it is getting increasingly positive. We start seeing pixar, friendship, hero and saving the world becoming key themes. We're getting more optimistic about our world :)"
   ]
  },
  {
   "cell_type": "code",
   "execution_count": null,
   "metadata": {
    "collapsed": false
   },
   "outputs": [],
   "source": [
    "# Keywords in 2010\n",
    "Image(\"keywords_2010.png\")"
   ]
  },
  {
   "cell_type": "markdown",
   "metadata": {},
   "source": [
    "In 2010, we finally get rid of too much dystopia and the key focus is on technology's invasion of the world. We have artificial intelligence, killer robots, fantasy world, cyborgs, etc. 3D movies also starts creeping in."
   ]
  },
  {
   "cell_type": "code",
   "execution_count": null,
   "metadata": {
    "collapsed": false
   },
   "outputs": [],
   "source": [
    "# Keywords in 2015\n",
    "Image(\"keywords_2015.png\")"
   ]
  },
  {
   "cell_type": "markdown",
   "metadata": {},
   "source": [
    "2015 is quite similar to 2010 in terms of the increase in technology themes such as spaceship. 3D has become a central theme now and applies to many movies. Dystopia has also emerged again, and the themes of the movies this year seem pessimistic again."
   ]
  },
  {
   "cell_type": "code",
   "execution_count": null,
   "metadata": {
    "collapsed": true
   },
   "outputs": [],
   "source": [
    "genreCountsByYears = [] # Initialize it here first"
   ]
  },
  {
   "cell_type": "code",
   "execution_count": null,
   "metadata": {
    "collapsed": false
   },
   "outputs": [],
   "source": [
    "def genreCountByYear(year):\n",
    "    genre_count = {}\n",
    "    for p in range(1,26): # Top 500 movies\n",
    "        results_p = requestResults(\"discover/movie?sort_by=popularity.desc&page=\" + str(p) + \"&year=\" + str(year))[u'results']\n",
    "        for m in results_p:\n",
    "            for g in m[u'genre_ids']:\n",
    "                # Map g to genre name\n",
    "                if g not in GENRE_MAP:\n",
    "                    continue\n",
    "                g_name = str(GENRE_MAP[g])\n",
    "                if g_name not in genre_count:\n",
    "                    genre_count[g_name] = 1\n",
    "                else:\n",
    "                    genre_count[g_name] = genre_count[g_name] + 1\n",
    "    return genre_count\n",
    "\n",
    "# Compute genre counts of each year from 1995 to 2016\n",
    "# Run them one by one as they are async\n",
    "\n",
    "genreCountsByYears.append(genreCountByYear(2016))"
   ]
  },
  {
   "cell_type": "code",
   "execution_count": null,
   "metadata": {
    "collapsed": false
   },
   "outputs": [],
   "source": [
    "# Compare horror and comedy across the years\n",
    "horror_counts = [gy['Horror'] for gy in genreCountsByYears]\n",
    "comedy_counts = [gy['Comedy'] for gy in genreCountsByYears]\n",
    "\n",
    "plt.title('Horror vs Comedy')\n",
    "plt.plot(horror_counts, label='Horror')\n",
    "plt.plot(comedy_counts, label='Comedy')\n",
    "plt.legend(loc='best')\n",
    "plt.show()\n",
    "plt.grid()"
   ]
  },
  {
   "cell_type": "markdown",
   "metadata": {},
   "source": [
    "It's interesting how as horror increases in popularity through the years, comedy seems to decrease in popularity."
   ]
  },
  {
   "cell_type": "code",
   "execution_count": null,
   "metadata": {
    "collapsed": false
   },
   "outputs": [],
   "source": [
    "# Figure out top and bottom genres across the years\n",
    "\n",
    "top_genres = [max(gy, key=lambda k: gy[k]) for gy in genreCountsByYears]\n",
    "top_genres\n",
    "print 'Top genre every year is: Drama'\n",
    "\n",
    "bottom_genres = [min(gy, key=lambda k: gy[k]) for gy in genreCountsByYears]\n",
    "bottom_genres\n",
    "print 'Bottom genres toggle between: TV Movie, Western, Documentary'"
   ]
  },
  {
   "cell_type": "code",
   "execution_count": null,
   "metadata": {
    "collapsed": false
   },
   "outputs": [],
   "source": [
    "# Plot the growth of a few genres\n",
    "plt.figure(figsize=(25,12))\n",
    "action_counts = [gy['Action'] for gy in genreCountsByYears]\n",
    "adventure_counts = [gy['Adventure'] for gy in genreCountsByYears]\n",
    "animation_counts = [gy['Animation'] for gy in genreCountsByYears]\n",
    "romance_counts = [gy['Romance'] for gy in genreCountsByYears]\n",
    "war_counts = [gy['War'] for gy in genreCountsByYears]\n",
    "plt.title('Action, Adventure, Animation, Romance, War')\n",
    "plt.plot(action_counts, label='Action')\n",
    "plt.plot(adventure_counts, label='Adventure')\n",
    "plt.plot(animation_counts, label='Animation')\n",
    "plt.plot(romance_counts, label='Romance')\n",
    "plt.plot(war_counts, label='War')\n",
    "plt.legend(loc='best')\n",
    "plt.show()\n"
   ]
  },
  {
   "cell_type": "markdown",
   "metadata": {},
   "source": [
    "## A list of questions you could answer with this and related data\n",
    "\n",
    "Potential questions to answer include classical, supervised, statistic analysis such as the relationship between: \n",
    "\n",
    "- genres and popularity\n",
    "- genre and votes \n",
    "- release date (season) and popularity\n",
    "- genre and runtime \n",
    "- ...and many more combinations exploring the relationship between different variables. \n",
    "\n",
    "For the purposes of this course, we are interested in implimenting unsupervised learning models on the data. \n",
    "\n",
    "The group discussed the following ideas: \n",
    "\n",
    "- performing PCA analysis to determine the most important predictors of a successful movie.\n",
    "- using keywords or plot summaries to develop short captions posters. \n",
    "- using keywords plot summaries to develop 1-line captions or summaries of the plot. \n",
    "- using Convolutional Neural Networks to classify poster images and develop captions.\n",
    "- using Convolutional Neural Networks to classify poster images, and develop captions based on genre. "
   ]
  },
  {
   "cell_type": "code",
   "execution_count": null,
   "metadata": {
    "collapsed": false
   },
   "outputs": [],
   "source": [
    "# STANDALONE TO GRAB ALL MOVIES AND KEYWORDS\n",
    "\n",
    "import csv\n",
    "import time\n",
    "import requests\n",
    "\n",
    "\n",
    "#########################################################\n",
    "'''\n",
    "BASE STUFF THAT IS ALSO DEFINED ON TOP\n",
    "'''\n",
    "def requestResults(url):\n",
    "    r = requests.get(BASE_URL + url + \"&api_key=\" + API_KEY)\n",
    "    return r.json()\n",
    "\n",
    "# Constants\n",
    "BASE_URL = \"https://api.themoviedb.org/3/\"\n",
    "API_KEY = \"9767d17413ec9d9729c2cca238df02da\"\n",
    "GENRE_MAP = {}\n",
    "for g in requestResults(\"genre/movie/list?x=1\")[u'genres']:\n",
    "    GENRE_MAP[g['id']] = g['name']\n",
    "    \n",
    "#########################################################\n",
    "\n",
    "def _getKeywordsStringById(movie_id):\n",
    "    \n",
    "    keywords_dict = requestResults(\"movie/\" + str(movie_id) + \"/keywords?language=en-US\")\n",
    "    if u'keywords' not in keywords_dict:\n",
    "        return ''\n",
    "    keywords_dict = keywords_dict[u'keywords']\n",
    "    kstring = ''\n",
    "    for k in keywords_dict:\n",
    "        kstring += k[u'name'] + ','\n",
    "    return str(kstring.encode('utf-8').strip())[:-1]\n",
    "\n",
    "def _tidyRow(m, keywords):\n",
    "    # Makes sure the row of movie is well-formatted\n",
    "    output = {}\n",
    "    for k in m:\n",
    "        typem = type(m[k])\n",
    "        k = str(k)\n",
    "        if typem == str or typem == unicode:\n",
    "            output[k] = m[k].encode('utf-8').strip()\n",
    "        else:\n",
    "            output[k] = m[k]\n",
    "    output['keywords'] = keywords\n",
    "    return output\n",
    "\n",
    "def downloadMoviesToCSV(start_page, increment, filename):\n",
    "    genre_count = {}\n",
    "    \n",
    "    with open(filename, 'w') as csvfile:\n",
    "        fieldnames = ['id', 'genre_ids', 'poster_path', 'title', 'overview', 'release_date', \n",
    "                      'popularity', 'original_title', 'backdrop_path', 'keywords', \n",
    "                     'vote_count', 'video', 'adult', 'vote_average', 'original_language']\n",
    "        writer = csv.DictWriter(csvfile, fieldnames=fieldnames)\n",
    "\n",
    "        # Get keywords for movies\n",
    "        writer.writeheader()\n",
    "        \n",
    "        # TMDB limits 4 requests per second\n",
    "        hit = 3 # Once hit reaches 0, call timer and reset hit to 3\n",
    "        \n",
    "        for p in range(start_page,start_page+increment): \n",
    "            if p%10 == 0:\n",
    "                print('page: ', p)\n",
    "            results_p = requestResults(\"discover/movie?sort_by=popularity.desc&page=\" + str(p))[u'results']\n",
    "            hit -= 1\n",
    "            if hit <= 0:\n",
    "                hit = 3\n",
    "                time.sleep(1)\n",
    "\n",
    "            # Write to CSV\n",
    "            \n",
    "            for m in results_p:\n",
    "                mid = m[u'id']\n",
    "                keywords = _getKeywordsStringById(mid)\n",
    "                hit -= 1\n",
    "                if hit <= 0:\n",
    "                    hit = 3\n",
    "                    time.sleep(1)\n",
    "                \n",
    "                row = _tidyRow(m, keywords)\n",
    "                writer.writerow(row)\n",
    "\n",
    "#             time.sleep(0.5) # We hit 2 requests per second without the keywords"
   ]
  },
  {
   "cell_type": "code",
   "execution_count": null,
   "metadata": {
    "collapsed": false
   },
   "outputs": [
    {
     "name": "stdout",
     "output_type": "stream",
     "text": [
      "('page: ', 610)\n",
      "('page: ', 620)\n",
      "('page: ', 630)\n",
      "('page: ', 640)\n",
      "('page: ', 650)\n",
      "('page: ', 660)\n",
      "('page: ', 670)\n"
     ]
    }
   ],
   "source": [
    "downloadMoviesToCSV(start_page=601, increment=200, filename='tmdb-movies_601.csv')"
   ]
  },
  {
   "cell_type": "markdown",
   "metadata": {},
   "source": []
  },
  {
   "cell_type": "code",
   "execution_count": null,
   "metadata": {
    "collapsed": true
   },
   "outputs": [],
   "source": []
  }
 ],
 "metadata": {
  "anaconda-cloud": {},
  "kernelspec": {
   "display_name": "Python [conda root]",
   "language": "python",
   "name": "conda-root-py"
  },
  "language_info": {
   "codemirror_mode": {
    "name": "ipython",
    "version": 2
   },
   "file_extension": ".py",
   "mimetype": "text/x-python",
   "name": "python",
   "nbconvert_exporter": "python",
   "pygments_lexer": "ipython2",
   "version": "2.7.13"
  }
 },
 "nbformat": 4,
 "nbformat_minor": 1
}
