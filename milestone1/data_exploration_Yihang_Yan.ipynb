{
 "cells": [
  {
   "cell_type": "code",
   "execution_count": 28,
   "metadata": {
    "collapsed": false
   },
   "outputs": [],
   "source": [
    "# NOTE: Run this in Python 2.7\n",
    "import requests\n",
    "import urllib\n",
    "import imdb\n",
    "import lxml.html"
   ]
  },
  {
   "cell_type": "markdown",
   "metadata": {},
   "source": [
    "### Team MovieGnat\n",
    "\n",
    "### Milestone 1: Getting to know your data, due Wednesday, April 5, 2017\n",
    "\n",
    "In the beginning you should get acquainted with the data sources and do some EDA. Sign up for the TMDb [API](https://www.themoviedb.org/documentation/api), and try to download the poster of your favorite movie from within your notebook. Compare the genre entries of IMDb and TMDb for this movie and see if they are the same. Think about and write down some questions that you would like to answer in the following weeks. Keep the storytelling aspect of your final report in mind and do some pen and paper sketches about the visualizations you would like to produce. Include photographs of those sketches in your notebook. \n",
    "\n",
    "Most of the time a data scientist spends on a project is spend on cleaning the data. We are lucky that the data we have is already pretty clean. The Python interface to the IMDb ftp files does a lot of the additional work of cleaning as well. However, you will notice that the genre list for each movie from both databases can have different lengths. This needs to be changed in order to train a model to predict the movie genre. It is up to you to think about possible ways to address this problem and to implement one of them. There is no absolute right answer here. It depends on your interests and which questions you have in mind for the project. \n",
    "\n",
    "Optionally, you could also scrape additional data sources, such as Wikipedia, to obtain plot summaries. That data may give you additional useful features for genera classification. \n",
    "\n",
    "To guide your decision process, provide at least one visualization of how often genres are mentioned together in pairs. Your visualization should clearly show if a horror romance is more likely to occur in the data than a drama romance.\n",
    "\n",
    "The notebook to submit for this milestone needs to at least include:\n",
    "\n",
    "- API code to access the genre and movie poster path of your favorite movie\n",
    "- Genre for this movie listed by TMDb and IMDb\n",
    "- A list of the 10 most popular movies of 2016 from TMDb and their genre obtained via the API\n",
    "- Comments on what challenges you see for predicting movie genre based on the data you have, and how to address them \n",
    "- Code to generate the movie genre pairs and a suitable visualization of the result\n",
    "- Additional visualization sketches and EDA with a focus on movie genres\n",
    "- A list of questions you could answer with this and related data. Get creative here!\n",
    "\n",
    "The EDA questions do not necessarily have to tie into the modeling part later on. Think freely about things that might be interesting, like which actors are very specific to a genre? Are action movies more prone to producing sequels than romances? However, as you keep the focus on movie genres, think also about correlations you might discover that can help building features from the metadata for prediction. Is the length of a movie title correlated with genre?\n"
   ]
  },
  {
   "cell_type": "code",
   "execution_count": 26,
   "metadata": {
    "collapsed": false
   },
   "outputs": [],
   "source": [
    "def requestResults(url):\n",
    "    r = requests.get(BASE_URL + url + \"&api_key=\" + API_KEY)\n",
    "    return r.json()\n",
    "\n",
    "# Constants\n",
    "BASE_URL = \"https://api.themoviedb.org/3/\"\n",
    "API_KEY = \"9767d17413ec9d9729c2cca238df02da\"\n",
    "GENRE_MAP = {}\n",
    "for g in requestResults(\"genre/movie/list?x=1\")[u'genres']:\n",
    "    GENRE_MAP[g['id']] = g['name']\n",
    "\n",
    "# Download image\n",
    "def downloadImageToFile(imgpath, filename):\n",
    "    # Does not return anything\n",
    "    urllib.urlretrieve(\"https://image.tmdb.org/t/p/w500\" + imgpath, filename)\n",
    "    \n",
    "# Get genre and poster path of one movie by title\n",
    "def genreAndPosterPath(title):\n",
    "    title_query = urllib.urlencode({'query': title})\n",
    "    result = requestResults(\"search/movie?\" + title_query + \"&language=en-US&page=1&include-adult=false\")[u'results'][0]\n",
    "    genre_ids = result['genre_ids']\n",
    "    genres = [str(GENRE_MAP[gid]) for gid in genre_ids]\n",
    "    poster_path = result['poster_path']\n",
    "    return genres, poster_path\n",
    "\n",
    "# Get genres from IMDB for one movie by title\n",
    "def imdbGenresByTitle(title):\n",
    "    ###add\n",
    "    imdb_access = imdb.IMDb()\n",
    "    ##\n",
    "    id_ = imdb_access.search_movie(title)[0].__repr__().split('id:')[1].split('[')[0]\n",
    "    hxs = lxml.html.document_fromstring(requests.get(\"http://www.imdb.com/title/tt\" + id_).content)\n",
    "    return hxs.xpath(\"//a[contains(@href, 'genre')]/text()\")[1:]\n",
    "\n",
    "# Get genres from TMDB for one movie by title\n",
    "def tmdbGenresByTitle(title):\n",
    "    title_query = urllib.urlencode({'query': title})\n",
    "    genre_ids = requestResults(\"search/movie?\" + title_query + \"&language=en-US&page=1&include-adult=false\")[u'results'][0]['genre_ids']\n",
    "    return _mapGidsToGenres(genre_ids)\n",
    "\n",
    "# Private helper function that maps genre_ids to genres\n",
    "def _mapGidsToGenres(genre_ids):\n",
    "    return [str(GENRE_MAP[gid]) for gid in genre_ids]\n",
    "\n",
    "# EXAMPLES\n",
    "# requestResults(\"discover/movie?sort_by=popularity.desc\")[u'results'][0] # Get top 10 most popular results\n",
    "# downloadImageToFile('/tnmL0g604PDRJwGJ5fsUSYKFo9.jpg', 't2s.jpg') # Download an image to the file t2s.jpg"
   ]
  },
  {
   "cell_type": "code",
   "execution_count": 3,
   "metadata": {
    "collapsed": false
   },
   "outputs": [
    {
     "name": "stdout",
     "output_type": "stream",
     "text": [
      "Fave movie: Logan\n",
      "================\n",
      "Genres: Action, Drama, Science Fiction\n",
      "Poster Path: /45Y1G5FEgttPAwjTYic6czC9xCn.jpg\n"
     ]
    }
   ],
   "source": [
    "# Genre and movie poster path of your favorite movie from TMDB\n",
    "fave_movie = 'Logan'\n",
    "\n",
    "genres, poster_path = genreAndPosterPath(fave_movie)\n",
    "print 'Fave movie: %s\\n================\\nGenres: %s\\nPoster Path: %s' % (fave_movie, ', '.join(map(str, genres)), poster_path)"
   ]
  },
  {
   "cell_type": "code",
   "execution_count": 4,
   "metadata": {
    "collapsed": false
   },
   "outputs": [
    {
     "data": {
      "text/plain": [
       "['Action', 'Drama', 'Science Fiction']"
      ]
     },
     "execution_count": 4,
     "metadata": {},
     "output_type": "execute_result"
    }
   ],
   "source": [
    "genres"
   ]
  },
  {
   "cell_type": "code",
   "execution_count": 5,
   "metadata": {
    "collapsed": false
   },
   "outputs": [
    {
     "data": {
      "text/plain": [
       "u'/45Y1G5FEgttPAwjTYic6czC9xCn.jpg'"
      ]
     },
     "execution_count": 5,
     "metadata": {},
     "output_type": "execute_result"
    }
   ],
   "source": [
    "poster_path"
   ]
  },
  {
   "cell_type": "code",
   "execution_count": 6,
   "metadata": {
    "collapsed": false
   },
   "outputs": [
    {
     "data": {
      "text/plain": [
       "(['Fantasy', 'Music', 'Romance'], u'/tnmL0g604PDRJwGJ5fsUSYKFo9.jpg')"
      ]
     },
     "execution_count": 6,
     "metadata": {},
     "output_type": "execute_result"
    }
   ],
   "source": [
    "fave_movie2 = \"Beauty and the beast\"\n",
    "genreAndPosterPath(fave_movie2)"
   ]
  },
  {
   "cell_type": "code",
   "execution_count": 27,
   "metadata": {
    "collapsed": true
   },
   "outputs": [],
   "source": []
  },
  {
   "cell_type": "code",
   "execution_count": 125,
   "metadata": {
    "collapsed": false
   },
   "outputs": [
    {
     "name": "stdout",
     "output_type": "stream",
     "text": [
      "Genres of fave movie: Logan\n",
      "================\n",
      "IMDB:  Action,  Drama,  Sci-Fi,  Thriller\n",
      "TMDB: Action, Drama, Science Fiction\n"
     ]
    }
   ],
   "source": [
    "# Genre for this movie listed by TMDb and IMDb\n",
    "imdb_genres_fave = imdbGenresByTitle(fave_movie)\n",
    "tmdb_genres_fave = tmdbGenresByTitle(fave_movie)\n",
    "print 'Genres of fave movie: %s\\n================' % fave_movie\n",
    "print 'IMDB: %s' % ', '.join(map(str, imdb_genres_fave))\n",
    "print 'TMDB: %s' % ', '.join(map(str, tmdb_genres_fave))\n",
    "\n",
    "# Challenge: Sci-Fi from IMDB is Science Fiction in TMDB! Need to find a genre mapping between both IMDB and TMDB."
   ]
  },
  {
   "cell_type": "code",
   "execution_count": null,
   "metadata": {
    "collapsed": true
   },
   "outputs": [],
   "source": []
  },
  {
   "cell_type": "code",
   "execution_count": 18,
   "metadata": {
    "collapsed": false
   },
   "outputs": [
    {
     "data": {
      "text/plain": [
       "'3315342'"
      ]
     },
     "execution_count": 18,
     "metadata": {},
     "output_type": "execute_result"
    }
   ],
   "source": [
    "id = imdb_access.search_movie('Logan')[0].__repr__().split('id:')[1].split('[')[0]\n",
    "id"
   ]
  },
  {
   "cell_type": "code",
   "execution_count": 24,
   "metadata": {
    "collapsed": false
   },
   "outputs": [
    {
     "data": {
      "text/plain": [
       "<Element html at 0x1071eaaf8>"
      ]
     },
     "execution_count": 24,
     "metadata": {},
     "output_type": "execute_result"
    }
   ],
   "source": [
    "hxs = lxml.html.document_fromstring(requests.get(\"http://www.imdb.com/title/tt\" + id).content)\n",
    "hxs"
   ]
  },
  {
   "cell_type": "code",
   "execution_count": 25,
   "metadata": {
    "collapsed": false
   },
   "outputs": [
    {
     "data": {
      "text/plain": [
       "[' Action', ' Drama', ' Sci-Fi', ' Thriller']"
      ]
     },
     "execution_count": 25,
     "metadata": {},
     "output_type": "execute_result"
    }
   ],
   "source": [
    "imdbGenresByTitle(fave_movie)"
   ]
  },
  {
   "cell_type": "code",
   "execution_count": null,
   "metadata": {
    "collapsed": true
   },
   "outputs": [],
   "source": []
  },
  {
   "cell_type": "code",
   "execution_count": 15,
   "metadata": {
    "collapsed": false
   },
   "outputs": [
    {
     "data": {
      "text/plain": [
       "['Action', 'Drama', 'Science Fiction']"
      ]
     },
     "execution_count": 15,
     "metadata": {},
     "output_type": "execute_result"
    }
   ],
   "source": [
    "tmdbGenresByTitle(fave_movie)"
   ]
  },
  {
   "cell_type": "code",
   "execution_count": null,
   "metadata": {
    "collapsed": true
   },
   "outputs": [],
   "source": []
  },
  {
   "cell_type": "code",
   "execution_count": 13,
   "metadata": {
    "collapsed": false
   },
   "outputs": [
    {
     "name": "stdout",
     "output_type": "stream",
     "text": [
      "Top 10 movies and their genres: \n",
      "================\n",
      "Beauty and the Beast: Fantasy, Music, Romance\n",
      "Logan: Action, Drama, Science Fiction\n",
      "Sing: Animation, Comedy, Drama, Family, Music\n",
      "Kong: Skull Island: Science Fiction, Action, Adventure, Fantasy\n",
      "Jurassic World: Action, Adventure, Science Fiction, Thriller\n",
      "Fantastic Beasts and Where to Find Them: Adventure, Action, Fantasy\n",
      "Finding Dory: Adventure, Animation, Comedy, Family\n",
      "Interstellar: Adventure, Drama, Science Fiction\n",
      "Life: Horror, Science Fiction, Thriller\n",
      "Mad Max: Fury Road: Action, Adventure, Science Fiction, Thriller\n"
     ]
    }
   ],
   "source": [
    "def top10movies_tmdb():\n",
    "    results = requestResults(\"discover/movie?sort_by=popularity.desc\")[u'results'][:10]\n",
    "    return [{'title': str(r['title']), 'genres': _mapGidsToGenres(r['genre_ids'])} for r in results]\n",
    "\n",
    "# Print top 10 movies\n",
    "top10movies_dict = top10movies_tmdb()\n",
    "print 'Top 10 movies and their genres: \\n================'\n",
    "for m in top10movies_dict:\n",
    "    print '%s: %s' % (m['title'], ', '.join(map(str, m['genres'])))"
   ]
  },
  {
   "cell_type": "code",
   "execution_count": null,
   "metadata": {
    "collapsed": true
   },
   "outputs": [],
   "source": []
  },
  {
   "cell_type": "code",
   "execution_count": 33,
   "metadata": {
    "collapsed": false
   },
   "outputs": [
    {
     "name": "stdout",
     "output_type": "stream",
     "text": [
      "{u'poster_path': u'/45Y1G5FEgttPAwjTYic6czC9xCn.jpg', u'title': u'Logan', u'overview': u\"In the near future, a weary Logan cares for an ailing Professor X in a hide out on the Mexican border. But Logan's attempts to hide from the world and his legacy are up-ended when a young mutant arrives, being pursued by dark forces.\", u'release_date': u'2017-02-28', u'popularity': 116.085356, u'original_title': u'Logan', u'backdrop_path': u'/5pAGnkFYSsFJ99ZxDIYnhQbQFXs.jpg', u'vote_count': 1958, u'video': False, u'adult': False, u'vote_average': 7.6, u'original_language': u'en', u'id': 263115, u'genre_ids': [28, 18, 878]}\n"
     ]
    },
    {
     "data": {
      "text/plain": [
       "'en'"
      ]
     },
     "execution_count": 33,
     "metadata": {},
     "output_type": "execute_result"
    }
   ],
   "source": [
    "# Top 10 movies\n",
    "top10movies = requestResults(\"discover/movie?sort_by=popularity.desc\")[u'results'][1]\n",
    "print(top10movies)\n",
    "str(top10movies['original_language'])"
   ]
  },
  {
   "cell_type": "code",
   "execution_count": 35,
   "metadata": {
    "collapsed": false
   },
   "outputs": [
    {
     "data": {
      "text/plain": [
       "'/tnmL0g604PDRJwGJ5fsUSYKFo9.jpg'"
      ]
     },
     "execution_count": 35,
     "metadata": {},
     "output_type": "execute_result"
    }
   ],
   "source": [
    "str(requestResults(\"discover/movie?sort_by=popularity.desc\")[u'results'][0]['poster_path'])"
   ]
  },
  {
   "cell_type": "code",
   "execution_count": 36,
   "metadata": {
    "collapsed": false
   },
   "outputs": [
    {
     "data": {
      "text/plain": [
       "{12: u'Adventure',\n",
       " 14: u'Fantasy',\n",
       " 16: u'Animation',\n",
       " 18: u'Drama',\n",
       " 27: u'Horror',\n",
       " 28: u'Action',\n",
       " 35: u'Comedy',\n",
       " 36: u'History',\n",
       " 37: u'Western',\n",
       " 53: u'Thriller',\n",
       " 80: u'Crime',\n",
       " 99: u'Documentary',\n",
       " 878: u'Science Fiction',\n",
       " 9648: u'Mystery',\n",
       " 10402: u'Music',\n",
       " 10749: u'Romance',\n",
       " 10751: u'Family',\n",
       " 10752: u'War',\n",
       " 10770: u'TV Movie'}"
      ]
     },
     "execution_count": 36,
     "metadata": {},
     "output_type": "execute_result"
    }
   ],
   "source": [
    "GENRE_MAP"
   ]
  },
  {
   "cell_type": "code",
   "execution_count": 39,
   "metadata": {
    "collapsed": false
   },
   "outputs": [
    {
     "data": {
      "text/plain": [
       "[<Movie id:3315342[http] title:_Logan (2017)_>,\n",
       " <Movie id:1483010[http] title:_Logan (2010)_>,\n",
       " <Movie id:5446102[http] title:_\"Logan\" (2016)_>,\n",
       " <Movie id:5439796[http] title:_Logan Lucky (2017)_>,\n",
       " <Movie id:0074812[http] title:_Logan's Run (1976)_>,\n",
       " <Movie id:0075527[http] title:_\"Logan's Run\" (1977)_>,\n",
       " <Movie id:0402344[http] title:_Logan's Run (in development) (????)_>,\n",
       " <Movie id:6193484[http] title:_\"Logan Paul Vs\" (2016)_>,\n",
       " <Movie id:0058812[http] title:_\"Hogan's Heroes\" (1965)_>,\n",
       " <Movie id:3387648[http] title:_The Taking of Deborah Logan (2014)_>,\n",
       " <Movie id:5321214[http] title:_Jack Logan (2016)_>,\n",
       " <Movie id:0065000[http] title:_Slogan (1969)_>,\n",
       " <Movie id:2814388[http] title:_Logan (2013)_>,\n",
       " <Movie id:4067420[http] title:_\"Super Mario Logan\" (2007)_>,\n",
       " <Movie id:6340112[http] title:_Bogan (2017)_>,\n",
       " <Movie id:2198638[http] title:_\"Logan\" (2012)_>,\n",
       " <Movie id:1744793[http] title:_The Kate Logan Affair (2010)_>,\n",
       " <Movie id:0062824[http] title:_Coogan's Bluff (1968)_>,\n",
       " <Movie id:0287708[http] title:_Slogans (2001)_>,\n",
       " <Movie id:0107473[http] title:_Mad Dog and Glory (1993)_>]"
      ]
     },
     "execution_count": 39,
     "metadata": {},
     "output_type": "execute_result"
    }
   ],
   "source": [
    "imdb_access.search_movie(\"Logan\")"
   ]
  },
  {
   "cell_type": "code",
   "execution_count": 40,
   "metadata": {
    "collapsed": false
   },
   "outputs": [
    {
     "data": {
      "text/plain": [
       "['kind',\n",
       " 'year',\n",
       " 'title',\n",
       " 'canonical title',\n",
       " 'long imdb title',\n",
       " 'long imdb canonical title',\n",
       " 'smart canonical title',\n",
       " 'smart long imdb canonical title']"
      ]
     },
     "execution_count": 40,
     "metadata": {},
     "output_type": "execute_result"
    }
   ],
   "source": [
    "imdb_access.search_movie(\"Logan\")[0].keys()"
   ]
  },
  {
   "cell_type": "code",
   "execution_count": 42,
   "metadata": {
    "collapsed": false
   },
   "outputs": [
    {
     "data": {
      "text/plain": [
       "2017"
      ]
     },
     "execution_count": 42,
     "metadata": {},
     "output_type": "execute_result"
    }
   ],
   "source": [
    "imdb_access.search_movie(\"Logan\")[0]['year']"
   ]
  },
  {
   "cell_type": "code",
   "execution_count": null,
   "metadata": {
    "collapsed": true
   },
   "outputs": [],
   "source": []
  },
  {
   "cell_type": "markdown",
   "metadata": {},
   "source": [
    "# TODO: Visualization\n",
    "- numeric columns per movie: average vote, vote count, popularity\n",
    "\n",
    "- regression between vote and popularity\n",
    "  \n",
    "- adults % by genre\n",
    "\n",
    "- language % by genre\n",
    "\n",
    "- number of genres each month"
   ]
  },
  {
   "cell_type": "code",
   "execution_count": 64,
   "metadata": {
    "collapsed": false
   },
   "outputs": [],
   "source": [
    "%matplotlib inline\n",
    "import numpy as np\n",
    "import pandas as pd\n",
    "from scipy import stats, integrate\n",
    "import matplotlib.pyplot as plt\n",
    "import seaborn as sns"
   ]
  },
  {
   "cell_type": "code",
   "execution_count": 43,
   "metadata": {
    "collapsed": false
   },
   "outputs": [
    {
     "data": {
      "text/plain": [
       "{u'adult': False,\n",
       " u'backdrop_path': u'/6aUWe0GSl69wMTSWWexsorMIvwU.jpg',\n",
       " u'genre_ids': [14, 10402, 10749],\n",
       " u'id': 321612,\n",
       " u'original_language': u'en',\n",
       " u'original_title': u'Beauty and the Beast',\n",
       " u'overview': u\"A live-action adaptation of Disney's version of the classic 'Beauty and the Beast' tale of a cursed prince and a beautiful young woman who helps him break the spell.\",\n",
       " u'popularity': 185.891157,\n",
       " u'poster_path': u'/tnmL0g604PDRJwGJ5fsUSYKFo9.jpg',\n",
       " u'release_date': u'2017-03-15',\n",
       " u'title': u'Beauty and the Beast',\n",
       " u'video': False,\n",
       " u'vote_average': 7.2,\n",
       " u'vote_count': 1044}"
      ]
     },
     "execution_count": 43,
     "metadata": {},
     "output_type": "execute_result"
    }
   ],
   "source": [
    "requestResults(\"discover/movie?sort_by=popularity.desc\")[u'results'][0]"
   ]
  },
  {
   "cell_type": "code",
   "execution_count": 47,
   "metadata": {
    "collapsed": false
   },
   "outputs": [
    {
     "data": {
      "text/plain": [
       "185.891157"
      ]
     },
     "execution_count": 47,
     "metadata": {},
     "output_type": "execute_result"
    }
   ],
   "source": [
    "#three numeric columns 'popularity' + 'vote_average' + 'vote_count'\n",
    "requestResults(\"discover/movie?sort_by=popularity.desc\")[u'results'][0]['popularity']\n",
    "#type is float"
   ]
  },
  {
   "cell_type": "code",
   "execution_count": 80,
   "metadata": {
    "collapsed": false
   },
   "outputs": [
    {
     "data": {
      "text/plain": [
       "list"
      ]
     },
     "execution_count": 80,
     "metadata": {},
     "output_type": "execute_result"
    }
   ],
   "source": [
    "#Top10movies based on popularity\n",
    "top200_movies = requestResults(\"discover/movie?sort_by=popularity.desc\")[u'results'][:5]\n",
    "type(top200_movies)"
   ]
  },
  {
   "cell_type": "code",
   "execution_count": 83,
   "metadata": {
    "collapsed": true
   },
   "outputs": [],
   "source": [
    "import math\n",
    "def top_n_movies_tmdb(N):\n",
    "    # only 20 results per page so need to send multiple request and increment page number \n",
    "    results_per_page = 20.0\n",
    "    results = []\n",
    "    num_pages = int(math.ceil(N/results_per_page))\n",
    "    if num_pages == 1:\n",
    "        results = requestResults(\"discover/movie?sort_by=popularity.desc\")[u'results'][:N]\n",
    "    else:\n",
    "        for n in range(1, num_pages+1):\n",
    "            result = requestResults(\"discover/movie?sort_by=popularity.desc&page={}\".format(n))\n",
    "            try:\n",
    "                r= result[u'results']\n",
    "                results = results + r\n",
    "            except KeyError:\n",
    "                pass\n",
    "    return results"
   ]
  },
  {
   "cell_type": "code",
   "execution_count": 91,
   "metadata": {
    "collapsed": false
   },
   "outputs": [],
   "source": [
    "top200_movies = []\n",
    "top200_movies = top_n_movies_tmdb(200)"
   ]
  },
  {
   "cell_type": "code",
   "execution_count": 93,
   "metadata": {
    "collapsed": true
   },
   "outputs": [],
   "source": [
    "population_top200 = []\n",
    "vote_average_top200 = []\n",
    "vote_count_top200 = []\n",
    "\n",
    "for movie in top200_movies:\n",
    "    population_top200.append(movie['popularity'])\n",
    "    vote_average_top200.append(movie['vote_average'])\n",
    "    vote_count_top200.append(movie['vote_count'])"
   ]
  },
  {
   "cell_type": "code",
   "execution_count": 94,
   "metadata": {
    "collapsed": false
   },
   "outputs": [
    {
     "data": {
      "text/plain": [
       "<matplotlib.axes._subplots.AxesSubplot at 0x107d7dd50>"
      ]
     },
     "execution_count": 94,
     "metadata": {},
     "output_type": "execute_result"
    },
    {
     "data": {
      "image/png": "[encoded data removed]",
      "text/plain": [
       "<matplotlib.figure.Figure at 0x11c999810>"
      ]
     },
     "metadata": {},
     "output_type": "display_data"
    }
   ],
   "source": [
    "#fig, (ax1, ax2, ax3) = plt.subplots(ncols=3, sharey=True)\n",
    "fig, axs = plt.subplots(1,3)\n",
    "fig.set_size_inches(12, 5)\n",
    "sns.distplot(population_top200, kde=False, rug=True, ax=axs[0])\n",
    "sns.distplot(vote_average_top200, kde=False, rug=True, ax=axs[1])\n",
    "sns.distplot(vote_count_top200, kde=False, rug=True, ax=axs[2])"
   ]
  },
  {
   "cell_type": "code",
   "execution_count": 95,
   "metadata": {
    "collapsed": false
   },
   "outputs": [
    {
     "name": "stdout",
     "output_type": "stream",
     "text": [
      "0.308353086342\n",
      "9.94215854559\n"
     ]
    }
   ],
   "source": [
    "m,b = np.polyfit(vote_average_top200, population_top200, 1)\n",
    "print(m)\n",
    "print(b)"
   ]
  },
  {
   "cell_type": "code",
   "execution_count": 96,
   "metadata": {
    "collapsed": false
   },
   "outputs": [
    {
     "data": {
      "text/plain": [
       "[<matplotlib.lines.Line2D at 0x120291d90>,\n",
       " <matplotlib.lines.Line2D at 0x120291f10>]"
      ]
     },
     "execution_count": 96,
     "metadata": {},
     "output_type": "execute_result"
    },
    {
     "data": {
      "image/png": "[encoded data removed]",
      "text/plain": [
       "<matplotlib.figure.Figure at 0x11b8756d0>"
      ]
     },
     "metadata": {},
     "output_type": "display_data"
    }
   ],
   "source": [
    "x = vote_average_top200\n",
    "y = population_top200\n",
    "\n",
    "fit = np.polyfit(x,y,1)\n",
    "fit_fn = np.poly1d(fit) \n",
    "# fit_fn is now a function which takes in x and returns an estimate for y\n",
    "\n",
    "plt.plot(x,y, 'yo', x, fit_fn(x), '--k')"
   ]
  },
  {
   "cell_type": "code",
   "execution_count": 97,
   "metadata": {
    "collapsed": false
   },
   "outputs": [
    {
     "data": {
      "text/plain": [
       "{u'adult': False,\n",
       " u'backdrop_path': u'/6aUWe0GSl69wMTSWWexsorMIvwU.jpg',\n",
       " u'genre_ids': [14, 10402, 10749],\n",
       " u'id': 321612,\n",
       " u'original_language': u'en',\n",
       " u'original_title': u'Beauty and the Beast',\n",
       " u'overview': u\"A live-action adaptation of Disney's version of the classic 'Beauty and the Beast' tale of a cursed prince and a beautiful young woman who helps him break the spell.\",\n",
       " u'popularity': 180.45132,\n",
       " u'poster_path': u'/tWqifoYuwLETmmasnGHO7xBjEtt.jpg',\n",
       " u'release_date': u'2017-03-17',\n",
       " u'title': u'Beauty and the Beast',\n",
       " u'video': False,\n",
       " u'vote_average': 7.1,\n",
       " u'vote_count': 1246}"
      ]
     },
     "execution_count": 97,
     "metadata": {},
     "output_type": "execute_result"
    }
   ],
   "source": [
    "top200_movies[0]"
   ]
  },
  {
   "cell_type": "code",
   "execution_count": 98,
   "metadata": {
    "collapsed": false
   },
   "outputs": [
    {
     "data": {
      "text/plain": [
       "bool"
      ]
     },
     "execution_count": 98,
     "metadata": {},
     "output_type": "execute_result"
    }
   ],
   "source": [
    "type(top200_movies[0]['adult'])"
   ]
  },
  {
   "cell_type": "code",
   "execution_count": 99,
   "metadata": {
    "collapsed": false
   },
   "outputs": [
    {
     "data": {
      "text/plain": [
       "[14, 10402, 10749]"
      ]
     },
     "execution_count": 99,
     "metadata": {},
     "output_type": "execute_result"
    }
   ],
   "source": [
    "top200_movies[0]['genre_ids']"
   ]
  },
  {
   "cell_type": "code",
   "execution_count": 102,
   "metadata": {
    "collapsed": true
   },
   "outputs": [],
   "source": [
    "#adults % by genre\n",
    "adult = []\n",
    "genre_adult = dict()\n",
    "for movie in top200_movies:\n",
    "    adult_bool = movie['adult']\n",
    "    adult.append(adult_bool)\n",
    "    if adult_bool:\n",
    "        genre_ids = movie['genre_ids']\n",
    "        for genre_id in genre_ids:\n",
    "            if genre_id in genre_adult:\n",
    "                genre_adult[genre_id] += 1\n",
    "            else:\n",
    "                genre_adult[genre_id] = 1"
   ]
  },
  {
   "cell_type": "code",
   "execution_count": 104,
   "metadata": {
    "collapsed": false
   },
   "outputs": [
    {
     "data": {
      "text/plain": [
       "0"
      ]
     },
     "execution_count": 104,
     "metadata": {},
     "output_type": "execute_result"
    }
   ],
   "source": [
    "sum(adult) #NO ADULT"
   ]
  },
  {
   "cell_type": "code",
   "execution_count": 107,
   "metadata": {
    "collapsed": false
   },
   "outputs": [
    {
     "data": {
      "text/plain": [
       "'en'"
      ]
     },
     "execution_count": 107,
     "metadata": {},
     "output_type": "execute_result"
    }
   ],
   "source": [
    "#language % by genre\n",
    "str(top200_movies[0]['original_language'])"
   ]
  },
  {
   "cell_type": "code",
   "execution_count": 110,
   "metadata": {
    "collapsed": true
   },
   "outputs": [],
   "source": [
    "languages = []\n",
    "genre_language = dict()\n",
    "for movie in top200_movies:\n",
    "    language = str(movie['original_language'])\n",
    "    if language not in languages:\n",
    "        languages.append(language)\n",
    "    else:\n",
    "        pass\n",
    "    #genre_ids = movie['genre_ids']"
   ]
  },
  {
   "cell_type": "code",
   "execution_count": 111,
   "metadata": {
    "collapsed": false
   },
   "outputs": [
    {
     "data": {
      "text/plain": [
       "['en', 'it', 'no', 'el', 'fr', 'ja', 'es']"
      ]
     },
     "execution_count": 111,
     "metadata": {},
     "output_type": "execute_result"
    }
   ],
   "source": [
    "languages"
   ]
  },
  {
   "cell_type": "code",
   "execution_count": 117,
   "metadata": {
    "collapsed": true
   },
   "outputs": [],
   "source": [
    "def language_genre(lan):\n",
    "    lan_genre = dict()\n",
    "    for movie in top200_movies:\n",
    "        language = str(movie['original_language'])\n",
    "        genre_ids = movie['genre_ids']\n",
    "        if language == lan:\n",
    "            for genre_id in genre_ids:\n",
    "                if genre_id in genre_adult:\n",
    "                    lan_genre[genre_id] += 1\n",
    "                else:\n",
    "                    lan_genre[genre_id] = 1     \n",
    "    return lan_genre"
   ]
  },
  {
   "cell_type": "code",
   "execution_count": 118,
   "metadata": {
    "collapsed": false
   },
   "outputs": [
    {
     "name": "stdout",
     "output_type": "stream",
     "text": [
      "{10752: 1, 80: 1, 10402: 1, 35: 1, 36: 1, 37: 1, 12: 1, 878: 1, 16: 1, 27: 1, 18: 1, 9648: 1, 14: 1, 99: 1, 53: 1, 28: 1, 10749: 1, 10751: 1}\n",
      "{27: 1}\n",
      "{18: 1}\n",
      "{18: 1}\n",
      "{18: 1, 35: 1}\n",
      "{12: 1, 14: 1, 16: 1, 878: 1, 28: 1, 10751: 1}\n",
      "{10752: 1, 18: 1, 14: 1}\n"
     ]
    }
   ],
   "source": [
    "for lan in languages:\n",
    "    print(language_genre(lan))"
   ]
  },
  {
   "cell_type": "code",
   "execution_count": null,
   "metadata": {
    "collapsed": true
   },
   "outputs": [],
   "source": []
  },
  {
   "cell_type": "code",
   "execution_count": null,
   "metadata": {
    "collapsed": true
   },
   "outputs": [],
   "source": []
  },
  {
   "cell_type": "code",
   "execution_count": null,
   "metadata": {
    "collapsed": true
   },
   "outputs": [],
   "source": []
  },
  {
   "cell_type": "code",
   "execution_count": null,
   "metadata": {
    "collapsed": true
   },
   "outputs": [],
   "source": []
  }
 ],
 "metadata": {
  "anaconda-cloud": {},
  "kernelspec": {
   "display_name": "Python 2",
   "language": "python",
   "name": "python2"
  },
  "language_info": {
   "codemirror_mode": {
    "name": "ipython",
    "version": 2
   },
   "file_extension": ".py",
   "mimetype": "text/x-python",
   "name": "python",
   "nbconvert_exporter": "python",
   "pygments_lexer": "ipython2",
   "version": "2.7.12"
  }
 },
 "nbformat": 4,
 "nbformat_minor": 1
}
