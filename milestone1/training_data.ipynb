{
 "cells": [
  {
   "cell_type": "code",
   "execution_count": 7,
   "metadata": {
    "collapsed": true
   },
   "outputs": [],
   "source": [
    "# NOTE: Run this in Python 2.7\n",
    "import requests\n",
    "import urllib\n",
    "import imdb\n",
    "import lxml.html\n",
    "import numpy as np\n",
    "import pandas as pd\n",
    "import itertools\n",
    "%matplotlib inline\n",
    "import seaborn as sns\n",
    "import math\n",
    "import matplotlib.pyplot as plt"
   ]
  },
  {
   "cell_type": "code",
   "execution_count": 8,
   "metadata": {
    "collapsed": true
   },
   "outputs": [],
   "source": [
    "def requestResults(url):\n",
    "    r = requests.get(BASE_URL + url + \"&api_key=\" + API_KEY)\n",
    "    return r.json()\n",
    "\n",
    "# Constants\n",
    "BASE_URL = \"https://api.themoviedb.org/3/\"\n",
    "API_KEY = \"9767d17413ec9d9729c2cca238df02da\"\n",
    "GENRE_MAP = {}\n",
    "for g in requestResults(\"genre/movie/list?x=1\")[u'genres']:\n",
    "    GENRE_MAP[g['id']] = g['name']\n",
    "\n",
    "# Download image\n",
    "def downloadImageToFile(imgpath, filename):\n",
    "    # Does not return anything\n",
    "    urllib.urlretrieve(\"https://image.tmdb.org/t/p/w500\" + imgpath, filename)\n",
    "    \n",
    "# Get genre and poster path of one movie by title\n",
    "def genreAndPosterPath(title):\n",
    "    title_query = urllib.urlencode({'query': title})\n",
    "    result = requestResults(\"search/movie?\" + title_query + \"&language=en-US&page=1&include-adult=false\")[u'results'][0]\n",
    "    genre_ids = result['genre_ids']\n",
    "    genres = [str(GENRE_MAP[gid]) for gid in genre_ids]\n",
    "    poster_path = result['poster_path']\n",
    "    return genres, poster_path\n",
    "\n",
    "# Get genres from IMDB for one movie by title\n",
    "def imdbGenresByTitle(title):\n",
    "    id_ = imdb_access.search_movie(title)[0].__repr__().split('id:')[1].split('[')[0]\n",
    "    hxs = lxml.html.document_fromstring(requests.get(\"http://www.imdb.com/title/tt\" + id_).content)\n",
    "    return hxs.xpath(\"//a[contains(@href, 'genre')]/text()\")[1:]\n",
    "\n",
    "\n",
    "# Get genres from IMDB for one movie by title\n",
    "def imdbOverview(title):\n",
    "    if (len(imdb_access.search_movie(title))>0):\n",
    "        id_ = imdb_access.search_movie(title)[0].__repr__().split('id:')[1].split('[')[0]\n",
    "        hxs = lxml.html.document_fromstring(requests.get(\"http://www.imdb.com/title/tt\" + id_).content)\n",
    "        text = hxs.xpath(\"//div[@class='summary_text']/text()\")\n",
    "        if (len(text)>0):\n",
    "            return text[0].strip()\n",
    "    return ''\n",
    "\n",
    "# Get genres from TMDB for one movie by title\n",
    "def tmdbGenresByTitle(title):\n",
    "    title_query = urllib.urlencode({'query': title})\n",
    "    genre_ids = requestResults(\"search/movie?\" + title_query + \"&language=en-US&page=1&include-adult=false\")[u'results'][0]['genre_ids']\n",
    "    return _mapGidsToGenres(genre_ids)\n",
    "\n",
    "# Private helper function that maps genre_ids to genres\n",
    "def _mapGidsToGenres(genre_ids):\n",
    "    return [str(GENRE_MAP[gid]) for gid in genre_ids]\n",
    "\n",
    "imdb_access = imdb.IMDb()\n",
    "\n",
    "# EXAMPLES\n",
    "# requestResults(\"discover/movie?sort_by=popularity.desc\")[u'results'][0] # Get top 10 most popular results\n",
    "# downloadImageToFile('/tnmL0g604PDRJwGJ5fsUSYKFo9.jpg', 't2s.jpg') # Download an image to the file t2s.jpg"
   ]
  },
  {
   "cell_type": "code",
   "execution_count": 95,
   "metadata": {
    "collapsed": true
   },
   "outputs": [],
   "source": [
    "movies_1 = pd.read_csv('./tmdb-movies-1-to-400.csv')\n",
    "movies_2 = pd.read_csv('./tmdb-movies_start_601_end_801.csv')\n",
    "movies_combined = pd.concat([movies_1, movies_2])"
   ]
  },
  {
   "cell_type": "code",
   "execution_count": 138,
   "metadata": {
    "collapsed": false
   },
   "outputs": [],
   "source": [
    "x = np.array(np.matrix(movies_601['genre_ids'][0]))[0]\n",
    "def idToName(idArrayStr):\n",
    "    if idArrayStr == '[]':\n",
    "        return ''\n",
    "    idArray = np.array(np.matrix(idArrayStr))[0]\n",
    "    genres = []\n",
    "    for gid in idArray:\n",
    "        if gid != 10769:\n",
    "            genres.append(GENRE_MAP[gid])\n",
    "    return ','.join(genres)\n",
    "\n",
    "def idStrToArray(idArrayStr):\n",
    "    if idArrayStr == '[]':\n",
    "        return ''\n",
    "    idArray = np.array(np.matrix(idArrayStr))[0]\n",
    "    genres = []\n",
    "    for gid in idArray:\n",
    "        if gid != 10769:\n",
    "            genres.append(str(gid))\n",
    "    return ','.join(genres)"
   ]
  },
  {
   "cell_type": "code",
   "execution_count": 139,
   "metadata": {
    "collapsed": false
   },
   "outputs": [],
   "source": [
    "movies_combined['genres'] = movies_combined['genre_ids'].apply(idToName)\n",
    "movies_combined['genre_ids_cleaned'] = movies_combined['genre_ids'].apply(idStrToArray)"
   ]
  },
  {
   "cell_type": "code",
   "execution_count": 148,
   "metadata": {
    "collapsed": false
   },
   "outputs": [],
   "source": [
    "movies_combined_cleaned = movies_combined.drop(labels=['adult', 'video', 'genre_ids'], axis=1)"
   ]
  },
  {
   "cell_type": "code",
   "execution_count": 149,
   "metadata": {
    "collapsed": false
   },
   "outputs": [
    {
     "data": {
      "text/html": [
       "<div>\n",
       "<table border=\"1\" class=\"dataframe\">\n",
       "  <thead>\n",
       "    <tr style=\"text-align: right;\">\n",
       "      <th></th>\n",
       "      <th>id</th>\n",
       "      <th>poster_path</th>\n",
       "      <th>title</th>\n",
       "      <th>overview</th>\n",
       "      <th>release_date</th>\n",
       "      <th>popularity</th>\n",
       "      <th>original_title</th>\n",
       "      <th>backdrop_path</th>\n",
       "      <th>keywords</th>\n",
       "      <th>vote_count</th>\n",
       "      <th>vote_average</th>\n",
       "      <th>original_language</th>\n",
       "      <th>genres</th>\n",
       "      <th>genre_ids_cleaned</th>\n",
       "    </tr>\n",
       "  </thead>\n",
       "  <tbody>\n",
       "    <tr>\n",
       "      <th>0</th>\n",
       "      <td>321612</td>\n",
       "      <td>/tWqifoYuwLETmmasnGHO7xBjEtt.jpg</td>\n",
       "      <td>Beauty and the Beast</td>\n",
       "      <td>A live-action adaptation of Disney's version o...</td>\n",
       "      <td>3/17/17</td>\n",
       "      <td>180.451320</td>\n",
       "      <td>Beauty and the Beast</td>\n",
       "      <td>/6aUWe0GSl69wMTSWWexsorMIvwU.jpg</td>\n",
       "      <td>france,magic,castle,fairy tale,musical,curse,c...</td>\n",
       "      <td>1246</td>\n",
       "      <td>7.1</td>\n",
       "      <td>en</td>\n",
       "      <td>Fantasy,Music,Romance</td>\n",
       "      <td>14,10402,10749</td>\n",
       "    </tr>\n",
       "    <tr>\n",
       "      <th>1</th>\n",
       "      <td>263115</td>\n",
       "      <td>/45Y1G5FEgttPAwjTYic6czC9xCn.jpg</td>\n",
       "      <td>Logan</td>\n",
       "      <td>In the near future, a weary Logan cares for an...</td>\n",
       "      <td>2/28/17</td>\n",
       "      <td>117.369877</td>\n",
       "      <td>Logan</td>\n",
       "      <td>/5pAGnkFYSsFJ99ZxDIYnhQbQFXs.jpg</td>\n",
       "      <td>cyborg,experiment,self-destruction,mutant,futu...</td>\n",
       "      <td>2075</td>\n",
       "      <td>7.6</td>\n",
       "      <td>en</td>\n",
       "      <td>Action,Drama,Science Fiction</td>\n",
       "      <td>28,18,878</td>\n",
       "    </tr>\n",
       "    <tr>\n",
       "      <th>2</th>\n",
       "      <td>335797</td>\n",
       "      <td>/s9ye87pvq2IaDvjv9x4IOXVjvA7.jpg</td>\n",
       "      <td>Sing</td>\n",
       "      <td>A koala named Buster recruits his best friend ...</td>\n",
       "      <td>11/23/16</td>\n",
       "      <td>80.989984</td>\n",
       "      <td>Sing</td>\n",
       "      <td>/fxDXp8un4qNY9b1dLd7SH6CKzC.jpg</td>\n",
       "      <td>furry,talking animal,singing,anthropomorphic a...</td>\n",
       "      <td>1007</td>\n",
       "      <td>6.7</td>\n",
       "      <td>en</td>\n",
       "      <td>Animation,Comedy,Drama,Family,Music</td>\n",
       "      <td>16,35,18,10751,10402</td>\n",
       "    </tr>\n",
       "    <tr>\n",
       "      <th>3</th>\n",
       "      <td>293167</td>\n",
       "      <td>/aoUyphk4nwffrwlZRaOa0eijgpr.jpg</td>\n",
       "      <td>Kong: Skull Island</td>\n",
       "      <td>Explore the mysterious and dangerous home of t...</td>\n",
       "      <td>3/8/17</td>\n",
       "      <td>61.933195</td>\n",
       "      <td>Kong: Skull Island</td>\n",
       "      <td>/pGwChWiAY1bdoxL79sXmaFBlYJH.jpg</td>\n",
       "      <td>monster,expedition,island,prequel,king kong,ka...</td>\n",
       "      <td>876</td>\n",
       "      <td>6.1</td>\n",
       "      <td>en</td>\n",
       "      <td>Science Fiction,Action,Adventure,Fantasy</td>\n",
       "      <td>878,28,12,14</td>\n",
       "    </tr>\n",
       "    <tr>\n",
       "      <th>4</th>\n",
       "      <td>135397</td>\n",
       "      <td>/jjBgi2r5cRt36xF6iNUEhzscEcb.jpg</td>\n",
       "      <td>Jurassic World</td>\n",
       "      <td>Twenty-two years after the events of Jurassic ...</td>\n",
       "      <td>6/9/15</td>\n",
       "      <td>51.976724</td>\n",
       "      <td>Jurassic World</td>\n",
       "      <td>/dkMD5qlogeRMiEixC4YNPUvax2T.jpg</td>\n",
       "      <td>monster,dna,tyrannosaurus rex,velociraptor,isl...</td>\n",
       "      <td>6699</td>\n",
       "      <td>6.5</td>\n",
       "      <td>en</td>\n",
       "      <td>Action,Adventure,Science Fiction,Thriller</td>\n",
       "      <td>28,12,878,53</td>\n",
       "    </tr>\n",
       "  </tbody>\n",
       "</table>\n",
       "</div>"
      ],
      "text/plain": [
       "       id                       poster_path                 title  \\\n",
       "0  321612  /tWqifoYuwLETmmasnGHO7xBjEtt.jpg  Beauty and the Beast   \n",
       "1  263115  /45Y1G5FEgttPAwjTYic6czC9xCn.jpg                 Logan   \n",
       "2  335797  /s9ye87pvq2IaDvjv9x4IOXVjvA7.jpg                  Sing   \n",
       "3  293167  /aoUyphk4nwffrwlZRaOa0eijgpr.jpg    Kong: Skull Island   \n",
       "4  135397  /jjBgi2r5cRt36xF6iNUEhzscEcb.jpg        Jurassic World   \n",
       "\n",
       "                                            overview release_date  popularity  \\\n",
       "0  A live-action adaptation of Disney's version o...      3/17/17  180.451320   \n",
       "1  In the near future, a weary Logan cares for an...      2/28/17  117.369877   \n",
       "2  A koala named Buster recruits his best friend ...     11/23/16   80.989984   \n",
       "3  Explore the mysterious and dangerous home of t...       3/8/17   61.933195   \n",
       "4  Twenty-two years after the events of Jurassic ...       6/9/15   51.976724   \n",
       "\n",
       "         original_title                     backdrop_path  \\\n",
       "0  Beauty and the Beast  /6aUWe0GSl69wMTSWWexsorMIvwU.jpg   \n",
       "1                 Logan  /5pAGnkFYSsFJ99ZxDIYnhQbQFXs.jpg   \n",
       "2                  Sing   /fxDXp8un4qNY9b1dLd7SH6CKzC.jpg   \n",
       "3    Kong: Skull Island  /pGwChWiAY1bdoxL79sXmaFBlYJH.jpg   \n",
       "4        Jurassic World  /dkMD5qlogeRMiEixC4YNPUvax2T.jpg   \n",
       "\n",
       "                                            keywords  vote_count  \\\n",
       "0  france,magic,castle,fairy tale,musical,curse,c...        1246   \n",
       "1  cyborg,experiment,self-destruction,mutant,futu...        2075   \n",
       "2  furry,talking animal,singing,anthropomorphic a...        1007   \n",
       "3  monster,expedition,island,prequel,king kong,ka...         876   \n",
       "4  monster,dna,tyrannosaurus rex,velociraptor,isl...        6699   \n",
       "\n",
       "   vote_average original_language                                     genres  \\\n",
       "0           7.1                en                      Fantasy,Music,Romance   \n",
       "1           7.6                en               Action,Drama,Science Fiction   \n",
       "2           6.7                en        Animation,Comedy,Drama,Family,Music   \n",
       "3           6.1                en   Science Fiction,Action,Adventure,Fantasy   \n",
       "4           6.5                en  Action,Adventure,Science Fiction,Thriller   \n",
       "\n",
       "      genre_ids_cleaned  \n",
       "0        14,10402,10749  \n",
       "1             28,18,878  \n",
       "2  16,35,18,10751,10402  \n",
       "3          878,28,12,14  \n",
       "4          28,12,878,53  "
      ]
     },
     "execution_count": 149,
     "metadata": {},
     "output_type": "execute_result"
    }
   ],
   "source": [
    "movies_combined_cleaned.head()"
   ]
  },
  {
   "cell_type": "code",
   "execution_count": 109,
   "metadata": {
    "collapsed": false
   },
   "outputs": [],
   "source": [
    "# check for other \n",
    "for i in range(movies_combined.shape[0]):\n",
    "    row = movies_combined.iloc[i]\n",
    "    if 'other' in row['genres']:\n",
    "        print row['title'], ' num genres:', len(row['genres'].split(','))"
   ]
  },
  {
   "cell_type": "code",
   "execution_count": 110,
   "metadata": {
    "collapsed": false
   },
   "outputs": [],
   "source": [
    "genre_counts = {}\n",
    "for i in range(movies_combined.shape[0]):\n",
    "    row = movies_combined.iloc[i]\n",
    "    genre_id_str = row['genre_ids']\n",
    "    genre_ids = []\n",
    "    if genre_id_str != '[]':\n",
    "        genre_ids = np.array(np.matrix(genre_id_str))[0]\n",
    "    for gid in genre_ids:\n",
    "        if gid not in genre_counts:\n",
    "            genre_counts[gid] = 1\n",
    "        else:\n",
    "            genre_counts[gid] +=1"
   ]
  },
  {
   "cell_type": "code",
   "execution_count": 111,
   "metadata": {
    "collapsed": false
   },
   "outputs": [],
   "source": [
    "genre_count_names = {}\n",
    "for name in genre_counts:\n",
    "    if (name in GENRE_MAP):\n",
    "        genre = GENRE_MAP[name]\n",
    "    else:\n",
    "        genre = name\n",
    "    genre_count_names[genre] = genre_counts[name]"
   ]
  },
  {
   "cell_type": "code",
   "execution_count": 112,
   "metadata": {
    "collapsed": false
   },
   "outputs": [
    {
     "data": {
      "text/plain": [
       "{10769: 109,\n",
       " u'Action': 2648,\n",
       " u'Adventure': 1667,\n",
       " u'Animation': 865,\n",
       " u'Comedy': 3675,\n",
       " u'Crime': 1501,\n",
       " u'Documentary': 306,\n",
       " u'Drama': 5505,\n",
       " u'Family': 1102,\n",
       " u'Fantasy': 995,\n",
       " u'History': 453,\n",
       " u'Horror': 1456,\n",
       " u'Music': 337,\n",
       " u'Mystery': 845,\n",
       " u'Romance': 1991,\n",
       " u'Science Fiction': 1220,\n",
       " u'TV Movie': 183,\n",
       " u'Thriller': 2977,\n",
       " u'War': 376,\n",
       " u'Western': 214}"
      ]
     },
     "execution_count": 112,
     "metadata": {},
     "output_type": "execute_result"
    }
   ],
   "source": [
    "genre_count_names"
   ]
  },
  {
   "cell_type": "code",
   "execution_count": null,
   "metadata": {
    "collapsed": true
   },
   "outputs": [],
   "source": []
  }
 ],
 "metadata": {
  "anaconda-cloud": {},
  "kernelspec": {
   "display_name": "Python 2",
   "language": "python",
   "name": "python2"
  },
  "language_info": {
   "codemirror_mode": {
    "name": "ipython",
    "version": 2
   },
   "file_extension": ".py",
   "mimetype": "text/x-python",
   "name": "python",
   "nbconvert_exporter": "python",
   "pygments_lexer": "ipython2",
   "version": "2.7.12"
  }
 },
 "nbformat": 4,
 "nbformat_minor": 0
}
