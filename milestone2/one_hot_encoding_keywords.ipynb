{
 "cells": [
  {
   "cell_type": "code",
   "execution_count": 1,
   "metadata": {
    "collapsed": true
   },
   "outputs": [],
   "source": [
    "# NOTE: Run this in Python 2.7\n",
    "import requests\n",
    "import urllib\n",
    "import imdb\n",
    "import lxml.html\n",
    "import numpy as np\n",
    "import pandas as pd\n",
    "import itertools\n",
    "%matplotlib inline\n",
    "import seaborn as sns\n",
    "import math\n",
    "import matplotlib.pyplot as plt"
   ]
  },
  {
   "cell_type": "code",
   "execution_count": 4,
   "metadata": {
    "collapsed": true
   },
   "outputs": [],
   "source": [
    "movies = pd.read_csv('./all_movies_clean.csv').drop(labels=['Unnamed: 0'], axis=1)"
   ]
  },
  {
   "cell_type": "code",
   "execution_count": 16,
   "metadata": {
    "collapsed": false
   },
   "outputs": [],
   "source": [
    "# count keywords in data set\n",
    "keyword_counts = []\n",
    "for i in range(movies.shape[0]):\n",
    "    if 'nan' not in str(movies['keywords'][i]):\n",
    "        count = len(movies['keywords'][i].split(','))\n",
    "    keyword_counts.append(count)"
   ]
  },
  {
   "cell_type": "code",
   "execution_count": 26,
   "metadata": {
    "collapsed": false
   },
   "outputs": [],
   "source": [
    "# find all unique keywords \n",
    "keywords = []\n",
    "for i in range(movies.shape[0]):\n",
    "    if 'nan' not in str(movies['keywords'][i]):\n",
    "        keywords = keywords + movies['keywords'][i].split(',')\n",
    "words, counts = np.unique(keywords, return_counts=True)"
   ]
  },
  {
   "cell_type": "code",
   "execution_count": 30,
   "metadata": {
    "collapsed": false
   },
   "outputs": [],
   "source": [
    "# sort by count of keywords in data set \n",
    "vals = zip(words, counts)\n",
    "sorted_vals = sorted(vals, key = lambda t: t[1], reverse=True)"
   ]
  },
  {
   "cell_type": "code",
   "execution_count": 22,
   "metadata": {
    "collapsed": false
   },
   "outputs": [
    {
     "data": {
      "image/png": "[encoded data removed]",
      "text/plain": [
       "<matplotlib.figure.Figure at 0x1181d8710>"
      ]
     },
     "metadata": {},
     "output_type": "display_data"
    }
   ],
   "source": [
    "# histogram of number of keywords per movie\n",
    "plt.hist(keyword_counts, bins=100)\n",
    "plt.show()"
   ]
  },
  {
   "cell_type": "code",
   "execution_count": 82,
   "metadata": {
    "collapsed": false
   },
   "outputs": [],
   "source": [
    "# one hot encoding of keywords \n",
    "movies_keywords_df = pd.DataFrame({'keywords': movies['keywords'].values, 'ids': movies['id'].values})\n",
    "n = movies.shape[0]\n",
    "for j, w in enumerate(words):\n",
    "    if (j%100 == 0):\n",
    "        print(j)\n",
    "    one_hot_vector = np.zeros((n,1))\n",
    "    for i in range(movies.shape[0]):\n",
    "        if 'nan' not in str(movies['keywords'][i]):\n",
    "            keywords = movies['keywords'][i].split(',')\n",
    "            if w in keywords:\n",
    "                one_hot_vector[j] = 1\n",
    "    movies_keywords_df[w] = one_hot_vector"
   ]
  },
  {
   "cell_type": "code",
   "execution_count": null,
   "metadata": {
    "collapsed": true
   },
   "outputs": [],
   "source": [
    "movies_keywords_df.head()"
   ]
  }
 ],
 "metadata": {
  "kernelspec": {
   "display_name": "Python 2",
   "language": "python",
   "name": "python2"
  },
  "language_info": {
   "codemirror_mode": {
    "name": "ipython",
    "version": 2
   },
   "file_extension": ".py",
   "mimetype": "text/x-python",
   "name": "python",
   "nbconvert_exporter": "python",
   "pygments_lexer": "ipython2",
   "version": "2.7.12"
  }
 },
 "nbformat": 4,
 "nbformat_minor": 0
}
