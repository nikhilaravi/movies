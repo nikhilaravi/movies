{
 "cells": [
  {
   "cell_type": "code",
   "execution_count": 7,
   "metadata": {
    "collapsed": true
   },
   "outputs": [],
   "source": [
    "# NOTE: Run this in Python 2.7\n",
    "import requests\n",
    "import urllib\n",
    "import imdb\n",
    "import lxml.html\n",
    "import numpy as np\n",
    "import pandas as pd\n",
    "import itertools\n",
    "%matplotlib inline\n",
    "import seaborn as sns\n",
    "import math\n",
    "import matplotlib.pyplot as plt"
   ]
  },
  {
   "cell_type": "code",
   "execution_count": 95,
   "metadata": {
    "collapsed": true
   },
   "outputs": [],
   "source": [
    "# load all movies and combine \n",
    "movies_1 = pd.read_csv('./tmdb-movies-1-to-400.csv')\n",
    "movies_2 = pd.read_csv('./tmdb-movies_start_601_end_801.csv')\n",
    "movies_combined = pd.concat([movies_1, movies_2])"
   ]
  },
  {
   "cell_type": "code",
   "execution_count": 160,
   "metadata": {
    "collapsed": false
   },
   "outputs": [],
   "source": [
    "# helper functions to format genre ids from arrays to strings and from ids to genre names\n",
    "def idToName(idArrayStr):\n",
    "    if idArrayStr == '[]':\n",
    "        return ''\n",
    "    idArray = np.array(np.matrix(idArrayStr))[0]\n",
    "    genres = []\n",
    "    for gid in idArray:\n",
    "        if gid != 10769:\n",
    "            genres.append(GENRE_MAP[gid])\n",
    "    return ','.join(genres)\n",
    "\n",
    "def idStrToArray(idArrayStr):\n",
    "    if idArrayStr == '[]':\n",
    "        return ''\n",
    "    idArray = np.array(np.matrix(idArrayStr))[0]\n",
    "    genres = []\n",
    "    for gid in idArray:\n",
    "        # unknown id 10769\n",
    "        if gid != 10769:\n",
    "            genres.append(str(gid))\n",
    "    return ','.join(genres)"
   ]
  },
  {
   "cell_type": "code",
   "execution_count": 139,
   "metadata": {
    "collapsed": false
   },
   "outputs": [],
   "source": [
    "# turn ids to names and remove unknown id\n",
    "movies_combined['genres'] = movies_combined['genre_ids'].apply(idToName)\n",
    "movies_combined['genre_ids_cleaned'] = movies_combined['genre_ids'].apply(idStrToArray)"
   ]
  },
  {
   "cell_type": "code",
   "execution_count": 148,
   "metadata": {
    "collapsed": false
   },
   "outputs": [],
   "source": [
    "# remove unecessary columns \n",
    "movies_combined_cleaned = movies_combined.drop(labels=['adult', 'video', 'genre_ids'], axis=1)"
   ]
  },
  {
   "cell_type": "code",
   "execution_count": 109,
   "metadata": {
    "collapsed": false
   },
   "outputs": [],
   "source": [
    "# check for other \n",
    "for i in range(movies_combined.shape[0]):\n",
    "    row = movies_combined.iloc[i]\n",
    "    if 'other' in row['genres']:\n",
    "        print row['title'], ' num genres:', len(row['genres'].split(','))"
   ]
  },
  {
   "cell_type": "code",
   "execution_count": 157,
   "metadata": {
    "collapsed": false
   },
   "outputs": [],
   "source": [
    "# count occurence of each genre in dataset \n",
    "genre_counts = {}\n",
    "for i in range(movies_combined.shape[0]):\n",
    "    row = movies_combined.iloc[i]\n",
    "    genre_id_str = row['genre_ids']\n",
    "    genre_ids = []\n",
    "    if genre_id_str != '[]':\n",
    "        genre_ids = np.array(np.matrix(genre_id_str))[0]\n",
    "    for gid in genre_ids:\n",
    "        if gid not in genre_counts:\n",
    "            genre_counts[gid] = 1\n",
    "        else:\n",
    "            genre_counts[gid] +=1"
   ]
  },
  {
   "cell_type": "code",
   "execution_count": 158,
   "metadata": {
    "collapsed": false
   },
   "outputs": [],
   "source": [
    "# turn genre id to genre name \n",
    "genre_count_names = {}\n",
    "for name in genre_counts:\n",
    "    if (name in GENRE_MAP):\n",
    "        genre = GENRE_MAP[name]\n",
    "    else:\n",
    "        genre = name\n",
    "    genre_count_names[str(genre)] = genre_counts[name]"
   ]
  },
  {
   "cell_type": "code",
   "execution_count": 159,
   "metadata": {
    "collapsed": false
   },
   "outputs": [
    {
     "data": {
      "text/plain": [
       "{'10769': 109,\n",
       " 'Action': 2648,\n",
       " 'Adventure': 1667,\n",
       " 'Animation': 865,\n",
       " 'Comedy': 3675,\n",
       " 'Crime': 1501,\n",
       " 'Documentary': 306,\n",
       " 'Drama': 5505,\n",
       " 'Family': 1102,\n",
       " 'Fantasy': 995,\n",
       " 'History': 453,\n",
       " 'Horror': 1456,\n",
       " 'Music': 337,\n",
       " 'Mystery': 845,\n",
       " 'Romance': 1991,\n",
       " 'Science Fiction': 1220,\n",
       " 'TV Movie': 183,\n",
       " 'Thriller': 2977,\n",
       " 'War': 376,\n",
       " 'Western': 214}"
      ]
     },
     "execution_count": 159,
     "metadata": {},
     "output_type": "execute_result"
    }
   ],
   "source": [
    "genre_count_names"
   ]
  }
 ],
 "metadata": {
  "anaconda-cloud": {},
  "kernelspec": {
   "display_name": "Python 2",
   "language": "python",
   "name": "python2"
  },
  "language_info": {
   "codemirror_mode": {
    "name": "ipython",
    "version": 2
   },
   "file_extension": ".py",
   "mimetype": "text/x-python",
   "name": "python",
   "nbconvert_exporter": "python",
   "pygments_lexer": "ipython2",
   "version": "2.7.12"
  }
 },
 "nbformat": 4,
 "nbformat_minor": 0
}
