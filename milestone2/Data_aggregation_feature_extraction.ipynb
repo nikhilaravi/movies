{
 "cells": [
  {
   "cell_type": "code",
   "execution_count": 2,
   "metadata": {
    "collapsed": true
   },
   "outputs": [],
   "source": [
    "# NOTE: Run this in Python 2.7\n",
    "import requests\n",
    "import urllib\n",
    "import imdb\n",
    "import lxml.html\n",
    "import numpy as np\n",
    "import pandas as pd\n",
    "import itertools\n",
    "%matplotlib inline\n",
    "import seaborn as sns\n",
    "import math\n",
    "import matplotlib.pyplot as plt"
   ]
  },
  {
   "cell_type": "markdown",
   "metadata": {},
   "source": [
    "# Load all movies and combine "
   ]
  },
  {
   "cell_type": "code",
   "execution_count": 5,
   "metadata": {
    "collapsed": false
   },
   "outputs": [],
   "source": [
    "movies_1 = pd.read_csv('../milestone1/tmdb-movies-1-to-400.csv')\n",
    "movies_2 = pd.read_csv('../milestone1/tmdb-movies_start_601_end_801.csv')\n",
    "movies_combined = pd.concat([movies_1, movies_2])"
   ]
  },
  {
   "cell_type": "code",
   "execution_count": 8,
   "metadata": {
    "collapsed": false
   },
   "outputs": [],
   "source": [
    "# helper functions to format genre ids from arrays to strings and from ids to genre names\n",
    "def requestResults(url):\n",
    "    r = requests.get(BASE_URL + url + \"&api_key=\" + API_KEY)\n",
    "    return r.json()\n",
    "\n",
    "# Constants\n",
    "BASE_URL = \"https://api.themoviedb.org/3/\"\n",
    "API_KEY = \"9767d17413ec9d9729c2cca238df02da\"\n",
    "GENRE_MAP = {}\n",
    "for g in requestResults(\"genre/movie/list?x=1\")[u'genres']:\n",
    "    GENRE_MAP[g['id']] = g['name']\n",
    "\n",
    "def idToName(idArrayStr):\n",
    "    if idArrayStr == '[]':\n",
    "        return ''\n",
    "    idArray = np.array(np.matrix(idArrayStr))[0]\n",
    "    genres = []\n",
    "    for gid in idArray:\n",
    "        if gid != 10769:\n",
    "            genres.append(GENRE_MAP[gid])\n",
    "    return ','.join(genres)\n",
    "\n",
    "def idStrToArray(idArrayStr):\n",
    "    if idArrayStr == '[]':\n",
    "        return ''\n",
    "    idArray = np.array(np.matrix(idArrayStr))[0]\n",
    "    genres = []\n",
    "    for gid in idArray:\n",
    "        # unknown id 10769\n",
    "        if gid != 10769:\n",
    "            genres.append(str(gid))\n",
    "    return ','.join(genres)"
   ]
  },
  {
   "cell_type": "markdown",
   "metadata": {},
   "source": [
    "### Turn genre ids to genre names and remove genre with unknown id"
   ]
  },
  {
   "cell_type": "code",
   "execution_count": 9,
   "metadata": {
    "collapsed": false
   },
   "outputs": [],
   "source": [
    "movies_combined['genres'] = movies_combined['genre_ids'].apply(idToName)\n",
    "movies_combined['genre_ids_cleaned'] = movies_combined['genre_ids'].apply(idStrToArray)"
   ]
  },
  {
   "cell_type": "code",
   "execution_count": 10,
   "metadata": {
    "collapsed": false
   },
   "outputs": [],
   "source": [
    "# remove unecessary columns \n",
    "movies_combined_cleaned = movies_combined.drop(labels=['adult', 'video', 'genre_ids'], axis=1)"
   ]
  },
  {
   "cell_type": "code",
   "execution_count": 11,
   "metadata": {
    "collapsed": false
   },
   "outputs": [],
   "source": [
    "# check unknown id has been removed\n",
    "for i in range(movies_combined.shape[0]):\n",
    "    row = movies_combined.iloc[i]\n",
    "    if 'other' in row['genres']:\n",
    "        print row['title'], ' num genres:', len(row['genres'].split(','))"
   ]
  },
  {
   "cell_type": "markdown",
   "metadata": {},
   "source": [
    "### Count occurence of each genre in dataset "
   ]
  },
  {
   "cell_type": "code",
   "execution_count": 19,
   "metadata": {
    "collapsed": false
   },
   "outputs": [],
   "source": [
    "genre_counts = {}\n",
    "for i in range(movies_combined.shape[0]):\n",
    "    row = movies_combined.iloc[i]\n",
    "    genre_id_str = row['genre_ids_cleaned']\n",
    "    genre_ids = []\n",
    "    if genre_id_str != '[]':\n",
    "        genre_ids = np.array(np.matrix(genre_id_str))[0]\n",
    "    for gid in genre_ids:\n",
    "        if gid not in genre_counts:\n",
    "            genre_counts[gid] = 1\n",
    "        else:\n",
    "            genre_counts[gid] +=1"
   ]
  },
  {
   "cell_type": "code",
   "execution_count": 20,
   "metadata": {
    "collapsed": false
   },
   "outputs": [],
   "source": [
    "# turn genre id to genre name \n",
    "genre_count_names = {}\n",
    "for name in genre_counts:\n",
    "    if (name in GENRE_MAP):\n",
    "        genre = GENRE_MAP[name]\n",
    "    else:\n",
    "        genre = name\n",
    "    genre_count_names[str(genre)] = genre_counts[name]"
   ]
  },
  {
   "cell_type": "code",
   "execution_count": 22,
   "metadata": {
    "collapsed": false
   },
   "outputs": [
    {
     "data": {
      "text/plain": [
       "{'Action': 2648,\n",
       " 'Adventure': 1667,\n",
       " 'Animation': 865,\n",
       " 'Comedy': 3675,\n",
       " 'Crime': 1501,\n",
       " 'Documentary': 306,\n",
       " 'Drama': 5505,\n",
       " 'Family': 1102,\n",
       " 'Fantasy': 995,\n",
       " 'History': 453,\n",
       " 'Horror': 1456,\n",
       " 'Music': 337,\n",
       " 'Mystery': 845,\n",
       " 'Romance': 1991,\n",
       " 'Science Fiction': 1220,\n",
       " 'TV Movie': 183,\n",
       " 'Thriller': 2977,\n",
       " 'War': 376,\n",
       " 'Western': 214}"
      ]
     },
     "execution_count": 22,
     "metadata": {},
     "output_type": "execute_result"
    }
   ],
   "source": [
    "genre_count_names"
   ]
  },
  {
   "cell_type": "markdown",
   "metadata": {},
   "source": [
    "## Exploring keywords"
   ]
  },
  {
   "cell_type": "code",
   "execution_count": 23,
   "metadata": {
    "collapsed": true
   },
   "outputs": [],
   "source": [
    "movies = pd.read_csv('./all_movies_clean.csv').drop(labels=['Unnamed: 0'], axis=1)"
   ]
  },
  {
   "cell_type": "code",
   "execution_count": 26,
   "metadata": {
    "collapsed": false
   },
   "outputs": [],
   "source": [
    "# count keywords in data set\n",
    "keyword_counts = []\n",
    "for i in range(movies.shape[0]):\n",
    "    if 'nan' not in str(movies['keywords'][i]):\n",
    "        count = len(movies['keywords'][i].split(','))\n",
    "    keyword_counts.append(count)\n",
    "    \n",
    "# find all unique keywords \n",
    "keywords = []\n",
    "for i in range(movies.shape[0]):\n",
    "    if 'nan' not in str(movies['keywords'][i]):\n",
    "        keywords = keywords + movies['keywords'][i].split(',')\n",
    "words, counts = np.unique(keywords, return_counts=True)\n",
    "\n",
    "# sort by count of keywords in data set \n",
    "vals = zip(words, counts)\n",
    "sorted_vals = sorted(vals, key = lambda t: t[1], reverse=True)"
   ]
  },
  {
   "cell_type": "code",
   "execution_count": 30,
   "metadata": {
    "collapsed": false
   },
   "outputs": [
    {
     "data": {
      "image/png": "[encoded data removed]",
      "text/plain": [
       "<matplotlib.figure.Figure at 0x11b39b2d0>"
      ]
     },
     "metadata": {},
     "output_type": "display_data"
    }
   ],
   "source": [
    "# histogram of number of keywords per movie\n",
    "plt.hist(keyword_counts, bins=100)\n",
    "plt.xlabel('number of keywords')\n",
    "plt.ylabel('number of movies')\n",
    "plt.show()"
   ]
  },
  {
   "cell_type": "markdown",
   "metadata": {},
   "source": [
    "## One hot encoding of keywords as features"
   ]
  },
  {
   "cell_type": "code",
   "execution_count": null,
   "metadata": {
    "collapsed": false
   },
   "outputs": [],
   "source": [
    "movies_keywords_df = pd.DataFrame({'keywords': movies['keywords'].values, 'ids': movies['id'].values})\n",
    "n = movies.shape[0]\n",
    "for j, w in enumerate(words):\n",
    "    if (j%100 == 0):\n",
    "        print(j)\n",
    "    one_hot_vector = np.zeros((n,1))\n",
    "    for i in range(movies.shape[0]):\n",
    "        if 'nan' not in str(movies['keywords'][i]):\n",
    "            keywords = movies['keywords'][i].split(',')\n",
    "            if w in keywords:\n",
    "                one_hot_vector[j] = 1\n",
    "    movies_keywords_df[w] = one_hot_vector"
   ]
  }
 ],
 "metadata": {
  "anaconda-cloud": {},
  "kernelspec": {
   "display_name": "Python 2",
   "language": "python",
   "name": "python2"
  },
  "language_info": {
   "codemirror_mode": {
    "name": "ipython",
    "version": 2
   },
   "file_extension": ".py",
   "mimetype": "text/x-python",
   "name": "python",
   "nbconvert_exporter": "python",
   "pygments_lexer": "ipython2",
   "version": "2.7.12"
  }
 },
 "nbformat": 4,
 "nbformat_minor": 0
}
