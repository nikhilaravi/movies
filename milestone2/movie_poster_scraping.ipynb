{
 "cells": [
  {
   "cell_type": "code",
   "execution_count": 14,
   "metadata": {
    "collapsed": true
   },
   "outputs": [],
   "source": [
    "# STANDALONE TO DOWNLOAD MOVIES GIVEN CSV FILE\n",
    "\n",
    "import csv\n",
    "import time\n",
    "import os\n",
    "import requests\n",
    "import numpy as np\n",
    "import pandas as pd\n",
    "import urllib\n",
    "import pickle\n",
    "\n",
    "#########################################################\n",
    "\n",
    "# Download one image to filepath, note that imgpath is prepended with a /\n",
    "def _downloadImageToFile(imgpath, filename):\n",
    "    # Does not return anything\n",
    "    urllib.urlretrieve(\"https://image.tmdb.org/t/p/w500\" + imgpath, filename)\n",
    "    \n",
    "def downloadImagesToFolder(csv_file, foldername): \n",
    "    # Folder name without any trailing /; If folder does not exist, create it\n",
    "    if not os.path.exists(foldername):\n",
    "        os.makedirs(foldername)\n",
    "\n",
    "    df = pd.read_csv(csv_file)\n",
    "    df = np.array(df[['tmdb_id', 'poster_path']])\n",
    "    print'total number of posters: ', df.shape[0]\n",
    "    \n",
    "    # TMDB limits 4 requests per second\n",
    "    hit = 3 # Once hit reaches 0, call timer and reset hit to 3\n",
    "    \n",
    "    for count, row in df.iterrows():\n",
    "        mid = str(row['tmdb_id'])\n",
    "        poster_path = row['poster_path']\n",
    "        if (type(poster_path) != str) or (poster_path.strip() == ''):\n",
    "            continue\n",
    "        _downloadImageToFile(imgpath=poster_path, filename=foldername + \"/\" + mid + \".jpg\")\n",
    "        hit -= 1\n",
    "        if hit <= 0:\n",
    "            hit = 3\n",
    "            time.sleep(1)\n",
    "        if count % 200 == 0:\n",
    "            print'Done downloading %d posters' % count"
   ]
  },
  {
   "cell_type": "code",
   "execution_count": 15,
   "metadata": {
    "collapsed": false
   },
   "outputs": [
    {
     "name": "stdout",
     "output_type": "stream",
     "text": [
      "('total number of posters: ', 6354)\n",
      "Done downloading 200 posters\n",
      "Done downloading 400 posters\n",
      "Done downloading 600 posters\n",
      "Done downloading 800 posters\n",
      "Done downloading 1000 posters\n",
      "Done downloading 1200 posters\n",
      "Done downloading 1400 posters\n",
      "Done downloading 1600 posters\n",
      "Done downloading 1800 posters\n",
      "Done downloading 2000 posters\n",
      "Done downloading 2200 posters\n",
      "Done downloading 2400 posters\n",
      "Done downloading 2600 posters\n",
      "Done downloading 2800 posters\n",
      "Done downloading 3000 posters\n",
      "Done downloading 3200 posters\n",
      "Done downloading 3400 posters\n",
      "Done downloading 3600 posters\n",
      "Done downloading 3800 posters\n",
      "Done downloading 4000 posters\n",
      "Done downloading 4200 posters\n",
      "Done downloading 4400 posters\n",
      "Done downloading 4600 posters\n",
      "Done downloading 4800 posters\n",
      "Done downloading 5000 posters\n",
      "Done downloading 5200 posters\n",
      "Done downloading 5400 posters\n",
      "Done downloading 5600 posters\n",
      "Done downloading 5800 posters\n",
      "Done downloading 6000 posters\n",
      "Done downloading 6200 posters\n"
     ]
    }
   ],
   "source": [
    "downloadImagesToFolder(csv_file = '../data/movie-posters-list.csv', foldername='../posters')"
   ]
  },
  {
   "cell_type": "code",
   "execution_count": null,
   "metadata": {
    "collapsed": true
   },
   "outputs": [],
   "source": []
  }
 ],
 "metadata": {
  "anaconda-cloud": {},
  "kernelspec": {
   "display_name": "Python 2",
   "language": "python",
   "name": "python2"
  },
  "language_info": {
   "codemirror_mode": {
    "name": "ipython",
    "version": 2
   },
   "file_extension": ".py",
   "mimetype": "text/x-python",
   "name": "python",
   "nbconvert_exporter": "python",
   "pygments_lexer": "ipython2",
   "version": "2.7.12"
  }
 },
 "nbformat": 4,
 "nbformat_minor": 0
}
