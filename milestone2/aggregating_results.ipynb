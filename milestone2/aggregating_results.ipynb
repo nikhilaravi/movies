{
 "cells": [
  {
   "cell_type": "code",
   "execution_count": 122,
   "metadata": {
    "collapsed": true
   },
   "outputs": [],
   "source": [
    "import pandas as pd\n",
    "import os\n",
    "import numpy as np"
   ]
  },
  {
   "cell_type": "markdown",
   "metadata": {},
   "source": [
    "# Concatenate all TMDB data"
   ]
  },
  {
   "cell_type": "code",
   "execution_count": 123,
   "metadata": {
    "collapsed": false
   },
   "outputs": [
    {
     "name": "stdout",
     "output_type": "stream",
     "text": [
      "file tmdb-movies-1-to-400.csv , num movies 8000\n",
      "file tmdb-movies-801-to-1000.csv , num movies 4000\n"
     ]
    }
   ],
   "source": [
    "files = os.listdir('./all-data/')\n",
    "tmdb_data = []\n",
    "for f in files:\n",
    "    if 'tmdb-movies' in f:\n",
    "        im = pd.read_csv('./all-data/' + str(f))\n",
    "        print 'file', f, ', num movies', im.shape[0]\n",
    "        tmdb_data.append(im)\n",
    "tmdb_data_df = pd.concat(tmdb_data, axis=0)"
   ]
  },
  {
   "cell_type": "code",
   "execution_count": 124,
   "metadata": {
    "collapsed": false
   },
   "outputs": [
    {
     "data": {
      "text/html": [
       "<div>\n",
       "<table border=\"1\" class=\"dataframe\">\n",
       "  <thead>\n",
       "    <tr style=\"text-align: right;\">\n",
       "      <th></th>\n",
       "      <th>id</th>\n",
       "      <th>genre_ids</th>\n",
       "      <th>poster_path</th>\n",
       "      <th>title</th>\n",
       "      <th>overview</th>\n",
       "      <th>release_date</th>\n",
       "      <th>popularity</th>\n",
       "      <th>original_title</th>\n",
       "      <th>backdrop_path</th>\n",
       "      <th>keywords</th>\n",
       "      <th>vote_count</th>\n",
       "      <th>video</th>\n",
       "      <th>adult</th>\n",
       "      <th>vote_average</th>\n",
       "      <th>original_language</th>\n",
       "    </tr>\n",
       "  </thead>\n",
       "  <tbody>\n",
       "    <tr>\n",
       "      <th>0</th>\n",
       "      <td>295693</td>\n",
       "      <td>[16, 10751, 35]</td>\n",
       "      <td>/67NXPYvK92oQgEQvLppF2Siol9q.jpg</td>\n",
       "      <td>The Boss Baby</td>\n",
       "      <td>A story about how a new baby's arrival impacts...</td>\n",
       "      <td>2017-03-23</td>\n",
       "      <td>197.039794</td>\n",
       "      <td>The Boss Baby</td>\n",
       "      <td>/bTFeSwh07oX99ofpDI4O2WkiFJ.jpg</td>\n",
       "      <td>family relationships,unreliable narrator,3d</td>\n",
       "      <td>354</td>\n",
       "      <td>False</td>\n",
       "      <td>False</td>\n",
       "      <td>5.8</td>\n",
       "      <td>en</td>\n",
       "    </tr>\n",
       "    <tr>\n",
       "      <th>1</th>\n",
       "      <td>321612</td>\n",
       "      <td>[14, 10402, 10749]</td>\n",
       "      <td>/tWqifoYuwLETmmasnGHO7xBjEtt.jpg</td>\n",
       "      <td>Beauty and the Beast</td>\n",
       "      <td>A live-action adaptation of Disney's version o...</td>\n",
       "      <td>2017-03-16</td>\n",
       "      <td>175.232751</td>\n",
       "      <td>Beauty and the Beast</td>\n",
       "      <td>/6aUWe0GSl69wMTSWWexsorMIvwU.jpg</td>\n",
       "      <td>france,magic,castle,fairy tale,musical,curse,c...</td>\n",
       "      <td>1558</td>\n",
       "      <td>False</td>\n",
       "      <td>False</td>\n",
       "      <td>6.9</td>\n",
       "      <td>en</td>\n",
       "    </tr>\n",
       "  </tbody>\n",
       "</table>\n",
       "</div>"
      ],
      "text/plain": [
       "       id           genre_ids                       poster_path  \\\n",
       "0  295693     [16, 10751, 35]  /67NXPYvK92oQgEQvLppF2Siol9q.jpg   \n",
       "1  321612  [14, 10402, 10749]  /tWqifoYuwLETmmasnGHO7xBjEtt.jpg   \n",
       "\n",
       "                  title                                           overview  \\\n",
       "0         The Boss Baby  A story about how a new baby's arrival impacts...   \n",
       "1  Beauty and the Beast  A live-action adaptation of Disney's version o...   \n",
       "\n",
       "  release_date  popularity        original_title  \\\n",
       "0   2017-03-23  197.039794         The Boss Baby   \n",
       "1   2017-03-16  175.232751  Beauty and the Beast   \n",
       "\n",
       "                      backdrop_path  \\\n",
       "0   /bTFeSwh07oX99ofpDI4O2WkiFJ.jpg   \n",
       "1  /6aUWe0GSl69wMTSWWexsorMIvwU.jpg   \n",
       "\n",
       "                                            keywords  vote_count  video  \\\n",
       "0        family relationships,unreliable narrator,3d         354  False   \n",
       "1  france,magic,castle,fairy tale,musical,curse,c...        1558  False   \n",
       "\n",
       "   adult  vote_average original_language  \n",
       "0  False           5.8                en  \n",
       "1  False           6.9                en  "
      ]
     },
     "execution_count": 124,
     "metadata": {},
     "output_type": "execute_result"
    }
   ],
   "source": [
    "tmdb_data_df.head(2)"
   ]
  },
  {
   "cell_type": "markdown",
   "metadata": {},
   "source": [
    "# Concatenate all IMDB data"
   ]
  },
  {
   "cell_type": "code",
   "execution_count": 125,
   "metadata": {
    "collapsed": false
   },
   "outputs": [
    {
     "name": "stdout",
     "output_type": "stream",
     "text": [
      "file imdb-features-1-to-400.csv-1000 , num movies 375\n",
      "file imdb-features-1-to-400.csv-1500 , num movies 100\n",
      "file imdb-features-1-to-400.csv-2000 , num movies 83\n",
      "file imdb-features-1-to-400.csv-2500 , num movies 319\n",
      "file imdb-features-1-to-400.csv-3000 , num movies 325\n",
      "file imdb-features-1-to-400.csv-3500 , num movies 298\n",
      "file imdb-features-1-to-400.csv-4000 , num movies 308\n",
      "file imdb-features-1-to-400.csv-4500 , num movies 294\n",
      "file imdb-features-1-to-400.csv-500 , num movies 394\n",
      "file imdb-features-1-to-400.csv-5000 , num movies 276\n",
      "file imdb-features-1-to-400.csv-5500 , num movies 277\n",
      "file imdb-features-1-to-400.csv-6000 , num movies 273\n",
      "file imdb-features-1-to-400.csv-6500 , num movies 276\n",
      "file imdb-features-1-to-400.csv-7000 , num movies 233\n",
      "file imdb-features-1-to-400.csv-7500 , num movies 240\n",
      "file imdb-features-801-to-1000.csv-1000 , num movies 132\n",
      "file imdb-features-801-to-1000.csv-1500 , num movies 132\n",
      "file imdb-features-801-to-1000.csv-2000 , num movies 119\n",
      "file imdb-features-801-to-1000.csv-2500 , num movies 112\n",
      "file imdb-features-801-to-1000.csv-3000 , num movies 120\n",
      "file imdb-features-801-to-1000.csv-3500 , num movies 107\n",
      "file imdb-features-801-to-1000.csv-500 , num movies 9\n"
     ]
    }
   ],
   "source": [
    "files = os.listdir('./all-data/')\n",
    "imdb_data = []\n",
    "for f in files:\n",
    "    if 'imdb-features' in f:\n",
    "        im = pd.read_csv('./all-data/' + str(f))\n",
    "        print 'file', f, ', num movies', im.shape[0]\n",
    "        imdb_data.append(im)\n",
    "imdb_data_df = pd.concat(imdb_data, axis=0)"
   ]
  },
  {
   "cell_type": "code",
   "execution_count": 126,
   "metadata": {
    "collapsed": false
   },
   "outputs": [
    {
     "data": {
      "text/plain": [
       "(4802, 6)"
      ]
     },
     "execution_count": 126,
     "metadata": {},
     "output_type": "execute_result"
    }
   ],
   "source": [
    "imdb_data_df.shape"
   ]
  },
  {
   "cell_type": "code",
   "execution_count": 127,
   "metadata": {
    "collapsed": false
   },
   "outputs": [
    {
     "data": {
      "text/html": [
       "<div>\n",
       "<table border=\"1\" class=\"dataframe\">\n",
       "  <thead>\n",
       "    <tr style=\"text-align: right;\">\n",
       "      <th></th>\n",
       "      <th>imdb_id</th>\n",
       "      <th>director</th>\n",
       "      <th>imdb_votes</th>\n",
       "      <th>certificate</th>\n",
       "      <th>num_stunts</th>\n",
       "      <th>num_fx</th>\n",
       "    </tr>\n",
       "  </thead>\n",
       "  <tbody>\n",
       "    <tr>\n",
       "      <th>0</th>\n",
       "      <td>1712261.0</td>\n",
       "      <td>John Hillcoat</td>\n",
       "      <td>46924</td>\n",
       "      <td>15</td>\n",
       "      <td>55</td>\n",
       "      <td>9</td>\n",
       "    </tr>\n",
       "    <tr>\n",
       "      <th>1</th>\n",
       "      <td>462590.0</td>\n",
       "      <td>Anne Fletcher</td>\n",
       "      <td>95357</td>\n",
       "      <td>PG</td>\n",
       "      <td>4</td>\n",
       "      <td>3</td>\n",
       "    </tr>\n",
       "    <tr>\n",
       "      <th>2</th>\n",
       "      <td>56869.0</td>\n",
       "      <td>Alfred Hitchcock</td>\n",
       "      <td>136048</td>\n",
       "      <td>PG-13</td>\n",
       "      <td>3</td>\n",
       "      <td>6</td>\n",
       "    </tr>\n",
       "    <tr>\n",
       "      <th>3</th>\n",
       "      <td>2334879.0</td>\n",
       "      <td>Roland Emmerich</td>\n",
       "      <td>172268</td>\n",
       "      <td>12A</td>\n",
       "      <td>105</td>\n",
       "      <td>43</td>\n",
       "    </tr>\n",
       "    <tr>\n",
       "      <th>4</th>\n",
       "      <td>426883.0</td>\n",
       "      <td>Nick Cassavetes</td>\n",
       "      <td>90163</td>\n",
       "      <td>15</td>\n",
       "      <td>19</td>\n",
       "      <td>4</td>\n",
       "    </tr>\n",
       "  </tbody>\n",
       "</table>\n",
       "</div>"
      ],
      "text/plain": [
       "     imdb_id          director  imdb_votes certificate  num_stunts  num_fx\n",
       "0  1712261.0     John Hillcoat       46924          15          55       9\n",
       "1   462590.0     Anne Fletcher       95357          PG           4       3\n",
       "2    56869.0  Alfred Hitchcock      136048       PG-13           3       6\n",
       "3  2334879.0   Roland Emmerich      172268         12A         105      43\n",
       "4   426883.0   Nick Cassavetes       90163          15          19       4"
      ]
     },
     "execution_count": 127,
     "metadata": {},
     "output_type": "execute_result"
    }
   ],
   "source": [
    "imdb_data_df.head()"
   ]
  },
  {
   "cell_type": "markdown",
   "metadata": {},
   "source": [
    "# Read in imdb - tmdb ids"
   ]
  },
  {
   "cell_type": "code",
   "execution_count": 128,
   "metadata": {
    "collapsed": false
   },
   "outputs": [
    {
     "name": "stdout",
     "output_type": "stream",
     "text": [
      "file imdb-ids-1-to-400.csv , num ids 7979\n",
      "file imdb-ids-801-to-1000.csv , num ids 3974\n"
     ]
    }
   ],
   "source": [
    "files = os.listdir('./all-data/')\n",
    "imdb_tmdb_ids = []\n",
    "for f in files:\n",
    "    if 'imdb-ids' in f:\n",
    "        im = pd.read_csv('./all-data/' + str(f))\n",
    "        print 'file', f, ', num ids', im.shape[0]\n",
    "        imdb_tmdb_ids.append(im)\n",
    "imdb_tmdb_ids_df = pd.concat(imdb_tmdb_ids, axis=0)"
   ]
  },
  {
   "cell_type": "code",
   "execution_count": 129,
   "metadata": {
    "collapsed": false
   },
   "outputs": [
    {
     "data": {
      "text/plain": [
       "(11953, 2)"
      ]
     },
     "execution_count": 129,
     "metadata": {},
     "output_type": "execute_result"
    }
   ],
   "source": [
    "imdb_tmdb_ids_df.shape"
   ]
  },
  {
   "cell_type": "code",
   "execution_count": 130,
   "metadata": {
    "collapsed": false
   },
   "outputs": [
    {
     "data": {
      "text/plain": [
       "id           0\n",
       "imdb_id    191\n",
       "dtype: int64"
      ]
     },
     "execution_count": 130,
     "metadata": {},
     "output_type": "execute_result"
    }
   ],
   "source": [
    "np.sum(pd.isnull(imdb_tmdb_ids_df))"
   ]
  },
  {
   "cell_type": "markdown",
   "metadata": {},
   "source": [
    "# Join tmdb data with tmdb-imdb id mapping"
   ]
  },
  {
   "cell_type": "code",
   "execution_count": 143,
   "metadata": {
    "collapsed": true
   },
   "outputs": [],
   "source": [
    "tmdb_data_imdb_key = tmdb_data_df.merge(imdb_tmdb_ids_df, on='id', how='left')"
   ]
  },
  {
   "cell_type": "code",
   "execution_count": 144,
   "metadata": {
    "collapsed": false
   },
   "outputs": [
    {
     "data": {
      "text/html": [
       "<div>\n",
       "<table border=\"1\" class=\"dataframe\">\n",
       "  <thead>\n",
       "    <tr style=\"text-align: right;\">\n",
       "      <th></th>\n",
       "      <th>id</th>\n",
       "      <th>genre_ids</th>\n",
       "      <th>poster_path</th>\n",
       "      <th>title</th>\n",
       "      <th>overview</th>\n",
       "      <th>release_date</th>\n",
       "      <th>popularity</th>\n",
       "      <th>original_title</th>\n",
       "      <th>backdrop_path</th>\n",
       "      <th>keywords</th>\n",
       "      <th>vote_count</th>\n",
       "      <th>video</th>\n",
       "      <th>adult</th>\n",
       "      <th>vote_average</th>\n",
       "      <th>original_language</th>\n",
       "      <th>imdb_id</th>\n",
       "    </tr>\n",
       "  </thead>\n",
       "  <tbody>\n",
       "    <tr>\n",
       "      <th>0</th>\n",
       "      <td>295693</td>\n",
       "      <td>[16, 10751, 35]</td>\n",
       "      <td>/67NXPYvK92oQgEQvLppF2Siol9q.jpg</td>\n",
       "      <td>The Boss Baby</td>\n",
       "      <td>A story about how a new baby's arrival impacts...</td>\n",
       "      <td>2017-03-23</td>\n",
       "      <td>197.039794</td>\n",
       "      <td>The Boss Baby</td>\n",
       "      <td>/bTFeSwh07oX99ofpDI4O2WkiFJ.jpg</td>\n",
       "      <td>family relationships,unreliable narrator,3d</td>\n",
       "      <td>354</td>\n",
       "      <td>False</td>\n",
       "      <td>False</td>\n",
       "      <td>5.8</td>\n",
       "      <td>en</td>\n",
       "      <td>3.87454e+06</td>\n",
       "    </tr>\n",
       "    <tr>\n",
       "      <th>1</th>\n",
       "      <td>321612</td>\n",
       "      <td>[14, 10402, 10749]</td>\n",
       "      <td>/tWqifoYuwLETmmasnGHO7xBjEtt.jpg</td>\n",
       "      <td>Beauty and the Beast</td>\n",
       "      <td>A live-action adaptation of Disney's version o...</td>\n",
       "      <td>2017-03-16</td>\n",
       "      <td>175.232751</td>\n",
       "      <td>Beauty and the Beast</td>\n",
       "      <td>/6aUWe0GSl69wMTSWWexsorMIvwU.jpg</td>\n",
       "      <td>france,magic,castle,fairy tale,musical,curse,c...</td>\n",
       "      <td>1558</td>\n",
       "      <td>False</td>\n",
       "      <td>False</td>\n",
       "      <td>6.9</td>\n",
       "      <td>en</td>\n",
       "      <td>2.7712e+06</td>\n",
       "    </tr>\n",
       "  </tbody>\n",
       "</table>\n",
       "</div>"
      ],
      "text/plain": [
       "       id           genre_ids                       poster_path  \\\n",
       "0  295693     [16, 10751, 35]  /67NXPYvK92oQgEQvLppF2Siol9q.jpg   \n",
       "1  321612  [14, 10402, 10749]  /tWqifoYuwLETmmasnGHO7xBjEtt.jpg   \n",
       "\n",
       "                  title                                           overview  \\\n",
       "0         The Boss Baby  A story about how a new baby's arrival impacts...   \n",
       "1  Beauty and the Beast  A live-action adaptation of Disney's version o...   \n",
       "\n",
       "  release_date  popularity        original_title  \\\n",
       "0   2017-03-23  197.039794         The Boss Baby   \n",
       "1   2017-03-16  175.232751  Beauty and the Beast   \n",
       "\n",
       "                      backdrop_path  \\\n",
       "0   /bTFeSwh07oX99ofpDI4O2WkiFJ.jpg   \n",
       "1  /6aUWe0GSl69wMTSWWexsorMIvwU.jpg   \n",
       "\n",
       "                                            keywords  vote_count  video  \\\n",
       "0        family relationships,unreliable narrator,3d         354  False   \n",
       "1  france,magic,castle,fairy tale,musical,curse,c...        1558  False   \n",
       "\n",
       "   adult  vote_average original_language      imdb_id  \n",
       "0  False           5.8                en  3.87454e+06  \n",
       "1  False           6.9                en   2.7712e+06  "
      ]
     },
     "execution_count": 144,
     "metadata": {},
     "output_type": "execute_result"
    }
   ],
   "source": [
    "tmdb_data_imdb_key.head(2)"
   ]
  },
  {
   "cell_type": "code",
   "execution_count": 145,
   "metadata": {
    "collapsed": false
   },
   "outputs": [
    {
     "data": {
      "text/plain": [
       "id                      0\n",
       "genre_ids               0\n",
       "poster_path           160\n",
       "title                   0\n",
       "overview              218\n",
       "release_date           36\n",
       "popularity              0\n",
       "original_title          0\n",
       "backdrop_path         761\n",
       "keywords             2128\n",
       "vote_count              0\n",
       "video                   0\n",
       "adult                   0\n",
       "vote_average            0\n",
       "original_language       0\n",
       "imdb_id               240\n",
       "dtype: int64"
      ]
     },
     "execution_count": 145,
     "metadata": {},
     "output_type": "execute_result"
    }
   ],
   "source": [
    "np.sum(pd.isnull(tmdb_data_imdb_key))"
   ]
  },
  {
   "cell_type": "code",
   "execution_count": 146,
   "metadata": {
    "collapsed": false
   },
   "outputs": [
    {
     "data": {
      "text/plain": [
       "(array([nan, '/103KNOz11U4iojwW6F1rOKKZIDp.jpg',\n",
       "        '/107LxWmMYCh01Y7dYsWop7vBnx4.jpg', ...,\n",
       "        '/zzQ2RctWc7JzmTgpuIDPgF6Fdmn.jpg',\n",
       "        '/zzUwC5DUBd62kg1EF1Rf3TGqSVx.jpg',\n",
       "        '/zzqnMAjkcC9O9gemN2Akz7L0zra.jpg'], dtype=object),\n",
       " array([160,   1,   1, ...,   1,   1,   1]))"
      ]
     },
     "execution_count": 146,
     "metadata": {},
     "output_type": "execute_result"
    }
   ],
   "source": [
    "np.unique(tmdb_data_imdb_key['poster_path'], return_counts=True)"
   ]
  },
  {
   "cell_type": "markdown",
   "metadata": {},
   "source": [
    "# Join tmdb data imdb features based on imdb id"
   ]
  },
  {
   "cell_type": "code",
   "execution_count": 147,
   "metadata": {
    "collapsed": false
   },
   "outputs": [],
   "source": [
    "tmdb_data_imdb_features = tmdb_data_imdb_key.merge(imdb_data_df, on='imdb_id', how='left')"
   ]
  },
  {
   "cell_type": "code",
   "execution_count": 148,
   "metadata": {
    "collapsed": false
   },
   "outputs": [
    {
     "data": {
      "text/html": [
       "<div>\n",
       "<table border=\"1\" class=\"dataframe\">\n",
       "  <thead>\n",
       "    <tr style=\"text-align: right;\">\n",
       "      <th></th>\n",
       "      <th>id</th>\n",
       "      <th>genre_ids</th>\n",
       "      <th>poster_path</th>\n",
       "      <th>title</th>\n",
       "      <th>overview</th>\n",
       "      <th>release_date</th>\n",
       "      <th>popularity</th>\n",
       "      <th>original_title</th>\n",
       "      <th>backdrop_path</th>\n",
       "      <th>keywords</th>\n",
       "      <th>...</th>\n",
       "      <th>video</th>\n",
       "      <th>adult</th>\n",
       "      <th>vote_average</th>\n",
       "      <th>original_language</th>\n",
       "      <th>imdb_id</th>\n",
       "      <th>director</th>\n",
       "      <th>imdb_votes</th>\n",
       "      <th>certificate</th>\n",
       "      <th>num_stunts</th>\n",
       "      <th>num_fx</th>\n",
       "    </tr>\n",
       "  </thead>\n",
       "  <tbody>\n",
       "    <tr>\n",
       "      <th>0</th>\n",
       "      <td>295693</td>\n",
       "      <td>[16, 10751, 35]</td>\n",
       "      <td>/67NXPYvK92oQgEQvLppF2Siol9q.jpg</td>\n",
       "      <td>The Boss Baby</td>\n",
       "      <td>A story about how a new baby's arrival impacts...</td>\n",
       "      <td>2017-03-23</td>\n",
       "      <td>197.039794</td>\n",
       "      <td>The Boss Baby</td>\n",
       "      <td>/bTFeSwh07oX99ofpDI4O2WkiFJ.jpg</td>\n",
       "      <td>family relationships,unreliable narrator,3d</td>\n",
       "      <td>...</td>\n",
       "      <td>False</td>\n",
       "      <td>False</td>\n",
       "      <td>5.8</td>\n",
       "      <td>en</td>\n",
       "      <td>3.87454e+06</td>\n",
       "      <td>NaN</td>\n",
       "      <td>NaN</td>\n",
       "      <td>NaN</td>\n",
       "      <td>NaN</td>\n",
       "      <td>NaN</td>\n",
       "    </tr>\n",
       "    <tr>\n",
       "      <th>1</th>\n",
       "      <td>321612</td>\n",
       "      <td>[14, 10402, 10749]</td>\n",
       "      <td>/tWqifoYuwLETmmasnGHO7xBjEtt.jpg</td>\n",
       "      <td>Beauty and the Beast</td>\n",
       "      <td>A live-action adaptation of Disney's version o...</td>\n",
       "      <td>2017-03-16</td>\n",
       "      <td>175.232751</td>\n",
       "      <td>Beauty and the Beast</td>\n",
       "      <td>/6aUWe0GSl69wMTSWWexsorMIvwU.jpg</td>\n",
       "      <td>france,magic,castle,fairy tale,musical,curse,c...</td>\n",
       "      <td>...</td>\n",
       "      <td>False</td>\n",
       "      <td>False</td>\n",
       "      <td>6.9</td>\n",
       "      <td>en</td>\n",
       "      <td>2.7712e+06</td>\n",
       "      <td>NaN</td>\n",
       "      <td>NaN</td>\n",
       "      <td>NaN</td>\n",
       "      <td>NaN</td>\n",
       "      <td>NaN</td>\n",
       "    </tr>\n",
       "  </tbody>\n",
       "</table>\n",
       "<p>2 rows × 21 columns</p>\n",
       "</div>"
      ],
      "text/plain": [
       "       id           genre_ids                       poster_path  \\\n",
       "0  295693     [16, 10751, 35]  /67NXPYvK92oQgEQvLppF2Siol9q.jpg   \n",
       "1  321612  [14, 10402, 10749]  /tWqifoYuwLETmmasnGHO7xBjEtt.jpg   \n",
       "\n",
       "                  title                                           overview  \\\n",
       "0         The Boss Baby  A story about how a new baby's arrival impacts...   \n",
       "1  Beauty and the Beast  A live-action adaptation of Disney's version o...   \n",
       "\n",
       "  release_date  popularity        original_title  \\\n",
       "0   2017-03-23  197.039794         The Boss Baby   \n",
       "1   2017-03-16  175.232751  Beauty and the Beast   \n",
       "\n",
       "                      backdrop_path  \\\n",
       "0   /bTFeSwh07oX99ofpDI4O2WkiFJ.jpg   \n",
       "1  /6aUWe0GSl69wMTSWWexsorMIvwU.jpg   \n",
       "\n",
       "                                            keywords   ...    video  adult  \\\n",
       "0        family relationships,unreliable narrator,3d   ...    False  False   \n",
       "1  france,magic,castle,fairy tale,musical,curse,c...   ...    False  False   \n",
       "\n",
       "  vote_average  original_language      imdb_id director imdb_votes  \\\n",
       "0          5.8                 en  3.87454e+06      NaN        NaN   \n",
       "1          6.9                 en   2.7712e+06      NaN        NaN   \n",
       "\n",
       "   certificate num_stunts  num_fx  \n",
       "0          NaN        NaN     NaN  \n",
       "1          NaN        NaN     NaN  \n",
       "\n",
       "[2 rows x 21 columns]"
      ]
     },
     "execution_count": 148,
     "metadata": {},
     "output_type": "execute_result"
    }
   ],
   "source": [
    "tmdb_data_imdb_features.head(2)"
   ]
  },
  {
   "cell_type": "code",
   "execution_count": 149,
   "metadata": {
    "collapsed": false
   },
   "outputs": [],
   "source": [
    "directors, counts = np.unique(tmdb_data_imdb_features['director'], return_counts=True)"
   ]
  },
  {
   "cell_type": "code",
   "execution_count": 150,
   "metadata": {
    "collapsed": false
   },
   "outputs": [
    {
     "data": {
      "text/plain": [
       "(12230, 21)"
      ]
     },
     "execution_count": 150,
     "metadata": {},
     "output_type": "execute_result"
    }
   ],
   "source": [
    "tmdb_data_imdb_features.shape"
   ]
  },
  {
   "cell_type": "code",
   "execution_count": 151,
   "metadata": {
    "collapsed": false
   },
   "outputs": [],
   "source": [
    "tmdb_data_imdb_features_nona = tmdb_data_imdb_features.dropna()"
   ]
  },
  {
   "cell_type": "code",
   "execution_count": 152,
   "metadata": {
    "collapsed": false
   },
   "outputs": [
    {
     "data": {
      "text/plain": [
       "(3876, 21)"
      ]
     },
     "execution_count": 152,
     "metadata": {},
     "output_type": "execute_result"
    }
   ],
   "source": [
    "tmdb_data_imdb_features_nona.shape"
   ]
  }
 ],
 "metadata": {
  "kernelspec": {
   "display_name": "Python 2",
   "language": "python",
   "name": "python2"
  },
  "language_info": {
   "codemirror_mode": {
    "name": "ipython",
    "version": 2
   },
   "file_extension": ".py",
   "mimetype": "text/x-python",
   "name": "python",
   "nbconvert_exporter": "python",
   "pygments_lexer": "ipython2",
   "version": "2.7.12"
  }
 },
 "nbformat": 4,
 "nbformat_minor": 0
}
