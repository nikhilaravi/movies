{
 "cells": [
  {
   "cell_type": "code",
   "execution_count": 1,
   "metadata": {
    "collapsed": false
   },
   "outputs": [
    {
     "name": "stderr",
     "output_type": "stream",
     "text": [
      "Using TensorFlow backend.\n",
      "//anaconda/envs/tensorflow3/lib/python3.4/site-packages/IPython/html.py:14: ShimWarning: The `IPython.html` package has been deprecated. You should import from `notebook` instead. `IPython.html.widgets` has moved to `ipywidgets`.\n",
      "  \"`IPython.html.widgets` has moved to `ipywidgets`.\", ShimWarning)\n"
     ]
    }
   ],
   "source": [
    "from __future__ import print_function\n",
    "\n",
    "import keras\n",
    "from keras.datasets import mnist\n",
    "from keras.models import Sequential\n",
    "from keras.layers import Dense, Dropout\n",
    "from keras.optimizers import SGD, Adam\n",
    "from keras import regularizers\n",
    "\n",
    "import matplotlib\n",
    "%matplotlib inline\n",
    "import matplotlib.pyplot as plt\n",
    "import seaborn as sns\n",
    "sns.set_style('white')\n",
    "\n",
    "import numpy as np\n",
    "import scipy.misc"
   ]
  },
  {
   "cell_type": "code",
   "execution_count": 2,
   "metadata": {
    "collapsed": true
   },
   "outputs": [],
   "source": [
    "def generate_line_patch(label):\n",
    "# your code here\n",
    "    patch = np.zeros((3,3)) \n",
    "    if (label == 1):\n",
    "        patch[:,1] = 1\n",
    "    if (label == 0):\n",
    "        patch[1,:] = 1\n",
    "    patch = patch.flatten()\n",
    "    return patch.flatten()"
   ]
  },
  {
   "cell_type": "code",
   "execution_count": 3,
   "metadata": {
    "collapsed": true
   },
   "outputs": [],
   "source": [
    "# generate training data\n",
    "\n",
    "def generate_data(n_samples):\n",
    "# your code here\n",
    "    data_y = np.zeros((n_samples, 1))\n",
    "    data_y[:n_samples/2] = 1\n",
    "    np.random.shuffle(data_y)\n",
    "    data_x = np.array([generate_line_patch(label) for label in data_y])\n",
    "    return data_x, data_y"
   ]
  },
  {
   "cell_type": "code",
   "execution_count": 4,
   "metadata": {
    "collapsed": false
   },
   "outputs": [
    {
     "name": "stderr",
     "output_type": "stream",
     "text": [
      "//anaconda/envs/tensorflow3/lib/python3.4/site-packages/ipykernel/__main__.py:6: VisibleDeprecationWarning: using a non-integer number instead of an integer will result in an error in the future\n"
     ]
    }
   ],
   "source": [
    "# create data train and test with 100 samples each\n",
    "data_x_train, data_y_train = generate_data(100)\n",
    "data_x_test, data_y_test = generate_data(100)"
   ]
  },
  {
   "cell_type": "code",
   "execution_count": 5,
   "metadata": {
    "collapsed": false
   },
   "outputs": [
    {
     "data": {
      "text/plain": [
       "array([[ 0.,  0.,  0.],\n",
       "       [ 1.,  1.,  1.],\n",
       "       [ 0.,  0.,  0.]])"
      ]
     },
     "execution_count": 5,
     "metadata": {},
     "output_type": "execute_result"
    }
   ],
   "source": [
    "data_x_train[10].reshape(3,3)"
   ]
  },
  {
   "cell_type": "code",
   "execution_count": 6,
   "metadata": {
    "collapsed": true
   },
   "outputs": [],
   "source": [
    "batch_size = 10\n",
    "num_classes = 2\n",
    "epochs = 50"
   ]
  },
  {
   "cell_type": "code",
   "execution_count": 12,
   "metadata": {
    "collapsed": false
   },
   "outputs": [
    {
     "name": "stdout",
     "output_type": "stream",
     "text": [
      "____________________________________________________________________________________________________\n",
      "Layer (type)                     Output Shape          Param #     Connected to                     \n",
      "====================================================================================================\n",
      "dense_3 (Dense)                  (None, 10)            100         dense_input_2[0][0]              \n",
      "____________________________________________________________________________________________________\n",
      "dense_4 (Dense)                  (None, 1)             11          dense_3[0][0]                    \n",
      "====================================================================================================\n",
      "Total params: 111\n",
      "Trainable params: 111\n",
      "Non-trainable params: 0\n",
      "____________________________________________________________________________________________________\n"
     ]
    }
   ],
   "source": [
    "# build a fully connected network with just one hidden layer, 10 units\n",
    "\n",
    "# create an empty network model\n",
    "model = Sequential()\n",
    "\n",
    "# add input layer\n",
    "model.add(Dense(10, activation='relu', input_shape=(9,), W_regularizer=regularizers.l1(0.01)))\n",
    "\n",
    "# add hidden layer\n",
    "# model.add(Dense(10, activation='relu'))\n",
    "\n",
    "# add output layer\n",
    "model.add(Dense(1, activation='sigmoid'))\n",
    "\n",
    "model.summary()"
   ]
  },
  {
   "cell_type": "code",
   "execution_count": 13,
   "metadata": {
    "collapsed": false
   },
   "outputs": [],
   "source": [
    "# compile the model\n",
    "adam = Adam(lr=0.01)\n",
    "model.compile(loss='binary_crossentropy', optimizer=adam)"
   ]
  },
  {
   "cell_type": "code",
   "execution_count": 14,
   "metadata": {
    "collapsed": false
   },
   "outputs": [],
   "source": [
    "# and train it\n",
    "history = model.fit(data_x_train, data_y_train,\n",
    "                   batch_size=batch_size,\n",
    "                   nb_epoch=epochs,\n",
    "                   verbose=0,\n",
    "                   validation_data=(data_x_test, data_y_test))\n",
    "\n",
    "score = model.evaluate(data_x_test, data_y_test, verbose=0)\n",
    "# print('Test loss:', score[0])\n",
    "# print('Test accuracy:', score[1])"
   ]
  },
  {
   "cell_type": "code",
   "execution_count": 15,
   "metadata": {
    "collapsed": false
   },
   "outputs": [
    {
     "data": {
      "image/png": "[encoded data removed]",
      "text/plain": [
       "<matplotlib.figure.Figure at 0x115ea3c88>"
      ]
     },
     "metadata": {},
     "output_type": "display_data"
    }
   ],
   "source": [
    "# visualize the filters\n",
    "layer = model.layers[0]\n",
    "weights = layer.get_weights()\n",
    "\n",
    "filterTiles = np.array([])\n",
    "index = 0\n",
    "for i in range(5):\n",
    "    filterRow = []\n",
    "    for j in range(2):\n",
    "        w = weights[0][:,index]\n",
    "        w = w.reshape(3,3)\n",
    "        filterRow.extend(w)\n",
    "        index+=1\n",
    "    filterRow = np.array(filterRow)\n",
    "    if not filterTiles.shape[0] == 0:\n",
    "        filterTiles = np.hstack([filterTiles, filterRow])\n",
    "    else:\n",
    "        filterTiles = filterRow\n",
    "\n",
    "plt.imshow(filterTiles, cmap='gray')    \n",
    "plt.show()\n"
   ]
  }
 ],
 "metadata": {
  "kernelspec": {
   "display_name": "Python [tensorflow3]",
   "language": "python",
   "name": "Python [tensorflow3]"
  },
  "language_info": {
   "codemirror_mode": {
    "name": "ipython",
    "version": 3
   },
   "file_extension": ".py",
   "mimetype": "text/x-python",
   "name": "python",
   "nbconvert_exporter": "python",
   "pygments_lexer": "ipython3",
   "version": "3.4.5"
  }
 },
 "nbformat": 4,
 "nbformat_minor": 2
}
