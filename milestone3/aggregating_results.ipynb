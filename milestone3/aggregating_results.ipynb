{
 "cells": [
  {
   "cell_type": "code",
   "execution_count": 1,
   "metadata": {
    "collapsed": true
   },
   "outputs": [],
   "source": [
    "import pandas as pd\n",
    "import os\n",
    "import numpy as np"
   ]
  },
  {
   "cell_type": "markdown",
   "metadata": {},
   "source": [
    "# Concatenate all TMDB data"
   ]
  },
  {
   "cell_type": "code",
   "execution_count": 2,
   "metadata": {
    "collapsed": false
   },
   "outputs": [
    {
     "name": "stdout",
     "output_type": "stream",
     "text": [
      "file tmdb-movies-1-to-400.csv , num movies 8000\n",
      "file tmdb-movies-801-to-1000.csv , num movies 4000\n"
     ]
    }
   ],
   "source": [
    "files = os.listdir('../data/')\n",
    "tmdb_data = []\n",
    "for f in files:\n",
    "    if 'tmdb-movies' in f:\n",
    "        im = pd.read_csv('../data/' + str(f))\n",
    "        print 'file', f, ', num movies', im.shape[0]\n",
    "        tmdb_data.append(im)\n",
    "tmdb_data_df = pd.concat(tmdb_data, axis=0)"
   ]
  },
  {
   "cell_type": "code",
   "execution_count": 3,
   "metadata": {
    "collapsed": false
   },
   "outputs": [
    {
     "data": {
      "text/html": [
       "<div>\n",
       "<table border=\"1\" class=\"dataframe\">\n",
       "  <thead>\n",
       "    <tr style=\"text-align: right;\">\n",
       "      <th></th>\n",
       "      <th>id</th>\n",
       "      <th>genre_ids</th>\n",
       "      <th>poster_path</th>\n",
       "      <th>title</th>\n",
       "      <th>overview</th>\n",
       "      <th>release_date</th>\n",
       "      <th>popularity</th>\n",
       "      <th>original_title</th>\n",
       "      <th>backdrop_path</th>\n",
       "      <th>keywords</th>\n",
       "      <th>vote_count</th>\n",
       "      <th>video</th>\n",
       "      <th>adult</th>\n",
       "      <th>vote_average</th>\n",
       "      <th>original_language</th>\n",
       "    </tr>\n",
       "  </thead>\n",
       "  <tbody>\n",
       "    <tr>\n",
       "      <th>0</th>\n",
       "      <td>295693</td>\n",
       "      <td>[16, 10751, 35]</td>\n",
       "      <td>/67NXPYvK92oQgEQvLppF2Siol9q.jpg</td>\n",
       "      <td>The Boss Baby</td>\n",
       "      <td>A story about how a new baby's arrival impacts...</td>\n",
       "      <td>2017-03-23</td>\n",
       "      <td>197.039794</td>\n",
       "      <td>The Boss Baby</td>\n",
       "      <td>/bTFeSwh07oX99ofpDI4O2WkiFJ.jpg</td>\n",
       "      <td>family relationships,unreliable narrator,3d</td>\n",
       "      <td>354</td>\n",
       "      <td>False</td>\n",
       "      <td>False</td>\n",
       "      <td>5.8</td>\n",
       "      <td>en</td>\n",
       "    </tr>\n",
       "    <tr>\n",
       "      <th>1</th>\n",
       "      <td>321612</td>\n",
       "      <td>[14, 10402, 10749]</td>\n",
       "      <td>/tWqifoYuwLETmmasnGHO7xBjEtt.jpg</td>\n",
       "      <td>Beauty and the Beast</td>\n",
       "      <td>A live-action adaptation of Disney's version o...</td>\n",
       "      <td>2017-03-16</td>\n",
       "      <td>175.232751</td>\n",
       "      <td>Beauty and the Beast</td>\n",
       "      <td>/6aUWe0GSl69wMTSWWexsorMIvwU.jpg</td>\n",
       "      <td>france,magic,castle,fairy tale,musical,curse,c...</td>\n",
       "      <td>1558</td>\n",
       "      <td>False</td>\n",
       "      <td>False</td>\n",
       "      <td>6.9</td>\n",
       "      <td>en</td>\n",
       "    </tr>\n",
       "  </tbody>\n",
       "</table>\n",
       "</div>"
      ],
      "text/plain": [
       "       id           genre_ids                       poster_path  \\\n",
       "0  295693     [16, 10751, 35]  /67NXPYvK92oQgEQvLppF2Siol9q.jpg   \n",
       "1  321612  [14, 10402, 10749]  /tWqifoYuwLETmmasnGHO7xBjEtt.jpg   \n",
       "\n",
       "                  title                                           overview  \\\n",
       "0         The Boss Baby  A story about how a new baby's arrival impacts...   \n",
       "1  Beauty and the Beast  A live-action adaptation of Disney's version o...   \n",
       "\n",
       "  release_date  popularity        original_title  \\\n",
       "0   2017-03-23  197.039794         The Boss Baby   \n",
       "1   2017-03-16  175.232751  Beauty and the Beast   \n",
       "\n",
       "                      backdrop_path  \\\n",
       "0   /bTFeSwh07oX99ofpDI4O2WkiFJ.jpg   \n",
       "1  /6aUWe0GSl69wMTSWWexsorMIvwU.jpg   \n",
       "\n",
       "                                            keywords  vote_count  video  \\\n",
       "0        family relationships,unreliable narrator,3d         354  False   \n",
       "1  france,magic,castle,fairy tale,musical,curse,c...        1558  False   \n",
       "\n",
       "   adult  vote_average original_language  \n",
       "0  False           5.8                en  \n",
       "1  False           6.9                en  "
      ]
     },
     "execution_count": 3,
     "metadata": {},
     "output_type": "execute_result"
    }
   ],
   "source": [
    "tmdb_data_df.head(2)"
   ]
  },
  {
   "cell_type": "markdown",
   "metadata": {},
   "source": [
    "# Concatenate all IMDB data"
   ]
  },
  {
   "cell_type": "code",
   "execution_count": 4,
   "metadata": {
    "collapsed": false
   },
   "outputs": [
    {
     "name": "stdout",
     "output_type": "stream",
     "text": [
      "file imdb-features-1-to-400.csv-1000 , num movies 375\n",
      "file imdb-features-1-to-400.csv-1500 , num movies 100\n",
      "file imdb-features-1-to-400.csv-2000 , num movies 83\n",
      "file imdb-features-1-to-400.csv-2500 , num movies 319\n",
      "file imdb-features-1-to-400.csv-3000 , num movies 325\n",
      "file imdb-features-1-to-400.csv-3500 , num movies 298\n",
      "file imdb-features-1-to-400.csv-4000 , num movies 308\n",
      "file imdb-features-1-to-400.csv-4500 , num movies 294\n",
      "file imdb-features-1-to-400.csv-500 , num movies 394\n",
      "file imdb-features-1-to-400.csv-5000 , num movies 276\n",
      "file imdb-features-1-to-400.csv-5500 , num movies 277\n",
      "file imdb-features-1-to-400.csv-6000 , num movies 273\n",
      "file imdb-features-1-to-400.csv-6500 , num movies 276\n",
      "file imdb-features-1-to-400.csv-7000 , num movies 233\n",
      "file imdb-features-1-to-400.csv-7500 , num movies 240\n",
      "file imdb-features-801-to-1000.csv-1000 , num movies 132\n",
      "file imdb-features-801-to-1000.csv-1500 , num movies 132\n",
      "file imdb-features-801-to-1000.csv-2000 , num movies 119\n",
      "file imdb-features-801-to-1000.csv-2500 , num movies 112\n",
      "file imdb-features-801-to-1000.csv-3000 , num movies 120\n",
      "file imdb-features-801-to-1000.csv-3500 , num movies 107\n",
      "file imdb-features-801-to-1000.csv-500 , num movies 9\n"
     ]
    }
   ],
   "source": [
    "files = os.listdir('../data/')\n",
    "imdb_data = []\n",
    "for f in files:\n",
    "    if 'imdb-features' in f:\n",
    "        im = pd.read_csv('../data/' + str(f))\n",
    "        print 'file', f, ', num movies', im.shape[0]\n",
    "        imdb_data.append(im)\n",
    "imdb_data_df = pd.concat(imdb_data, axis=0)"
   ]
  },
  {
   "cell_type": "code",
   "execution_count": 5,
   "metadata": {
    "collapsed": false
   },
   "outputs": [
    {
     "data": {
      "text/plain": [
       "(4802, 6)"
      ]
     },
     "execution_count": 5,
     "metadata": {},
     "output_type": "execute_result"
    }
   ],
   "source": [
    "imdb_data_df.shape"
   ]
  },
  {
   "cell_type": "code",
   "execution_count": 6,
   "metadata": {
    "collapsed": false
   },
   "outputs": [
    {
     "data": {
      "text/html": [
       "<div>\n",
       "<table border=\"1\" class=\"dataframe\">\n",
       "  <thead>\n",
       "    <tr style=\"text-align: right;\">\n",
       "      <th></th>\n",
       "      <th>imdb_id</th>\n",
       "      <th>director</th>\n",
       "      <th>imdb_votes</th>\n",
       "      <th>certificate</th>\n",
       "      <th>num_stunts</th>\n",
       "      <th>num_fx</th>\n",
       "    </tr>\n",
       "  </thead>\n",
       "  <tbody>\n",
       "    <tr>\n",
       "      <th>0</th>\n",
       "      <td>1712261.0</td>\n",
       "      <td>John Hillcoat</td>\n",
       "      <td>46924</td>\n",
       "      <td>15</td>\n",
       "      <td>55</td>\n",
       "      <td>9</td>\n",
       "    </tr>\n",
       "    <tr>\n",
       "      <th>1</th>\n",
       "      <td>462590.0</td>\n",
       "      <td>Anne Fletcher</td>\n",
       "      <td>95357</td>\n",
       "      <td>PG</td>\n",
       "      <td>4</td>\n",
       "      <td>3</td>\n",
       "    </tr>\n",
       "    <tr>\n",
       "      <th>2</th>\n",
       "      <td>56869.0</td>\n",
       "      <td>Alfred Hitchcock</td>\n",
       "      <td>136048</td>\n",
       "      <td>PG-13</td>\n",
       "      <td>3</td>\n",
       "      <td>6</td>\n",
       "    </tr>\n",
       "    <tr>\n",
       "      <th>3</th>\n",
       "      <td>2334879.0</td>\n",
       "      <td>Roland Emmerich</td>\n",
       "      <td>172268</td>\n",
       "      <td>12A</td>\n",
       "      <td>105</td>\n",
       "      <td>43</td>\n",
       "    </tr>\n",
       "    <tr>\n",
       "      <th>4</th>\n",
       "      <td>426883.0</td>\n",
       "      <td>Nick Cassavetes</td>\n",
       "      <td>90163</td>\n",
       "      <td>15</td>\n",
       "      <td>19</td>\n",
       "      <td>4</td>\n",
       "    </tr>\n",
       "  </tbody>\n",
       "</table>\n",
       "</div>"
      ],
      "text/plain": [
       "     imdb_id          director  imdb_votes certificate  num_stunts  num_fx\n",
       "0  1712261.0     John Hillcoat       46924          15          55       9\n",
       "1   462590.0     Anne Fletcher       95357          PG           4       3\n",
       "2    56869.0  Alfred Hitchcock      136048       PG-13           3       6\n",
       "3  2334879.0   Roland Emmerich      172268         12A         105      43\n",
       "4   426883.0   Nick Cassavetes       90163          15          19       4"
      ]
     },
     "execution_count": 6,
     "metadata": {},
     "output_type": "execute_result"
    }
   ],
   "source": [
    "imdb_data_df.head()"
   ]
  },
  {
   "cell_type": "markdown",
   "metadata": {},
   "source": [
    "# Read in imdb - tmdb ids"
   ]
  },
  {
   "cell_type": "code",
   "execution_count": 7,
   "metadata": {
    "collapsed": false
   },
   "outputs": [
    {
     "name": "stdout",
     "output_type": "stream",
     "text": [
      "file imdb-ids-1-to-400.csv , num ids 7979\n",
      "file imdb-ids-801-to-1000.csv , num ids 3974\n"
     ]
    }
   ],
   "source": [
    "files = os.listdir('../data/')\n",
    "imdb_tmdb_ids = []\n",
    "for f in files:\n",
    "    if 'imdb-ids' in f:\n",
    "        im = pd.read_csv('../data/' + str(f))\n",
    "        print 'file', f, ', num ids', im.shape[0]\n",
    "        imdb_tmdb_ids.append(im)\n",
    "imdb_tmdb_ids_df = pd.concat(imdb_tmdb_ids, axis=0)"
   ]
  },
  {
   "cell_type": "code",
   "execution_count": 8,
   "metadata": {
    "collapsed": false
   },
   "outputs": [
    {
     "data": {
      "text/plain": [
       "(11953, 2)"
      ]
     },
     "execution_count": 8,
     "metadata": {},
     "output_type": "execute_result"
    }
   ],
   "source": [
    "imdb_tmdb_ids_df.shape"
   ]
  },
  {
   "cell_type": "code",
   "execution_count": 9,
   "metadata": {
    "collapsed": false
   },
   "outputs": [
    {
     "data": {
      "text/plain": [
       "id           0\n",
       "imdb_id    191\n",
       "dtype: int64"
      ]
     },
     "execution_count": 9,
     "metadata": {},
     "output_type": "execute_result"
    }
   ],
   "source": [
    "np.sum(pd.isnull(imdb_tmdb_ids_df))"
   ]
  },
  {
   "cell_type": "markdown",
   "metadata": {},
   "source": [
    "# Join tmdb data with tmdb-imdb id mapping"
   ]
  },
  {
   "cell_type": "code",
   "execution_count": 10,
   "metadata": {
    "collapsed": true
   },
   "outputs": [],
   "source": [
    "tmdb_data_imdb_key = tmdb_data_df.merge(imdb_tmdb_ids_df, on='id', how='left')"
   ]
  },
  {
   "cell_type": "code",
   "execution_count": 11,
   "metadata": {
    "collapsed": false
   },
   "outputs": [
    {
     "data": {
      "text/html": [
       "<div>\n",
       "<table border=\"1\" class=\"dataframe\">\n",
       "  <thead>\n",
       "    <tr style=\"text-align: right;\">\n",
       "      <th></th>\n",
       "      <th>id</th>\n",
       "      <th>genre_ids</th>\n",
       "      <th>poster_path</th>\n",
       "      <th>title</th>\n",
       "      <th>overview</th>\n",
       "      <th>release_date</th>\n",
       "      <th>popularity</th>\n",
       "      <th>original_title</th>\n",
       "      <th>backdrop_path</th>\n",
       "      <th>keywords</th>\n",
       "      <th>vote_count</th>\n",
       "      <th>video</th>\n",
       "      <th>adult</th>\n",
       "      <th>vote_average</th>\n",
       "      <th>original_language</th>\n",
       "      <th>imdb_id</th>\n",
       "    </tr>\n",
       "  </thead>\n",
       "  <tbody>\n",
       "    <tr>\n",
       "      <th>0</th>\n",
       "      <td>295693</td>\n",
       "      <td>[16, 10751, 35]</td>\n",
       "      <td>/67NXPYvK92oQgEQvLppF2Siol9q.jpg</td>\n",
       "      <td>The Boss Baby</td>\n",
       "      <td>A story about how a new baby's arrival impacts...</td>\n",
       "      <td>2017-03-23</td>\n",
       "      <td>197.039794</td>\n",
       "      <td>The Boss Baby</td>\n",
       "      <td>/bTFeSwh07oX99ofpDI4O2WkiFJ.jpg</td>\n",
       "      <td>family relationships,unreliable narrator,3d</td>\n",
       "      <td>354</td>\n",
       "      <td>False</td>\n",
       "      <td>False</td>\n",
       "      <td>5.8</td>\n",
       "      <td>en</td>\n",
       "      <td>3.87454e+06</td>\n",
       "    </tr>\n",
       "    <tr>\n",
       "      <th>1</th>\n",
       "      <td>321612</td>\n",
       "      <td>[14, 10402, 10749]</td>\n",
       "      <td>/tWqifoYuwLETmmasnGHO7xBjEtt.jpg</td>\n",
       "      <td>Beauty and the Beast</td>\n",
       "      <td>A live-action adaptation of Disney's version o...</td>\n",
       "      <td>2017-03-16</td>\n",
       "      <td>175.232751</td>\n",
       "      <td>Beauty and the Beast</td>\n",
       "      <td>/6aUWe0GSl69wMTSWWexsorMIvwU.jpg</td>\n",
       "      <td>france,magic,castle,fairy tale,musical,curse,c...</td>\n",
       "      <td>1558</td>\n",
       "      <td>False</td>\n",
       "      <td>False</td>\n",
       "      <td>6.9</td>\n",
       "      <td>en</td>\n",
       "      <td>2.7712e+06</td>\n",
       "    </tr>\n",
       "  </tbody>\n",
       "</table>\n",
       "</div>"
      ],
      "text/plain": [
       "       id           genre_ids                       poster_path  \\\n",
       "0  295693     [16, 10751, 35]  /67NXPYvK92oQgEQvLppF2Siol9q.jpg   \n",
       "1  321612  [14, 10402, 10749]  /tWqifoYuwLETmmasnGHO7xBjEtt.jpg   \n",
       "\n",
       "                  title                                           overview  \\\n",
       "0         The Boss Baby  A story about how a new baby's arrival impacts...   \n",
       "1  Beauty and the Beast  A live-action adaptation of Disney's version o...   \n",
       "\n",
       "  release_date  popularity        original_title  \\\n",
       "0   2017-03-23  197.039794         The Boss Baby   \n",
       "1   2017-03-16  175.232751  Beauty and the Beast   \n",
       "\n",
       "                      backdrop_path  \\\n",
       "0   /bTFeSwh07oX99ofpDI4O2WkiFJ.jpg   \n",
       "1  /6aUWe0GSl69wMTSWWexsorMIvwU.jpg   \n",
       "\n",
       "                                            keywords  vote_count  video  \\\n",
       "0        family relationships,unreliable narrator,3d         354  False   \n",
       "1  france,magic,castle,fairy tale,musical,curse,c...        1558  False   \n",
       "\n",
       "   adult  vote_average original_language      imdb_id  \n",
       "0  False           5.8                en  3.87454e+06  \n",
       "1  False           6.9                en   2.7712e+06  "
      ]
     },
     "execution_count": 11,
     "metadata": {},
     "output_type": "execute_result"
    }
   ],
   "source": [
    "tmdb_data_imdb_key.head(2)"
   ]
  },
  {
   "cell_type": "code",
   "execution_count": 12,
   "metadata": {
    "collapsed": false
   },
   "outputs": [
    {
     "data": {
      "text/plain": [
       "id                      0\n",
       "genre_ids               0\n",
       "poster_path           160\n",
       "title                   0\n",
       "overview              218\n",
       "release_date           36\n",
       "popularity              0\n",
       "original_title          0\n",
       "backdrop_path         761\n",
       "keywords             2128\n",
       "vote_count              0\n",
       "video                   0\n",
       "adult                   0\n",
       "vote_average            0\n",
       "original_language       0\n",
       "imdb_id               240\n",
       "dtype: int64"
      ]
     },
     "execution_count": 12,
     "metadata": {},
     "output_type": "execute_result"
    }
   ],
   "source": [
    "np.sum(pd.isnull(tmdb_data_imdb_key))"
   ]
  },
  {
   "cell_type": "code",
   "execution_count": 13,
   "metadata": {
    "collapsed": false
   },
   "outputs": [
    {
     "name": "stderr",
     "output_type": "stream",
     "text": [
      "//anaconda/lib/python2.7/site-packages/numpy/lib/arraysetops.py:216: FutureWarning: numpy not_equal will not check object identity in the future. The comparison did not return the same result as suggested by the identity (`is`)) and will change.\n",
      "  flag = np.concatenate(([True], aux[1:] != aux[:-1]))\n"
     ]
    },
    {
     "data": {
      "text/plain": [
       "(array([nan, '/103KNOz11U4iojwW6F1rOKKZIDp.jpg',\n",
       "        '/107LxWmMYCh01Y7dYsWop7vBnx4.jpg', ...,\n",
       "        '/zzQ2RctWc7JzmTgpuIDPgF6Fdmn.jpg',\n",
       "        '/zzUwC5DUBd62kg1EF1Rf3TGqSVx.jpg',\n",
       "        '/zzqnMAjkcC9O9gemN2Akz7L0zra.jpg'], dtype=object),\n",
       " array([160,   1,   1, ...,   1,   1,   1]))"
      ]
     },
     "execution_count": 13,
     "metadata": {},
     "output_type": "execute_result"
    }
   ],
   "source": [
    "np.unique(tmdb_data_imdb_key['poster_path'], return_counts=True)"
   ]
  },
  {
   "cell_type": "markdown",
   "metadata": {},
   "source": [
    "# Join tmdb data imdb features based on imdb id"
   ]
  },
  {
   "cell_type": "code",
   "execution_count": 22,
   "metadata": {
    "collapsed": false
   },
   "outputs": [],
   "source": [
    "tmdb_data_imdb_features = tmdb_data_imdb_key.merge(imdb_data_df, on='imdb_id', how='outer')"
   ]
  },
  {
   "cell_type": "code",
   "execution_count": 23,
   "metadata": {
    "collapsed": false
   },
   "outputs": [
    {
     "data": {
      "text/html": [
       "<div>\n",
       "<table border=\"1\" class=\"dataframe\">\n",
       "  <thead>\n",
       "    <tr style=\"text-align: right;\">\n",
       "      <th></th>\n",
       "      <th>id</th>\n",
       "      <th>genre_ids</th>\n",
       "      <th>poster_path</th>\n",
       "      <th>title</th>\n",
       "      <th>overview</th>\n",
       "      <th>release_date</th>\n",
       "      <th>popularity</th>\n",
       "      <th>original_title</th>\n",
       "      <th>backdrop_path</th>\n",
       "      <th>keywords</th>\n",
       "      <th>...</th>\n",
       "      <th>video</th>\n",
       "      <th>adult</th>\n",
       "      <th>vote_average</th>\n",
       "      <th>original_language</th>\n",
       "      <th>imdb_id</th>\n",
       "      <th>director</th>\n",
       "      <th>imdb_votes</th>\n",
       "      <th>certificate</th>\n",
       "      <th>num_stunts</th>\n",
       "      <th>num_fx</th>\n",
       "    </tr>\n",
       "  </thead>\n",
       "  <tbody>\n",
       "    <tr>\n",
       "      <th>0</th>\n",
       "      <td>295693.0</td>\n",
       "      <td>[16, 10751, 35]</td>\n",
       "      <td>/67NXPYvK92oQgEQvLppF2Siol9q.jpg</td>\n",
       "      <td>The Boss Baby</td>\n",
       "      <td>A story about how a new baby's arrival impacts...</td>\n",
       "      <td>2017-03-23</td>\n",
       "      <td>197.039794</td>\n",
       "      <td>The Boss Baby</td>\n",
       "      <td>/bTFeSwh07oX99ofpDI4O2WkiFJ.jpg</td>\n",
       "      <td>family relationships,unreliable narrator,3d</td>\n",
       "      <td>...</td>\n",
       "      <td>False</td>\n",
       "      <td>False</td>\n",
       "      <td>5.8</td>\n",
       "      <td>en</td>\n",
       "      <td>3.87454e+06</td>\n",
       "      <td>NaN</td>\n",
       "      <td>NaN</td>\n",
       "      <td>NaN</td>\n",
       "      <td>NaN</td>\n",
       "      <td>NaN</td>\n",
       "    </tr>\n",
       "    <tr>\n",
       "      <th>1</th>\n",
       "      <td>321612.0</td>\n",
       "      <td>[14, 10402, 10749]</td>\n",
       "      <td>/tWqifoYuwLETmmasnGHO7xBjEtt.jpg</td>\n",
       "      <td>Beauty and the Beast</td>\n",
       "      <td>A live-action adaptation of Disney's version o...</td>\n",
       "      <td>2017-03-16</td>\n",
       "      <td>175.232751</td>\n",
       "      <td>Beauty and the Beast</td>\n",
       "      <td>/6aUWe0GSl69wMTSWWexsorMIvwU.jpg</td>\n",
       "      <td>france,magic,castle,fairy tale,musical,curse,c...</td>\n",
       "      <td>...</td>\n",
       "      <td>False</td>\n",
       "      <td>False</td>\n",
       "      <td>6.9</td>\n",
       "      <td>en</td>\n",
       "      <td>2.7712e+06</td>\n",
       "      <td>NaN</td>\n",
       "      <td>NaN</td>\n",
       "      <td>NaN</td>\n",
       "      <td>NaN</td>\n",
       "      <td>NaN</td>\n",
       "    </tr>\n",
       "  </tbody>\n",
       "</table>\n",
       "<p>2 rows × 21 columns</p>\n",
       "</div>"
      ],
      "text/plain": [
       "         id           genre_ids                       poster_path  \\\n",
       "0  295693.0     [16, 10751, 35]  /67NXPYvK92oQgEQvLppF2Siol9q.jpg   \n",
       "1  321612.0  [14, 10402, 10749]  /tWqifoYuwLETmmasnGHO7xBjEtt.jpg   \n",
       "\n",
       "                  title                                           overview  \\\n",
       "0         The Boss Baby  A story about how a new baby's arrival impacts...   \n",
       "1  Beauty and the Beast  A live-action adaptation of Disney's version o...   \n",
       "\n",
       "  release_date  popularity        original_title  \\\n",
       "0   2017-03-23  197.039794         The Boss Baby   \n",
       "1   2017-03-16  175.232751  Beauty and the Beast   \n",
       "\n",
       "                      backdrop_path  \\\n",
       "0   /bTFeSwh07oX99ofpDI4O2WkiFJ.jpg   \n",
       "1  /6aUWe0GSl69wMTSWWexsorMIvwU.jpg   \n",
       "\n",
       "                                            keywords   ...    video  adult  \\\n",
       "0        family relationships,unreliable narrator,3d   ...    False  False   \n",
       "1  france,magic,castle,fairy tale,musical,curse,c...   ...    False  False   \n",
       "\n",
       "  vote_average  original_language      imdb_id director imdb_votes  \\\n",
       "0          5.8                 en  3.87454e+06      NaN        NaN   \n",
       "1          6.9                 en   2.7712e+06      NaN        NaN   \n",
       "\n",
       "   certificate num_stunts  num_fx  \n",
       "0          NaN        NaN     NaN  \n",
       "1          NaN        NaN     NaN  \n",
       "\n",
       "[2 rows x 21 columns]"
      ]
     },
     "execution_count": 23,
     "metadata": {},
     "output_type": "execute_result"
    }
   ],
   "source": [
    "tmdb_data_imdb_features.head(2)"
   ]
  },
  {
   "cell_type": "code",
   "execution_count": 16,
   "metadata": {
    "collapsed": false
   },
   "outputs": [],
   "source": [
    "directors, counts = np.unique(tmdb_data_imdb_features['director'], return_counts=True)"
   ]
  },
  {
   "cell_type": "code",
   "execution_count": 17,
   "metadata": {
    "collapsed": false
   },
   "outputs": [
    {
     "data": {
      "text/plain": [
       "(12230, 21)"
      ]
     },
     "execution_count": 17,
     "metadata": {},
     "output_type": "execute_result"
    }
   ],
   "source": [
    "tmdb_data_imdb_features.shape"
   ]
  },
  {
   "cell_type": "code",
   "execution_count": 18,
   "metadata": {
    "collapsed": false
   },
   "outputs": [],
   "source": [
    "tmdb_data_imdb_features_nona = tmdb_data_imdb_features.dropna()"
   ]
  },
  {
   "cell_type": "code",
   "execution_count": 19,
   "metadata": {
    "collapsed": false
   },
   "outputs": [
    {
     "data": {
      "text/plain": [
       "(3876, 21)"
      ]
     },
     "execution_count": 19,
     "metadata": {},
     "output_type": "execute_result"
    }
   ],
   "source": [
    "tmdb_data_imdb_features_nona.shape"
   ]
  },
  {
   "cell_type": "code",
   "execution_count": 20,
   "metadata": {
    "collapsed": false
   },
   "outputs": [
    {
     "data": {
      "text/html": [
       "<div>\n",
       "<table border=\"1\" class=\"dataframe\">\n",
       "  <thead>\n",
       "    <tr style=\"text-align: right;\">\n",
       "      <th></th>\n",
       "      <th>id</th>\n",
       "      <th>genre_ids</th>\n",
       "      <th>poster_path</th>\n",
       "      <th>title</th>\n",
       "      <th>overview</th>\n",
       "      <th>release_date</th>\n",
       "      <th>popularity</th>\n",
       "      <th>original_title</th>\n",
       "      <th>backdrop_path</th>\n",
       "      <th>keywords</th>\n",
       "      <th>...</th>\n",
       "      <th>video</th>\n",
       "      <th>adult</th>\n",
       "      <th>vote_average</th>\n",
       "      <th>original_language</th>\n",
       "      <th>imdb_id</th>\n",
       "      <th>director</th>\n",
       "      <th>imdb_votes</th>\n",
       "      <th>certificate</th>\n",
       "      <th>num_stunts</th>\n",
       "      <th>num_fx</th>\n",
       "    </tr>\n",
       "  </thead>\n",
       "  <tbody>\n",
       "    <tr>\n",
       "      <th>500</th>\n",
       "      <td>180</td>\n",
       "      <td>[28, 53, 878, 9648]</td>\n",
       "      <td>/h3lpltSn7Rj1eYTPQO1lYGdw4Bz.jpg</td>\n",
       "      <td>Minority Report</td>\n",
       "      <td>John Anderton is a top 'Precrime' cop in the l...</td>\n",
       "      <td>2002-06-20</td>\n",
       "      <td>4.023489</td>\n",
       "      <td>Minority Report</td>\n",
       "      <td>/pG39VS7fFLk2crzq57RkqDfUSk0.jpg</td>\n",
       "      <td>self-fulfilling prophecy,evidence,hologram,dys...</td>\n",
       "      <td>...</td>\n",
       "      <td>False</td>\n",
       "      <td>False</td>\n",
       "      <td>7.0</td>\n",
       "      <td>en</td>\n",
       "      <td>181689</td>\n",
       "      <td>Steven Spielberg</td>\n",
       "      <td>418905.0</td>\n",
       "      <td>12</td>\n",
       "      <td>88.0</td>\n",
       "      <td>49.0</td>\n",
       "    </tr>\n",
       "    <tr>\n",
       "      <th>501</th>\n",
       "      <td>74</td>\n",
       "      <td>[12, 53, 878]</td>\n",
       "      <td>/xXMM9KY2eq1SDOQif9zO91YOBA8.jpg</td>\n",
       "      <td>War of the Worlds</td>\n",
       "      <td>Ray Ferrier is a divorced dockworker and less-...</td>\n",
       "      <td>2005-06-23</td>\n",
       "      <td>4.022906</td>\n",
       "      <td>War of the Worlds</td>\n",
       "      <td>/bwTb66gicrB7HbkogwNs9V37Ddb.jpg</td>\n",
       "      <td>post traumatic stress  disorder,new jersey,air...</td>\n",
       "      <td>...</td>\n",
       "      <td>False</td>\n",
       "      <td>False</td>\n",
       "      <td>6.1</td>\n",
       "      <td>en</td>\n",
       "      <td>407304</td>\n",
       "      <td>Steven Spielberg</td>\n",
       "      <td>349381.0</td>\n",
       "      <td>12A</td>\n",
       "      <td>94.0</td>\n",
       "      <td>90.0</td>\n",
       "    </tr>\n",
       "    <tr>\n",
       "      <th>503</th>\n",
       "      <td>840</td>\n",
       "      <td>[878, 18]</td>\n",
       "      <td>/mABOVIUl5lB0WF4HG28rfamgxG1.jpg</td>\n",
       "      <td>Close Encounters of the Third Kind</td>\n",
       "      <td>After an encounter with UFOs, a line worker fe...</td>\n",
       "      <td>1977-11-16</td>\n",
       "      <td>4.018199</td>\n",
       "      <td>Close Encounters of the Third Kind</td>\n",
       "      <td>/xATZyEpnZ0Z0iO9z5K8RZsraGKI.jpg</td>\n",
       "      <td>indiana,obsession,extraterrestrial technology,...</td>\n",
       "      <td>...</td>\n",
       "      <td>False</td>\n",
       "      <td>False</td>\n",
       "      <td>7.2</td>\n",
       "      <td>en</td>\n",
       "      <td>75860</td>\n",
       "      <td>Steven Spielberg</td>\n",
       "      <td>146265.0</td>\n",
       "      <td>TV-MA</td>\n",
       "      <td>10.0</td>\n",
       "      <td>8.0</td>\n",
       "    </tr>\n",
       "    <tr>\n",
       "      <th>504</th>\n",
       "      <td>44115</td>\n",
       "      <td>[12, 18, 53]</td>\n",
       "      <td>/c6Nu7UjhGCQtV16WXabqOQfikK6.jpg</td>\n",
       "      <td>127 Hours</td>\n",
       "      <td>127 Hours is the true story of mountain climbe...</td>\n",
       "      <td>2010-11-05</td>\n",
       "      <td>4.017993</td>\n",
       "      <td>127 Hours</td>\n",
       "      <td>/eHUoB8NbvrvKp7KQMNgvc7yLpzM.jpg</td>\n",
       "      <td>mountains,despair,adventure,utah,alone,canyon,...</td>\n",
       "      <td>...</td>\n",
       "      <td>False</td>\n",
       "      <td>False</td>\n",
       "      <td>6.9</td>\n",
       "      <td>en</td>\n",
       "      <td>1.54234e+06</td>\n",
       "      <td>Danny Boyle</td>\n",
       "      <td>292099.0</td>\n",
       "      <td>15</td>\n",
       "      <td>11.0</td>\n",
       "      <td>6.0</td>\n",
       "    </tr>\n",
       "    <tr>\n",
       "      <th>505</th>\n",
       "      <td>242512</td>\n",
       "      <td>[27]</td>\n",
       "      <td>/vHTXN00kJktCbSLV50Vbk9siNiX.jpg</td>\n",
       "      <td>Ouija</td>\n",
       "      <td>A group of friends must confront their most te...</td>\n",
       "      <td>2014-10-24</td>\n",
       "      <td>4.014788</td>\n",
       "      <td>Ouija</td>\n",
       "      <td>/9bHoFTTFacsReoDJRBlIx7V98TC.jpg</td>\n",
       "      <td>death of a friend,swimming pool,ouija,ouija bo...</td>\n",
       "      <td>...</td>\n",
       "      <td>False</td>\n",
       "      <td>False</td>\n",
       "      <td>4.9</td>\n",
       "      <td>en</td>\n",
       "      <td>1.20498e+06</td>\n",
       "      <td>Stiles White</td>\n",
       "      <td>37043.0</td>\n",
       "      <td>15</td>\n",
       "      <td>20.0</td>\n",
       "      <td>4.0</td>\n",
       "    </tr>\n",
       "  </tbody>\n",
       "</table>\n",
       "<p>5 rows × 21 columns</p>\n",
       "</div>"
      ],
      "text/plain": [
       "         id            genre_ids                       poster_path  \\\n",
       "500     180  [28, 53, 878, 9648]  /h3lpltSn7Rj1eYTPQO1lYGdw4Bz.jpg   \n",
       "501      74        [12, 53, 878]  /xXMM9KY2eq1SDOQif9zO91YOBA8.jpg   \n",
       "503     840            [878, 18]  /mABOVIUl5lB0WF4HG28rfamgxG1.jpg   \n",
       "504   44115         [12, 18, 53]  /c6Nu7UjhGCQtV16WXabqOQfikK6.jpg   \n",
       "505  242512                 [27]  /vHTXN00kJktCbSLV50Vbk9siNiX.jpg   \n",
       "\n",
       "                                  title  \\\n",
       "500                     Minority Report   \n",
       "501                   War of the Worlds   \n",
       "503  Close Encounters of the Third Kind   \n",
       "504                           127 Hours   \n",
       "505                               Ouija   \n",
       "\n",
       "                                              overview release_date  \\\n",
       "500  John Anderton is a top 'Precrime' cop in the l...   2002-06-20   \n",
       "501  Ray Ferrier is a divorced dockworker and less-...   2005-06-23   \n",
       "503  After an encounter with UFOs, a line worker fe...   1977-11-16   \n",
       "504  127 Hours is the true story of mountain climbe...   2010-11-05   \n",
       "505  A group of friends must confront their most te...   2014-10-24   \n",
       "\n",
       "     popularity                      original_title  \\\n",
       "500    4.023489                     Minority Report   \n",
       "501    4.022906                   War of the Worlds   \n",
       "503    4.018199  Close Encounters of the Third Kind   \n",
       "504    4.017993                           127 Hours   \n",
       "505    4.014788                               Ouija   \n",
       "\n",
       "                        backdrop_path  \\\n",
       "500  /pG39VS7fFLk2crzq57RkqDfUSk0.jpg   \n",
       "501  /bwTb66gicrB7HbkogwNs9V37Ddb.jpg   \n",
       "503  /xATZyEpnZ0Z0iO9z5K8RZsraGKI.jpg   \n",
       "504  /eHUoB8NbvrvKp7KQMNgvc7yLpzM.jpg   \n",
       "505  /9bHoFTTFacsReoDJRBlIx7V98TC.jpg   \n",
       "\n",
       "                                              keywords   ...    video  adult  \\\n",
       "500  self-fulfilling prophecy,evidence,hologram,dys...   ...    False  False   \n",
       "501  post traumatic stress  disorder,new jersey,air...   ...    False  False   \n",
       "503  indiana,obsession,extraterrestrial technology,...   ...    False  False   \n",
       "504  mountains,despair,adventure,utah,alone,canyon,...   ...    False  False   \n",
       "505  death of a friend,swimming pool,ouija,ouija bo...   ...    False  False   \n",
       "\n",
       "    vote_average  original_language      imdb_id          director imdb_votes  \\\n",
       "500          7.0                 en       181689  Steven Spielberg   418905.0   \n",
       "501          6.1                 en       407304  Steven Spielberg   349381.0   \n",
       "503          7.2                 en        75860  Steven Spielberg   146265.0   \n",
       "504          6.9                 en  1.54234e+06       Danny Boyle   292099.0   \n",
       "505          4.9                 en  1.20498e+06      Stiles White    37043.0   \n",
       "\n",
       "     certificate num_stunts  num_fx  \n",
       "500           12       88.0    49.0  \n",
       "501          12A       94.0    90.0  \n",
       "503        TV-MA       10.0     8.0  \n",
       "504           15       11.0     6.0  \n",
       "505           15       20.0     4.0  \n",
       "\n",
       "[5 rows x 21 columns]"
      ]
     },
     "execution_count": 20,
     "metadata": {},
     "output_type": "execute_result"
    }
   ],
   "source": [
    "tmdb_data_imdb_features_nona.head()"
   ]
  },
  {
   "cell_type": "code",
   "execution_count": null,
   "metadata": {
    "collapsed": true
   },
   "outputs": [],
   "source": [
    "from sklearn.preprocessing import MultiLabelBinarizer\n",
    "y = [[2, 3, 4], [2], [0, 1, 3], [0, 1, 2, 3, 4], [0, 1, 2]]\n",
    "MultiLabelBinarizer().fit_transform(y)\n"
   ]
  }
 ],
 "metadata": {
  "kernelspec": {
   "display_name": "Python 2",
   "language": "python",
   "name": "python2"
  },
  "language_info": {
   "codemirror_mode": {
    "name": "ipython",
    "version": 2
   },
   "file_extension": ".py",
   "mimetype": "text/x-python",
   "name": "python",
   "nbconvert_exporter": "python",
   "pygments_lexer": "ipython2",
   "version": "2.7.12"
  }
 },
 "nbformat": 4,
 "nbformat_minor": 0
}
