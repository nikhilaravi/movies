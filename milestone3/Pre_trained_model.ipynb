{
 "cells": [
  {
   "cell_type": "code",
   "execution_count": 6,
   "metadata": {
    "collapsed": false
   },
   "outputs": [],
   "source": [
    "from __future__ import print_function\n",
    "\n",
    "import keras\n",
    "from keras.datasets import mnist\n",
    "from keras.models import Sequential\n",
    "from keras.layers import Dropout, Dense, Activation, Conv2D, MaxPooling2D, Flatten\n",
    "from keras.optimizers import SGD\n",
    "\n",
    "from keras import backend as K\n",
    "\n",
    "# vggnet pretrained model \n",
    "from keras import applications\n",
    "\n",
    "import pandas as pd\n",
    "import matplotlib\n",
    "%matplotlib inline\n",
    "import matplotlib.pyplot as plt\n",
    "import seaborn as sns\n",
    "sns.set_style('white')\n",
    "\n",
    "import numpy as np\n",
    "from PIL import Image\n",
    "from keras.preprocessing.image import ImageDataGenerator\n",
    "from scipy.misc import imresize\n",
    "import matplotlib.image as mpimg"
   ]
  },
  {
   "cell_type": "code",
   "execution_count": 7,
   "metadata": {
    "collapsed": true
   },
   "outputs": [],
   "source": [
    "############# Read in data ################\n",
    "\n",
    "train = pd.read_csv('../data/train_data_with_sampling.csv')\n",
    "test = pd.read_csv('../data/test_data.csv')\n",
    "\n",
    "############# Convert to test and train set ################\n",
    "\n",
    "X_train_ids = train[['tmdb_id']].values\n",
    "y_train = train[['group1', 'group2', 'group3', 'group4', 'group5', 'group6', 'group7']].as_matrix()\n",
    "X_test_ids = test[['tmdb_id']].values\n",
    "y_test = test[['group1', 'group2', 'group3', 'group4', 'group5', 'group6', 'group7']].as_matrix()\n",
    "\n",
    "############# Function to convert color to grayscale ################\n",
    "\n",
    "def rgb2gray(rgb):\n",
    "    return np.dot(rgb[...,:3], [0.299, 0.587, 0.114])\n",
    "\n",
    "############# Read in posters for training set ################\n",
    "\n",
    "def load_posters_from_ids(id_array, n, y):\n",
    "    start = np.random.choice(range(len(id_array)-n))\n",
    "    end = start + n\n",
    "    posters = []\n",
    "    ids = []\n",
    "    errors = 0\n",
    "    for poster in id_array[start:end]:\n",
    "        img = Image.open('../posters/' + str(int(poster[0])) + '.jpg') \n",
    "        try:\n",
    "            scaled = img.resize(size=(500, 741))\n",
    "            posters.append(np.asarray(scaled))\n",
    "            ids.append(poster)\n",
    "        except ValueError:\n",
    "            errors +=1\n",
    "            continue\n",
    "    posters_array = np.asarray(posters)\n",
    "    X = np.array(posters_array)\n",
    "    \n",
    "    Y = y[:n]\n",
    "    print ('posters shape: ', X.shape)\n",
    "    print ('errors: ', errors)\n",
    "    return X, Y"
   ]
  },
  {
   "cell_type": "code",
   "execution_count": 8,
   "metadata": {
    "collapsed": false
   },
   "outputs": [
    {
     "name": "stdout",
     "output_type": "stream",
     "text": [
      "posters shape:  (2000, 741, 500, 3)\n",
      "errors:  0\n",
      "posters shape:  (1000, 741, 500, 3)\n",
      "errors:  0\n"
     ]
    }
   ],
   "source": [
    "X_train, Y_train = load_posters_from_ids(X_train_ids, 2000, y_train)\n",
    "X_test, Y_test = load_posters_from_ids(X_test_ids, 1000, y_test)"
   ]
  },
  {
   "cell_type": "code",
   "execution_count": 9,
   "metadata": {
    "collapsed": false
   },
   "outputs": [],
   "source": [
    "###################### load pre-trained model ######################\n",
    "batch_size = 16\n",
    "\n",
    "# pretrained VGG16 net apart from top layer - extract only the features \n",
    "model = applications.VGG16(include_top=False, weights='imagenet')\n",
    "\n",
    "# model.load_weights('./vgg16_weights.h5')"
   ]
  },
  {
   "cell_type": "code",
   "execution_count": null,
   "metadata": {
    "collapsed": true
   },
   "outputs": [],
   "source": [
    "# pass training data once through pretrained network \n",
    "bottleneck_features_train = model.predict(X_train)\n",
    "np.save(open('bottleneck_features_train.npy', 'w'), bottleneck_features_train)\n",
    "\n",
    "# pass validation data once through network \n",
    "bottleneck_features_test = model.predict(X_test)\n",
    "np.save(open('bottleneck_features_test.npy', 'w'), bottleneck_features_test)"
   ]
  },
  {
   "cell_type": "code",
   "execution_count": null,
   "metadata": {
    "collapsed": true
   },
   "outputs": [],
   "source": [
    "############## Load inputs to fully connected layers ###################\n",
    "\n",
    "train_data = np.load(open('bottleneck_features_train.npy'))\n",
    "train_labels = Y_train\n",
    "\n",
    "validation_data = np.load(open('bottleneck_features_validation.npy'))\n",
    "validation_labels = Y_test\n",
    "\n",
    "############### Fully connected network ####################\n",
    "\n",
    "model = Sequential()\n",
    "model.add(Flatten(input_shape=train_data.shape[1:]))\n",
    "model.add(Dense(256, activation='relu'))\n",
    "model.add(Dropout(0.5))\n",
    "model.add(Dense(7, activation='sigmoid'))\n",
    "\n",
    "model.compile(optimizer='rmsprop',\n",
    "             loss='binary_crossentropy',\n",
    "             metrics=['accuracy'])\n",
    "\n",
    "model.fit(train_data, train_labels, \n",
    "         epochs=50, \n",
    "         batch_size=batch_size, \n",
    "         validation_data=(validation_data, validation_labels))\n",
    "\n",
    "# save out weights \n",
    "model.save_weights('bottleneck_fc_model.h5')"
   ]
  },
  {
   "cell_type": "code",
   "execution_count": null,
   "metadata": {
    "collapsed": true
   },
   "outputs": [],
   "source": []
  }
 ],
 "metadata": {
  "kernelspec": {
   "display_name": "Python [tensorflow3]",
   "language": "python",
   "name": "Python [tensorflow3]"
  },
  "language_info": {
   "codemirror_mode": {
    "name": "ipython",
    "version": 3
   },
   "file_extension": ".py",
   "mimetype": "text/x-python",
   "name": "python",
   "nbconvert_exporter": "python",
   "pygments_lexer": "ipython3",
   "version": "3.4.5"
  }
 },
 "nbformat": 4,
 "nbformat_minor": 0
}
