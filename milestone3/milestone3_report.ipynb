{
 "cells": [
  {
   "cell_type": "markdown",
   "metadata": {
    "collapsed": true
   },
   "source": [
    "# Milestone 3: Traditional statistical and machine learning methods, due Wednesday, April 19, 2017\n",
    "\n",
    "Think about how you would address the genre prediction problem with traditional statistical or machine learning methods. This includes everything you learned about modeling in this course before the deep learning part. Implement your ideas and compare different classifiers. Report your results and discuss what challenges you faced and how you overcame them. What works and what does not? If there are parts that do not work as expected, make sure to discuss briefly what you think is the cause and how you would address this if you would have more time and resources. \n",
    "\n",
    "You do not necessarily need to use the movie posters for this step, but even without a background in computer vision, there are very simple features you can extract from the posters to help guide a traditional machine learning model. Think about the PCA lecture for example, or how to use clustering to extract color information. In addition to considering the movie posters it would be worthwhile to have a look at the metadata that IMDb provides. \n",
    "\n",
    "You could use Spark and the [ML library](https://spark.apache.org/docs/latest/ml-features.html#word2vec) to build your model features from the data. This may be especially beneficial if you use additional data, e.g., in text form.\n",
    "\n",
    "You also need to think about how you are going to evaluate your classifier. Which metrics or scores will you report to show how good the performance is?\n",
    "\n",
    "Can also look at:\n",
    "- Label cardinality: the average number of labels per example in the set\n",
    "- Label density: the number of labels per sample divided by the total number of labels, averaged over the samples\n",
    "The notebook to submit this week should at least include:\n",
    "\n",
    "## Detailed description and implementation of two different models\n",
    "#### Baseline model: \n",
    "   - Binary relevance method \n",
    "       - independently training one binary classifier for each label.\n",
    "       - predicts all labels for a new sample for which the respective classifiers predict a positive result ( different from multiclass classification is that in multi label we train one binary classifier for each label, not one classifier for each possible value for the label). \n",
    "         \n",
    "#### ANN\n",
    "- Multi layer perceptron with 1-2 hidden layers\n",
    "    - output layer has n sigmoid activation units where n is the number of unique genres\n",
    "    - output is a binary vector with 1s indicating the movie has the movie genre given by that position in the label vector\n",
    "\n",
    "## Description of your performance metrics\n",
    " - Hamming loss: the fraction of the wrong labels to the total number of labels\n",
    " - Hamming score: number of correct labels divided by the union of predicted and true labels\n",
    " - Exact match: percentage of samples that have all their labels classified correctly.\n",
    "\n",
    " \n",
    "## Careful performance evaluations for both models\n",
    "\n",
    "## Visualizations of the metrics for performance evaluation\n",
    "\n",
    "## Discussion of the differences between the models, their strengths, weaknesses, etc. \n",
    "\n",
    "## Discussion of the performances you achieved, and how you might be able to improve them in the future\n"
   ]
  },
  {
   "cell_type": "code",
   "execution_count": null,
   "metadata": {
    "collapsed": true
   },
   "outputs": [],
   "source": []
  }
 ],
 "metadata": {
  "anaconda-cloud": {},
  "kernelspec": {
   "display_name": "Python 2",
   "language": "python",
   "name": "python2"
  },
  "language_info": {
   "codemirror_mode": {
    "name": "ipython",
    "version": 2
   },
   "file_extension": ".py",
   "mimetype": "text/x-python",
   "name": "python",
   "nbconvert_exporter": "python",
   "pygments_lexer": "ipython2",
   "version": "2.7.12"
  }
 },
 "nbformat": 4,
 "nbformat_minor": 1
}
