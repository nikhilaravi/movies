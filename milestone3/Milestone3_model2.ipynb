{
 "cells": [
  {
   "cell_type": "markdown",
   "metadata": {},
   "source": [
    "\n",
    "# Model 2: Random forest keyword feature extraction and prediction\n",
    "\n",
    "Data Prep\n",
    "1. Merged the file of all keywords with the file containing genres using R. \n",
    "2. Drop all irrelevent columns, keeping only group status (0/1) and keywords (0/1). \n",
    "\n",
    "Random Forest\n",
    "1. drop irrelevant \n",
    "2. create test (80%) and train (20%)\n",
    "3. create x and y variables. X is the keywords, y is the genre group (group 1 or not, group 2 or not...) \n",
    "4. implement a random forest on each genre. \n",
    "5. collect the indices of the top 20 more important keywords to predicting each genre, and print the variable name of these indices. This is the keyword\n",
    "6. predict a random forest on the test set. \n",
    "7. Collect the Haming Loss, % exact matches and % at-least-one match"
   ]
  },
  {
   "cell_type": "markdown",
   "metadata": {},
   "source": [
    "R Code for Merging \n",
    "dataa<- read.csv(\"~/Downloads/all_movies_combine_with_keywords.csv\")\n",
    "Monday<- read.csv(\"~/Downloads/full_movie_merge_genres.csv\")\n",
    "new <- merge(x=dataa, y=Monday, by.x=(\"id\"), by.y=(\"tmdb_id\"), all.y = TRUE) "
   ]
  },
  {
   "cell_type": "code",
   "execution_count": 34,
   "metadata": {
    "collapsed": true,
    "scrolled": true
   },
   "outputs": [],
   "source": [
    "import pandas as pd\n",
    "import numpy as np\n",
    "import matplotlib.pyplot as plt\n",
    "from sklearn.ensemble import RandomForestClassifier\n",
    "from sklearn.multiclass import OneVsRestClassifier\n",
    "from sklearn.metrics import hamming_loss"
   ]
  },
  {
   "cell_type": "code",
   "execution_count": 2,
   "metadata": {
    "collapsed": false,
    "scrolled": true
   },
   "outputs": [],
   "source": [
    "# import the dataset, using Pandas.\n",
    "keywords_data = pd.read_csv(\"./new3.csv\")"
   ]
  },
  {
   "cell_type": "code",
   "execution_count": 10,
   "metadata": {
    "collapsed": true,
    "scrolled": true
   },
   "outputs": [],
   "source": [
    "#### Keep only the keyword columns #########\n",
    "\n",
    "# drop imdb features \n",
    "imdb_cols = list(range(12030,12045))\n",
    "data = keywords_data.drop(keywords_data.columns[imdb_cols],axis=1)\n",
    "\n",
    "# drop tmdb features \n",
    "tmdb_cols =  list(range(2,16))\n",
    "data = data.drop(data.columns[tmdb_cols],axis=1)\n",
    "data = data.drop(data.columns[0],axis=1)"
   ]
  },
  {
   "cell_type": "code",
   "execution_count": 11,
   "metadata": {
    "collapsed": true,
    "scrolled": true
   },
   "outputs": [
    {
     "data": {
      "text/html": [
       "<div>\n",
       "<table border=\"1\" class=\"dataframe\">\n",
       "  <thead>\n",
       "    <tr style=\"text-align: right;\">\n",
       "      <th></th>\n",
       "      <th>id</th>\n",
       "      <th>casusluk</th>\n",
       "      <th>new.york.city</th>\n",
       "      <th>nigerian.cinema</th>\n",
       "      <th>X007</th>\n",
       "      <th>X12th.century</th>\n",
       "      <th>X15th.birthday</th>\n",
       "      <th>X15th.century</th>\n",
       "      <th>X16th.century</th>\n",
       "      <th>X17th.century</th>\n",
       "      <th>...</th>\n",
       "      <th>triad</th>\n",
       "      <th>triads</th>\n",
       "      <th>trial</th>\n",
       "      <th>group5</th>\n",
       "      <th>group4</th>\n",
       "      <th>group7</th>\n",
       "      <th>group6</th>\n",
       "      <th>group1</th>\n",
       "      <th>group3</th>\n",
       "      <th>group2</th>\n",
       "    </tr>\n",
       "  </thead>\n",
       "  <tbody>\n",
       "    <tr>\n",
       "      <th>0</th>\n",
       "      <td>6</td>\n",
       "      <td>0</td>\n",
       "      <td>0</td>\n",
       "      <td>0</td>\n",
       "      <td>0</td>\n",
       "      <td>0</td>\n",
       "      <td>0</td>\n",
       "      <td>0</td>\n",
       "      <td>0</td>\n",
       "      <td>0</td>\n",
       "      <td>...</td>\n",
       "      <td>0</td>\n",
       "      <td>0</td>\n",
       "      <td>0</td>\n",
       "      <td>0</td>\n",
       "      <td>0</td>\n",
       "      <td>0</td>\n",
       "      <td>1</td>\n",
       "      <td>0</td>\n",
       "      <td>0</td>\n",
       "      <td>1</td>\n",
       "    </tr>\n",
       "    <tr>\n",
       "      <th>1</th>\n",
       "      <td>15</td>\n",
       "      <td>0</td>\n",
       "      <td>0</td>\n",
       "      <td>0</td>\n",
       "      <td>0</td>\n",
       "      <td>0</td>\n",
       "      <td>0</td>\n",
       "      <td>0</td>\n",
       "      <td>0</td>\n",
       "      <td>0</td>\n",
       "      <td>...</td>\n",
       "      <td>0</td>\n",
       "      <td>0</td>\n",
       "      <td>0</td>\n",
       "      <td>0</td>\n",
       "      <td>0</td>\n",
       "      <td>0</td>\n",
       "      <td>0</td>\n",
       "      <td>0</td>\n",
       "      <td>0</td>\n",
       "      <td>1</td>\n",
       "    </tr>\n",
       "    <tr>\n",
       "      <th>2</th>\n",
       "      <td>25</td>\n",
       "      <td>0</td>\n",
       "      <td>0</td>\n",
       "      <td>0</td>\n",
       "      <td>0</td>\n",
       "      <td>0</td>\n",
       "      <td>0</td>\n",
       "      <td>0</td>\n",
       "      <td>0</td>\n",
       "      <td>0</td>\n",
       "      <td>...</td>\n",
       "      <td>0</td>\n",
       "      <td>0</td>\n",
       "      <td>0</td>\n",
       "      <td>0</td>\n",
       "      <td>0</td>\n",
       "      <td>0</td>\n",
       "      <td>0</td>\n",
       "      <td>1</td>\n",
       "      <td>0</td>\n",
       "      <td>1</td>\n",
       "    </tr>\n",
       "    <tr>\n",
       "      <th>3</th>\n",
       "      <td>33</td>\n",
       "      <td>0</td>\n",
       "      <td>0</td>\n",
       "      <td>0</td>\n",
       "      <td>0</td>\n",
       "      <td>0</td>\n",
       "      <td>0</td>\n",
       "      <td>0</td>\n",
       "      <td>0</td>\n",
       "      <td>0</td>\n",
       "      <td>...</td>\n",
       "      <td>0</td>\n",
       "      <td>0</td>\n",
       "      <td>0</td>\n",
       "      <td>0</td>\n",
       "      <td>0</td>\n",
       "      <td>0</td>\n",
       "      <td>0</td>\n",
       "      <td>0</td>\n",
       "      <td>0</td>\n",
       "      <td>0</td>\n",
       "    </tr>\n",
       "    <tr>\n",
       "      <th>4</th>\n",
       "      <td>64</td>\n",
       "      <td>0</td>\n",
       "      <td>0</td>\n",
       "      <td>0</td>\n",
       "      <td>0</td>\n",
       "      <td>0</td>\n",
       "      <td>0</td>\n",
       "      <td>0</td>\n",
       "      <td>0</td>\n",
       "      <td>0</td>\n",
       "      <td>...</td>\n",
       "      <td>0</td>\n",
       "      <td>0</td>\n",
       "      <td>0</td>\n",
       "      <td>1</td>\n",
       "      <td>0</td>\n",
       "      <td>0</td>\n",
       "      <td>0</td>\n",
       "      <td>0</td>\n",
       "      <td>0</td>\n",
       "      <td>1</td>\n",
       "    </tr>\n",
       "  </tbody>\n",
       "</table>\n",
       "<p>5 rows × 12022 columns</p>\n",
       "</div>"
      ],
      "text/plain": [
       "   id  casusluk  new.york.city  nigerian.cinema  X007  X12th.century  \\\n",
       "0   6         0              0                0     0              0   \n",
       "1  15         0              0                0     0              0   \n",
       "2  25         0              0                0     0              0   \n",
       "3  33         0              0                0     0              0   \n",
       "4  64         0              0                0     0              0   \n",
       "\n",
       "   X15th.birthday  X15th.century  X16th.century  X17th.century   ...    triad  \\\n",
       "0               0              0              0              0   ...        0   \n",
       "1               0              0              0              0   ...        0   \n",
       "2               0              0              0              0   ...        0   \n",
       "3               0              0              0              0   ...        0   \n",
       "4               0              0              0              0   ...        0   \n",
       "\n",
       "   triads  trial  group5  group4  group7  group6  group1  group3  group2  \n",
       "0       0      0       0       0       0       1       0       0       1  \n",
       "1       0      0       0       0       0       0       0       0       1  \n",
       "2       0      0       0       0       0       0       1       0       1  \n",
       "3       0      0       0       0       0       0       0       0       0  \n",
       "4       0      0       1       0       0       0       0       0       1  \n",
       "\n",
       "[5 rows x 12022 columns]"
      ]
     },
     "execution_count": 11,
     "metadata": {},
     "output_type": "execute_result"
    }
   ],
   "source": [
    "data.head()"
   ]
  },
  {
   "cell_type": "code",
   "execution_count": 16,
   "metadata": {
    "collapsed": true,
    "scrolled": true
   },
   "outputs": [],
   "source": [
    "#### create training and testing sets\n",
    "msk = np.random.rand(len(data)) < 0.8\n",
    "train = data[msk]\n",
    "test = data[~msk]"
   ]
  },
  {
   "cell_type": "code",
   "execution_count": 132,
   "metadata": {
    "collapsed": true,
    "scrolled": true
   },
   "outputs": [],
   "source": [
    "# select keyword columns\n",
    "col_names= list(train1.columns.values)\n",
    "#this is columns 16 to 12045\n",
    "keyword_columns= col_names[2:-7]\n",
    "\n",
    "#want cols Res to be genre type\n",
    "colsRes1 = ['group1']\n",
    "colsRes2 = ['group2']\n",
    "colsRes3 = ['group3']\n",
    "colsRes4 = ['group4']\n",
    "colsRes5 = ['group5']\n",
    "colsRes6 = ['group6']\n",
    "colsRes7 = ['group7']"
   ]
  },
  {
   "cell_type": "code",
   "execution_count": 138,
   "metadata": {
    "collapsed": true,
    "scrolled": true
   },
   "outputs": [],
   "source": [
    "trainArr = train1.as_matrix(keyword_columns) #training array\n",
    "trainRes1 = train1.as_matrix(colsRes1) \n",
    "trainRes2 = train1.as_matrix(colsRes2)\n",
    "trainRes3 = train1.as_matrix(colsRes3)\n",
    "trainRes4 = train1.as_matrix(colsRes4)\n",
    "trainRes5 = train1.as_matrix(colsRes5)\n",
    "trainRes6 = train1.as_matrix(colsRes6)\n",
    "trainRes7 = train1.as_matrix(colsRes7)"
   ]
  },
  {
   "cell_type": "code",
   "execution_count": 156,
   "metadata": {
    "collapsed": true,
    "scrolled": true
   },
   "outputs": [
    {
     "name": "stdout",
     "output_type": "stream",
     "text": [
      "[1]\n",
      "[2]\n",
      "[3]\n",
      "[4]\n",
      "[5]\n",
      "[6]\n",
      "[7]\n"
     ]
    }
   ],
   "source": [
    "trainsets = [trainRes1, trainRes2, trainRes3, trainRes4, trainRes5, trainRes6, trainRes7]"
   ]
  },
  {
   "cell_type": "code",
   "execution_count": 18,
   "metadata": {
    "collapsed": true,
    "scrolled": true
   },
   "outputs": [],
   "source": [
    "# select keyword columns\n",
    "col_names= list(train.columns.values)\n",
    "#this is columns 16 to 12045\n",
    "keyword_columns= col_names[2:-7]\n",
    "\n",
    "X_train = train.as_matrix(keyword_columns) #training array\n",
    "X_test = test.as_matrix(keyword_columns) #training array"
   ]
  },
  {
   "cell_type": "markdown",
   "metadata": {},
   "source": [
    "'group1': [\"War\",\"History\"]\n",
    "\n",
    "'group2': [\"Crime\",\"Mystery\",\"Thriller\",\"Drama\",\"Horror\"]\n",
    "\n",
    "'group3': [\"Fantasy\"]\n",
    "\n",
    "'group4': [\"Family\",\"Animation\"]\n",
    "\n",
    "'group5': [\"Romance\",\"Music\"]\n",
    "\n",
    "'group6': [\"Science Fiction\",\"Action\",\"Adventure\"]\n",
    "\n",
    "'group7': [\"Comedy\"]"
   ]
  },
  {
   "cell_type": "code",
   "execution_count": 32,
   "metadata": {
    "collapsed": false,
    "scrolled": false
   },
   "outputs": [
    {
     "name": "stdout",
     "output_type": "stream",
     "text": [
      "\n",
      "GENRE  1 \n",
      "=====================\n",
      "\n"
     ]
    },
    {
     "data": {
      "image/png": "[encoded data removed]",
      "text/plain": [
       "<matplotlib.figure.Figure at 0x118afceb8>"
      ]
     },
     "metadata": {},
     "output_type": "display_data"
    },
    {
     "name": "stdout",
     "output_type": "stream",
     "text": [
      "Feature ranking:\n",
      "1 :  humanoid.robot\n",
      "2 :  mountain.climbing\n",
      "3 :  canine\n",
      "4 :  pirate.ship\n",
      "5 :  car.theft\n",
      "6 :  human.animal.relationship\n",
      "7 :  mods\n",
      "8 :  gang.leader\n",
      "9 :  cycle\n",
      "10 :  muscle.car\n",
      "\n",
      "GENRE  2 \n",
      "=====================\n",
      "\n"
     ]
    },
    {
     "data": {
      "image/png": "[encoded data removed]",
      "text/plain": [
       "<matplotlib.figure.Figure at 0x11a3512b0>"
      ]
     },
     "metadata": {},
     "output_type": "display_data"
    },
    {
     "name": "stdout",
     "output_type": "stream",
     "text": [
      "Feature ranking:\n",
      "1 :  corpse.in.freezer\n",
      "2 :  boat.accident\n",
      "3 :  based.on.radio.show\n",
      "4 :  dance.crew\n",
      "5 :  cult.figure\n",
      "6 :  defeat\n",
      "7 :  blood.on.shirt\n",
      "8 :  nightlife\n",
      "9 :  expert\n",
      "10 :  don.quixote\n",
      "\n",
      "GENRE  3 \n",
      "=====================\n",
      "\n"
     ]
    },
    {
     "data": {
      "image/png": "[encoded data removed]",
      "text/plain": [
       "<matplotlib.figure.Figure at 0x115022828>"
      ]
     },
     "metadata": {},
     "output_type": "display_data"
    },
    {
     "name": "stdout",
     "output_type": "stream",
     "text": [
      "Feature ranking:\n",
      "1 :  albatros\n",
      "2 :  king.of.england\n",
      "3 :  bank.manager\n",
      "4 :  reality.tv\n",
      "5 :  skopje\n",
      "6 :  incommunicability\n",
      "7 :  nursing.home\n",
      "8 :  pinhead\n",
      "9 :  separation\n",
      "10 :  half.breed\n",
      "\n",
      "GENRE  4 \n",
      "=====================\n",
      "\n"
     ]
    },
    {
     "data": {
      "image/png": "[encoded data removed]",
      "text/plain": [
       "<matplotlib.figure.Figure at 0x11b56b780>"
      ]
     },
     "metadata": {},
     "output_type": "display_data"
    },
    {
     "name": "stdout",
     "output_type": "stream",
     "text": [
      "Feature ranking:\n",
      "1 :  monkey.warrior\n",
      "2 :  letter.opener\n",
      "3 :  disobeying.orders\n",
      "4 :  fjord\n",
      "5 :  female.prime.minister\n",
      "6 :  stephen.king\n",
      "7 :  bosnian.war\n",
      "8 :  dining.hall\n",
      "9 :  guinevere\n",
      "10 :  challenger\n",
      "\n",
      "GENRE  5 \n",
      "=====================\n",
      "\n"
     ]
    },
    {
     "data": {
      "image/png": "[encoded data removed]",
      "text/plain": [
       "<matplotlib.figure.Figure at 0x11c671080>"
      ]
     },
     "metadata": {},
     "output_type": "display_data"
    },
    {
     "name": "stdout",
     "output_type": "stream",
     "text": [
      "Feature ranking:\n",
      "1 :  freedom.fighter\n",
      "2 :  holocaust\n",
      "3 :  bourbon\n",
      "4 :  apache\n",
      "5 :  hipster\n",
      "6 :  drone.operators\n",
      "7 :  hunting.trip\n",
      "8 :  expectant.father\n",
      "9 :  medium\n",
      "10 :  cruise.liner.starship\n",
      "\n",
      "GENRE  6 \n",
      "=====================\n",
      "\n"
     ]
    },
    {
     "data": {
      "image/png": "[encoded data removed]",
      "text/plain": [
       "<matplotlib.figure.Figure at 0x118edc908>"
      ]
     },
     "metadata": {},
     "output_type": "display_data"
    },
    {
     "name": "stdout",
     "output_type": "stream",
     "text": [
      "Feature ranking:\n",
      "1 :  pistol.duel\n",
      "2 :  crime.novelist\n",
      "3 :  overleven\n",
      "4 :  human.rights\n",
      "5 :  comic.book.collector\n",
      "6 :  fjord\n",
      "7 :  avante.garde.art\n",
      "8 :  beauty.pageant\n",
      "9 :  lottery\n",
      "10 :  daredevil\n",
      "\n",
      "GENRE  7 \n",
      "=====================\n",
      "\n"
     ]
    },
    {
     "data": {
      "image/png": "[encoded data removed]",
      "text/plain": [
       "<matplotlib.figure.Figure at 0x11b748cf8>"
      ]
     },
     "metadata": {},
     "output_type": "display_data"
    },
    {
     "name": "stdout",
     "output_type": "stream",
     "text": [
      "Feature ranking:\n",
      "1 :  child.s.point.of.view\n",
      "2 :  overdose\n",
      "3 :  mooning\n",
      "4 :  scat\n",
      "5 :  demo\n",
      "6 :  mistress\n",
      "7 :  charlatan\n",
      "8 :  cthulhu\n",
      "9 :  national.lampoon.serie\n",
      "10 :  moonshine\n"
     ]
    }
   ],
   "source": [
    "for i in range(1,8):\n",
    "    \n",
    "    print('\\nGENRE ', i, \"\\n=====================\\n\")\n",
    "    Y_train = train['group' + str(i)].values\n",
    "    \n",
    "    rf = RandomForestClassifier(n_estimators=100)\n",
    "    clf = RandomForestClassifier(n_estimators=20, max_depth=5)\n",
    "    clf.fit(X_train, Y_train)\n",
    "    \n",
    "    # extract out feature importances\n",
    "    importances = clf.feature_importances_\n",
    "    std = np.std([tree.feature_importances_ for tree in clf.estimators_],\n",
    "             axis=0)\n",
    "    indices = np.argsort(importances)[::-1]\n",
    "    \n",
    "    plt.figure()\n",
    "    # plot the feature importances of the forest\n",
    "    plt.title(\"Feature importances for genre \" + str(i))\n",
    "    plt.bar(range(20), importances[indices[:20]],\n",
    "       color=\"r\", yerr=std[indices[:20]], align=\"center\")\n",
    "    plt.xticks(range(20), indices, )\n",
    "    plt.show()\n",
    "    \n",
    "    # print the feature ranking\n",
    "    print(\"Feature ranking:\")\n",
    "    for indx, i in enumerate(indices[:10]):\n",
    "        print (indx+1, \": \", keyword_columns[i])"
   ]
  },
  {
   "cell_type": "code",
   "execution_count": 35,
   "metadata": {
    "collapsed": true,
    "scrolled": true
   },
   "outputs": [],
   "source": [
    "X_test = test.as_matrix(keyword_columns)\n",
    "Y_test = test.as_matrix(col_names[-7:])\n",
    "Y_train = train.as_matrix(col_names[-7:])"
   ]
  },
  {
   "cell_type": "code",
   "execution_count": 41,
   "metadata": {
    "collapsed": false,
    "scrolled": true
   },
   "outputs": [],
   "source": [
    "## Prediction \n",
    "rf = RandomForestClassifier(n_estimators=100)\n",
    "y_test_pred = OneVsRestClassifier(rf).fit(X_train, Y_train).predict(X_test)"
   ]
  },
  {
   "cell_type": "code",
   "execution_count": 42,
   "metadata": {
    "collapsed": false,
    "scrolled": true
   },
   "outputs": [],
   "source": [
    "# These are how we measure error - Haming Loss, % exact matches and % at-least-one match\n",
    "def error_measures(ypred, ytest):\n",
    "    ypred = np.array(ypred)\n",
    "    ytest = np.array(ytest)\n",
    "    # Hamming loss\n",
    "    from sklearn.metrics import hamming_loss\n",
    "    h_loss = hamming_loss(ytest, ypred)\n",
    "\n",
    "    # Percent exact matches\n",
    "    y_pred_str = np.array([str(yi) for yi in ypred])\n",
    "    y_test_str = np.array([str(yi) for yi in ytest])\n",
    "    percent_exact = np.sum(y_pred_str == y_test_str) * 1. / ytest.shape[0]\n",
    "    \n",
    "    # Percent at least one match (at least one of the genres are both 1)\n",
    "    atleastone_count = 0\n",
    "    for ind in range(len(ypred)):\n",
    "        yi_pred = ypred[ind]\n",
    "        yi_test = ytest[ind]\n",
    "        for i in range(len(yi_pred)):\n",
    "            if yi_pred[i] == 1 and yi_test[i] == 1:\n",
    "                atleastone_count += 1\n",
    "                break\n",
    "    percent_atleastone = atleastone_count * 1. / ytest.shape[0]\n",
    "    \n",
    "    return h_loss, percent_exact, percent_atleastone"
   ]
  },
  {
   "cell_type": "code",
   "execution_count": 44,
   "metadata": {
    "collapsed": false,
    "scrolled": true
   },
   "outputs": [
    {
     "data": {
      "text/plain": [
       "(0.19137466307277629, 0.27830188679245282, 0.7629716981132075)"
      ]
     },
     "execution_count": 44,
     "metadata": {},
     "output_type": "execute_result"
    }
   ],
   "source": [
    "error_measures(Y_test, y_test_pred)"
   ]
  },
  {
   "cell_type": "markdown",
   "metadata": {
    "collapsed": true
   },
   "source": [
    "The precentage exact match is much higher than with SVM although the percent at least one and hamming loss are lower"
   ]
  },
  {
   "cell_type": "code",
   "execution_count": null,
   "metadata": {
    "collapsed": true
   },
   "outputs": [],
   "source": []
  }
 ],
 "metadata": {
  "anaconda-cloud": {},
  "kernelspec": {
   "display_name": "Python [python3]",
   "language": "python",
   "name": "Python [python3]"
  },
  "language_info": {
   "codemirror_mode": {
    "name": "ipython",
    "version": 3
   },
   "file_extension": ".py",
   "mimetype": "text/x-python",
   "name": "python",
   "nbconvert_exporter": "python",
   "pygments_lexer": "ipython3",
   "version": "3.6.0"
  }
 },
 "nbformat": 4,
 "nbformat_minor": 1
}
